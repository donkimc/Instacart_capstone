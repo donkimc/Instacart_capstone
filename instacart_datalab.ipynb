{
 "cells": [
  {
   "cell_type": "markdown",
   "metadata": {},
   "source": [
    "# Instartcart Market Analysis\n",
    "*By Don Kim*\n",
    "\n",
    "`instacart`\n",
    "\n",
    "\n",
    "# Data Analysis Cycle\n",
    "---\n",
    "\n",
    "> <a href=\"#Reading-datasets\">1. Reading datasets</a><ul></ul>\n",
    "> <a href=\"#Initial-data-cleaning\">2. Initial data cleaning</a><ul></ul>\n",
    "> <a href=\"#Data-exploration\">3. Data exploration</a><ul></ul>\n",
    "> <a href=\"#Correlation\">4. Correlation</a><ul></ul>\n",
    "> <a href=\"#Association-rule\">5. Association rule</a><ul></ul>\n",
    "> <a href=\"#Customer-segmentation\">6. Customer segmentation</a><ul></ul>\n",
    "> <a href=\"#Decision-tree\">7. Decision Tree</a><ul></ul>\n",
    "\n",
    "# Datasets links\n",
    "<a href=\"https://storage.googleapis.com/instacart-datasets/aisles.csv\">aisles.csv</a><ul></ul>\n",
    "<a href=\"https://storage.googleapis.com/instacart-datasets/departments.csv\">departments.csv</a><ul></ul>\n",
    "<a href=\"https://storage.googleapis.com/instacart-datasets/order_products__prior.csv\">order_products__prior.csv</a><ul></ul>\n",
    "<a href=\"https://storage.googleapis.com/instacart-datasets/order_products__train.csv\">order_products__train.csv</a><ul></ul>\n",
    "<a href=\"https://storage.googleapis.com/instacart-datasets/orders.csv\">orders.csv</a><ul></ul>\n",
    "<a href=\"https://storage.googleapis.com/instacart-datasets/products.csv\">products.csv</a><ul></ul>\n",
    "\n",
    "[entire dataset from Instacart site](https://www.kaggle.com/c/instacart-market-basket-analysis/overview)\n"
   ]
  },
  {
   "cell_type": "markdown",
   "metadata": {},
   "source": [
    "---\n",
    "---"
   ]
  },
  {
   "cell_type": "markdown",
   "metadata": {},
   "source": [
    "# Reading datasets\n",
    "<a href=\"#Instartcart-Market-Analysis\">Back to top</a><ul></ul>"
   ]
  },
  {
   "cell_type": "code",
   "execution_count": 1,
   "metadata": {
    "colab": {
     "base_uri": "https://8080-dot-13041870-dot-devshell.appspot.com/",
     "height": 74
    },
    "colab_type": "code",
    "id": "dS_M8p3LzPKk",
    "outputId": "3f2522c6-02d1-46a3-c6f9-757b72623c0c"
   },
   "outputs": [],
   "source": [
    "import pandas as pd\n",
    "import seaborn as sns\n",
    "import matplotlib.pyplot as plt\n",
    "import numpy as np\n",
    "import scipy.stats as stats\n"
   ]
  },
  {
   "cell_type": "markdown",
   "metadata": {},
   "source": [
    "datasets are loaded locally."
   ]
  },
  {
   "cell_type": "code",
   "execution_count": 2,
   "metadata": {
    "colab": {},
    "colab_type": "code",
    "id": "n7P5P382zwBH"
   },
   "outputs": [],
   "source": [
    "aisles = pd.read_csv('/Users/donkim/Desktop/instacart-market-basket-analysis/aisles.csv')\n",
    "departments = pd.read_csv('/Users/donkim/Desktop/instacart-market-basket-analysis/departments.csv')\n",
    "order_products_prior = pd.read_csv('/Users/donkim/Desktop/instacart-market-basket-analysis/order_products__prior.csv')\n",
    "order_products_train = pd.read_csv('/Users/donkim/Desktop/instacart-market-basket-analysis/order_products__train.csv')\n",
    "orders = pd.read_csv('/Users/donkim/Desktop/instacart-market-basket-analysis/orders.csv')\n",
    "products = pd.read_csv('/Users/donkim/Desktop/instacart-market-basket-analysis/products.csv')\n",
    "df_list = []\n",
    "df_list.append(aisles)\n",
    "df_list.append(departments)\n",
    "df_list.append(order_products_prior)\n",
    "df_list.append(order_products_train)\n",
    "df_list.append(orders)\n",
    "df_list.append(products)"
   ]
  },
  {
   "cell_type": "markdown",
   "metadata": {},
   "source": [
    "---\n",
    "---"
   ]
  },
  {
   "cell_type": "markdown",
   "metadata": {
    "colab_type": "text",
    "id": "0mOWHKSuMS1b"
   },
   "source": [
    "# Initial data cleaning\n",
    "<a href=\"#Instartcart-Market-Analysis\">Back to top</a><ul></ul>"
   ]
  },
  {
   "cell_type": "markdown",
   "metadata": {},
   "source": [
    "It shows all the datatypes and number of null values in datasets. Null values are removed instead of replacing."
   ]
  },
  {
   "cell_type": "code",
   "execution_count": null,
   "metadata": {
    "colab": {
     "base_uri": "https://8080-dot-13041870-dot-devshell.appspot.com/",
     "height": 1000
    },
    "colab_type": "code",
    "id": "Ao9x1yjRWDLB",
    "outputId": "bd90771e-4081-44a0-f4ee-c5c0c55ee154"
   },
   "outputs": [
    {
     "name": "stdout",
     "output_type": "stream",
     "text": [
      "<class 'pandas.core.frame.DataFrame'>\n",
      "RangeIndex: 134 entries, 0 to 133\n",
      "Data columns (total 2 columns):\n",
      " #   Column    Non-Null Count  Dtype \n",
      "---  ------    --------------  ----- \n",
      " 0   aisle_id  134 non-null    int64 \n",
      " 1   aisle     134 non-null    object\n",
      "dtypes: int64(1), object(1)\n",
      "memory usage: 2.2+ KB\n",
      "None\n",
      "(134, 2)\n",
      " - NaN in dataset - \n",
      "aisle_id    0\n",
      "aisle       0\n",
      "dtype: int64\n",
      "\n",
      "<class 'pandas.core.frame.DataFrame'>\n",
      "RangeIndex: 21 entries, 0 to 20\n",
      "Data columns (total 2 columns):\n",
      " #   Column         Non-Null Count  Dtype \n",
      "---  ------         --------------  ----- \n",
      " 0   department_id  21 non-null     int64 \n",
      " 1   department     21 non-null     object\n",
      "dtypes: int64(1), object(1)\n",
      "memory usage: 464.0+ bytes\n",
      "None\n",
      "(21, 2)\n",
      " - NaN in dataset - \n",
      "department_id    0\n",
      "department       0\n",
      "dtype: int64\n",
      "\n",
      "<class 'pandas.core.frame.DataFrame'>\n",
      "RangeIndex: 32434489 entries, 0 to 32434488\n",
      "Data columns (total 4 columns):\n",
      " #   Column             Dtype\n",
      "---  ------             -----\n",
      " 0   order_id           int64\n",
      " 1   product_id         int64\n",
      " 2   add_to_cart_order  int64\n",
      " 3   reordered          int64\n",
      "dtypes: int64(4)\n",
      "memory usage: 989.8 MB\n",
      "None\n",
      "(32434489, 4)\n",
      " - NaN in dataset - \n",
      "order_id             0\n",
      "product_id           0\n",
      "add_to_cart_order    0\n",
      "reordered            0\n",
      "dtype: int64\n",
      "\n",
      "<class 'pandas.core.frame.DataFrame'>\n",
      "RangeIndex: 1384617 entries, 0 to 1384616\n",
      "Data columns (total 4 columns):\n",
      " #   Column             Non-Null Count    Dtype\n",
      "---  ------             --------------    -----\n",
      " 0   order_id           1384617 non-null  int64\n",
      " 1   product_id         1384617 non-null  int64\n",
      " 2   add_to_cart_order  1384617 non-null  int64\n",
      " 3   reordered          1384617 non-null  int64\n",
      "dtypes: int64(4)\n",
      "memory usage: 42.3 MB\n",
      "None\n",
      "(1384617, 4)\n",
      " - NaN in dataset - \n",
      "order_id             0\n",
      "product_id           0\n",
      "add_to_cart_order    0\n",
      "reordered            0\n",
      "dtype: int64\n",
      "\n",
      "<class 'pandas.core.frame.DataFrame'>\n",
      "RangeIndex: 3421083 entries, 0 to 3421082\n",
      "Data columns (total 7 columns):\n",
      " #   Column                  Dtype  \n",
      "---  ------                  -----  \n",
      " 0   order_id                int64  \n",
      " 1   user_id                 int64  \n",
      " 2   eval_set                object \n",
      " 3   order_number            int64  \n",
      " 4   order_dow               int64  \n",
      " 5   order_hour_of_day       int64  \n",
      " 6   days_since_prior_order  float64\n",
      "dtypes: float64(1), int64(5), object(1)\n",
      "memory usage: 182.7+ MB\n",
      "None\n",
      "(3421083, 7)\n",
      " - NaN in dataset - \n",
      "order_id                       0\n",
      "user_id                        0\n",
      "eval_set                       0\n",
      "order_number                   0\n",
      "order_dow                      0\n",
      "order_hour_of_day              0\n",
      "days_since_prior_order    206209\n",
      "dtype: int64\n",
      "\n",
      "<class 'pandas.core.frame.DataFrame'>\n",
      "RangeIndex: 49688 entries, 0 to 49687\n",
      "Data columns (total 4 columns):\n",
      " #   Column         Non-Null Count  Dtype \n",
      "---  ------         --------------  ----- \n",
      " 0   product_id     49688 non-null  int64 \n",
      " 1   product_name   49688 non-null  object\n",
      " 2   aisle_id       49688 non-null  int64 \n",
      " 3   department_id  49688 non-null  int64 \n",
      "dtypes: int64(3), object(1)\n",
      "memory usage: 1.5+ MB\n",
      "None\n",
      "(49688, 4)\n",
      " - NaN in dataset - \n",
      "product_id       0\n",
      "product_name     0\n",
      "aisle_id         0\n",
      "department_id    0\n",
      "dtype: int64\n",
      "\n",
      "[ 8  7 12 15  9 14 16 11 10 19 18 17 13 20  0 21 22  5 23  4  6  1  2  3]\n",
      "[2 3 4 1 5 0 6]\n",
      "[nan 15. 21. 29. 28. 19. 20. 14.  0. 30. 10.  3.  8. 13. 27.  6.  9. 12.\n",
      "  7. 17. 11. 22.  4.  5.  2. 23. 26. 25. 16.  1. 18. 24.]\n"
     ]
    }
   ],
   "source": [
    "for l in df_list:\n",
    "  print(l.info())\n",
    "  print(l.shape)\n",
    "  print(' - NaN in dataset - ')\n",
    "  print(l.isnull().sum())\n",
    "  print('--------------------------------------------')\n",
    "\n",
    "# orders.days_since_prior_order.dropna(axis=0, how='any',inplace=True)\n",
    "# orders['days_since_prior_order'] = orders.days_since_prior_order.astype(int)\n",
    "orders.days_since_prior_order.dropna(inplace=True)\n",
    "\n",
    "\n"
   ]
  },
  {
   "cell_type": "markdown",
   "metadata": {},
   "source": [
    "---\n",
    "---"
   ]
  },
  {
   "cell_type": "markdown",
   "metadata": {
    "colab_type": "text",
    "id": "AiVpxQefMI36"
   },
   "source": [
    "# Data exploration\n",
    "<a href=\"#Instartcart-Market-Analysis\">Back to top</a><ul></ul>"
   ]
  },
  {
   "cell_type": "markdown",
   "metadata": {},
   "source": [
    "## Plot of order demand during week over 24 hours\n",
    "\n",
    "It shows a plot of order count in 24 hours. Each line represents monday to sunday"
   ]
  },
  {
   "cell_type": "code",
   "execution_count": null,
   "metadata": {
    "colab": {
     "base_uri": "https://8080-dot-13041870-dot-devshell.appspot.com/",
     "height": 361
    },
    "colab_type": "code",
    "id": "hweZSBdu3okv",
    "outputId": "bfd056d0-541b-4e81-ba57-ac74c4fe3044"
   },
   "outputs": [
    {
     "data": {
      "image/png": "[encoded data removed]",
      "text/plain": [
       "<Figure size 720x360 with 1 Axes>"
      ]
     },
     "metadata": {
      "needs_background": "light",
      "tags": []
     },
     "output_type": "display_data"
    }
   ],
   "source": [
    "#\n",
    "path='/content/drive/My Drive/'\n",
    "plt.figure(figsize=(10,5))\n",
    "for i in range(0,7):\n",
    "  orders[orders['order_dow']==i].groupby('order_hour_of_day').size().plot()\n",
    "plt.legend(['Sun','Mon','Tue','Wed','Thur','Fri','Sat'])\n",
    "plt.title('order hour of day', fontsize= 20)\n",
    "plt.xlabel('order_hour_of_day', fontsize= 15) \n",
    "plt.ylabel('count', fontsize= 15)\n",
    "plt.xticks(range(0,24))\n",
    "plt.grid()\n",
    "#plt.savefig(path+'.png')\n",
    "plt.show()"
   ]
  },
  {
   "cell_type": "markdown",
   "metadata": {},
   "source": [
    "## Number of order in a week"
   ]
  },
  {
   "cell_type": "code",
   "execution_count": null,
   "metadata": {
    "colab": {
     "base_uri": "https://8080-dot-13041870-dot-devshell.appspot.com/",
     "height": 399
    },
    "colab_type": "code",
    "id": "ds2IQ0Hl5Pub",
    "outputId": "5eb954cb-9fde-4084-e4bb-65d6a547a2fc"
   },
   "outputs": [
    {
     "data": {
      "text/plain": [
       "(array([     0., 100000., 200000., 300000., 400000., 500000., 600000.,\n",
       "        700000.]), <a list of 8 Text major ticklabel objects>)"
      ]
     },
     "execution_count": 21,
     "metadata": {
      "tags": []
     },
     "output_type": "execute_result"
    },
    {
     "data": {
      "image/png": "[encoded data removed]",
      "text/plain": [
       "<Figure size 720x360 with 1 Axes>"
      ]
     },
     "metadata": {
      "needs_background": "light",
      "tags": []
     },
     "output_type": "display_data"
    }
   ],
   "source": [
    "plt.figure(figsize=(10,5))\n",
    "orders.groupby('order_dow').size().plot(kind=\"bar\")\n",
    "plt.title('order day of the week',fontsize=20)\n",
    "plt.xlabel('order in a day of the week',fontsize=15) \n",
    "plt.ylabel('count',fontsize=15)\n",
    "plt.xticks([0,1,2,3,4,5,6],['Sun','Mon','Tue','Wed','Thur','Fri','Sat'],rotation=0,fontsize=15)\n",
    "plt.yticks(fontsize=15)\n",
    "#plt.savefig(path+'.png')"
   ]
  },
  {
   "cell_type": "markdown",
   "metadata": {},
   "source": [
    "## Days since order has placed\n",
    "\n",
    "Plot shows how long the delay is when customer do next order. Pick order day is after 7 days. Anything over 30 days is in 30 days bar."
   ]
  },
  {
   "cell_type": "code",
   "execution_count": null,
   "metadata": {
    "colab": {
     "base_uri": "https://8080-dot-13041870-dot-devshell.appspot.com/",
     "height": 642
    },
    "colab_type": "code",
    "id": "bewewrkUZa4L",
    "outputId": "a3625d20-2630-4936-ef84-3ed766f6ee26"
   },
   "outputs": [
    {
     "data": {
      "text/plain": [
       "(array([ 0,  1,  2,  3,  4,  5,  6,  7,  8,  9, 10, 11, 12, 13, 14, 15, 16,\n",
       "        17, 18, 19, 20, 21, 22, 23, 24, 25, 26, 27, 28, 29, 30]),\n",
       " <a list of 31 Text major ticklabel objects>)"
      ]
     },
     "execution_count": 14,
     "metadata": {
      "tags": []
     },
     "output_type": "execute_result"
    },
    {
     "data": {
      "image/png": "[encoded data removed]",
      "text/plain": [
       "<Figure size 1440x720 with 1 Axes>"
      ]
     },
     "metadata": {
      "needs_background": "light",
      "tags": []
     },
     "output_type": "display_data"
    }
   ],
   "source": [
    "plt.figure(figsize=(20,10))\n",
    "orders.groupby('days_since_prior_order').size().plot(kind=\"bar\")\n",
    "plt.title('orders days since prior order', fontsize=20)\n",
    "plt.xlabel('Orders days since prior order', fontsize=15)\n",
    "plt.ylabel('count',fontsize =15)\n",
    "plt.xticks(rotation=0)\n",
    "\n"
   ]
  },
  {
   "cell_type": "markdown",
   "metadata": {},
   "source": [
    "## Finding top 10 selling products"
   ]
  },
  {
   "cell_type": "markdown",
   "metadata": {},
   "source": [
    "### - Merge dataset \n",
    "Merge dataset in order to find product name."
   ]
  },
  {
   "cell_type": "code",
   "execution_count": null,
   "metadata": {
    "colab": {
     "base_uri": "https://8080-dot-13041870-dot-devshell.appspot.com/",
     "height": 204
    },
    "colab_type": "code",
    "id": "YcOIjShAo8au",
    "outputId": "b71015f0-4912-45ff-f27b-432780f15e8f"
   },
   "outputs": [
    {
     "data": {
      "text/html": [
       "<div>\n",
       "<style scoped>\n",
       "    .dataframe tbody tr th:only-of-type {\n",
       "        vertical-align: middle;\n",
       "    }\n",
       "\n",
       "    .dataframe tbody tr th {\n",
       "        vertical-align: top;\n",
       "    }\n",
       "\n",
       "    .dataframe thead th {\n",
       "        text-align: right;\n",
       "    }\n",
       "</style>\n",
       "<table border=\"1\" class=\"dataframe\">\n",
       "  <thead>\n",
       "    <tr style=\"text-align: right;\">\n",
       "      <th></th>\n",
       "      <th>order_id</th>\n",
       "      <th>product_id</th>\n",
       "      <th>add_to_cart_order</th>\n",
       "      <th>reordered</th>\n",
       "      <th>product_name</th>\n",
       "      <th>aisle_id</th>\n",
       "      <th>department_id</th>\n",
       "    </tr>\n",
       "  </thead>\n",
       "  <tbody>\n",
       "    <tr>\n",
       "      <th>0</th>\n",
       "      <td>1</td>\n",
       "      <td>49302</td>\n",
       "      <td>1</td>\n",
       "      <td>1</td>\n",
       "      <td>Bulgarian Yogurt</td>\n",
       "      <td>120</td>\n",
       "      <td>16</td>\n",
       "    </tr>\n",
       "    <tr>\n",
       "      <th>1</th>\n",
       "      <td>816049</td>\n",
       "      <td>49302</td>\n",
       "      <td>7</td>\n",
       "      <td>1</td>\n",
       "      <td>Bulgarian Yogurt</td>\n",
       "      <td>120</td>\n",
       "      <td>16</td>\n",
       "    </tr>\n",
       "    <tr>\n",
       "      <th>2</th>\n",
       "      <td>1242203</td>\n",
       "      <td>49302</td>\n",
       "      <td>1</td>\n",
       "      <td>1</td>\n",
       "      <td>Bulgarian Yogurt</td>\n",
       "      <td>120</td>\n",
       "      <td>16</td>\n",
       "    </tr>\n",
       "    <tr>\n",
       "      <th>3</th>\n",
       "      <td>1383349</td>\n",
       "      <td>49302</td>\n",
       "      <td>11</td>\n",
       "      <td>1</td>\n",
       "      <td>Bulgarian Yogurt</td>\n",
       "      <td>120</td>\n",
       "      <td>16</td>\n",
       "    </tr>\n",
       "    <tr>\n",
       "      <th>4</th>\n",
       "      <td>1787378</td>\n",
       "      <td>49302</td>\n",
       "      <td>8</td>\n",
       "      <td>0</td>\n",
       "      <td>Bulgarian Yogurt</td>\n",
       "      <td>120</td>\n",
       "      <td>16</td>\n",
       "    </tr>\n",
       "  </tbody>\n",
       "</table>\n",
       "</div>"
      ],
      "text/plain": [
       "   order_id  product_id  ...  aisle_id  department_id\n",
       "0         1       49302  ...       120             16\n",
       "1    816049       49302  ...       120             16\n",
       "2   1242203       49302  ...       120             16\n",
       "3   1383349       49302  ...       120             16\n",
       "4   1787378       49302  ...       120             16\n",
       "\n",
       "[5 rows x 7 columns]"
      ]
     },
     "execution_count": 36,
     "metadata": {
      "tags": []
     },
     "output_type": "execute_result"
    }
   ],
   "source": [
    "new_train = pd.merge(order_products_train, products, on='product_id')\n",
    "new_train.head()"
   ]
  },
  {
   "cell_type": "markdown",
   "metadata": {},
   "source": [
    "### - Plot of 10 selling products"
   ]
  },
  {
   "cell_type": "code",
   "execution_count": null,
   "metadata": {
    "colab": {
     "base_uri": "https://8080-dot-13041870-dot-devshell.appspot.com/",
     "height": 572
    },
    "colab_type": "code",
    "id": "pMkc8nhPazN2",
    "outputId": "63a550cc-7b48-47b4-b762-2ce1a7e8b52c"
   },
   "outputs": [
    {
     "ename": "TypeError",
     "evalue": "ignored",
     "output_type": "error",
     "traceback": [
      "\u001b[0;31m---------------------------------------------------------------------------\u001b[0m",
      "\u001b[0;31mTypeError\u001b[0m                                 Traceback (most recent call last)",
      "\u001b[0;32m<ipython-input-8-624eef766e50>\u001b[0m in \u001b[0;36m<module>\u001b[0;34m()\u001b[0m\n\u001b[1;32m     10\u001b[0m \u001b[0mp\u001b[0m \u001b[0;34m=\u001b[0m \u001b[0mdf2\u001b[0m\u001b[0;34m.\u001b[0m\u001b[0mplot\u001b[0m\u001b[0;34m.\u001b[0m\u001b[0mbar\u001b[0m\u001b[0;34m(\u001b[0m\u001b[0;34m)\u001b[0m\u001b[0;34m\u001b[0m\u001b[0;34m\u001b[0m\u001b[0m\n\u001b[1;32m     11\u001b[0m \u001b[0mp\u001b[0m\u001b[0;34m.\u001b[0m\u001b[0mlegend\u001b[0m\u001b[0;34m(\u001b[0m\u001b[0;34m)\u001b[0m\u001b[0;34m.\u001b[0m\u001b[0mremove\u001b[0m\u001b[0;34m(\u001b[0m\u001b[0;34m)\u001b[0m\u001b[0;34m\u001b[0m\u001b[0;34m\u001b[0m\u001b[0m\n\u001b[0;32m---> 12\u001b[0;31m \u001b[0mp\u001b[0m\u001b[0;34m.\u001b[0m\u001b[0mtitle\u001b[0m\u001b[0;34m(\u001b[0m\u001b[0;34m'Top 10 selling products'\u001b[0m\u001b[0;34m)\u001b[0m\u001b[0;34m\u001b[0m\u001b[0;34m\u001b[0m\u001b[0m\n\u001b[0m",
      "\u001b[0;31mTypeError\u001b[0m: 'Text' object is not callable"
     ]
    },
    {
     "data": {
      "image/png": "[encoded data removed]",
      "text/plain": [
       "<Figure size 432x288 with 1 Axes>"
      ]
     },
     "metadata": {
      "needs_background": "light",
      "tags": []
     },
     "output_type": "display_data"
    }
   ],
   "source": [
    "#df = pd.DataFrame({'Product_ID':order_products_train.product_id.unique()})\n",
    "#df.groupby('Product_ID').count()\n",
    "#df\n",
    "#order_products_train.product_id.value_counts()\n",
    "#c = products[products.product_id.isin(df.index)].product_name\n",
    "# merge https://pandas.pydata.org/pandas-docs/stable/user_guide/merging.html\n",
    "new_train = pd.merge(order_products_prior, products, on='product_id')\n",
    "df = new_train.groupby('product_name').size().to_frame('size')\n",
    "df2 = df.sort_values(by='size', ascending=False).head(10)\n",
    "p = df2.plot.bar()\n",
    "p.legend().remove()\n",
    "p.title('Top 10 selling products')"
   ]
  },
  {
   "cell_type": "markdown",
   "metadata": {},
   "source": [
    "## Plot of reorder ratio\n",
    "58% products are reordered"
   ]
  },
  {
   "cell_type": "code",
   "execution_count": null,
   "metadata": {
    "colab": {
     "base_uri": "https://8080-dot-13041870-dot-devshell.appspot.com/",
     "height": 385
    },
    "colab_type": "code",
    "id": "wxWTPm8I1FJ6",
    "outputId": "ec6040f4-8293-4dca-e8ac-42405896992e"
   },
   "outputs": [
    {
     "name": "stdout",
     "output_type": "stream",
     "text": [
      "1    0.589697\n",
      "0    0.410303\n",
      "Name: reordered, dtype: float64\n"
     ]
    },
    {
     "data": {
      "image/png": "[encoded data removed]",
      "text/plain": [
       "<Figure size 720x360 with 1 Axes>"
      ]
     },
     "metadata": {
      "needs_background": "light",
      "tags": []
     },
     "output_type": "display_data"
    }
   ],
   "source": [
    "plt.figure(figsize=(10,5))\n",
    "order_products_train.head()\n",
    "#df.plot.bar( y='size', rot =0)\n",
    "order_products_prior.reordered.value_counts(normalize=True).plot(kind=\"bar\",alpha =0.5)\n",
    "plt.title('Reorder ratio',fontsize=15)\n",
    "print(order_products_prior.reordered.value_counts(normalize=True))"
   ]
  },
  {
   "cell_type": "markdown",
   "metadata": {},
   "source": [
    "## Distribution of number of order items\n",
    "\n",
    "Maximum number of order items is 145. Median size of order is 8.\n"
   ]
  },
  {
   "cell_type": "code",
   "execution_count": null,
   "metadata": {
    "colab": {
     "base_uri": "https://8080-dot-13041870-dot-devshell.appspot.com/",
     "height": 700
    },
    "colab_type": "code",
    "id": "lqVCJENk8trL",
    "outputId": "20a32e76-63d1-47b9-82ba-e1dd918cbc14"
   },
   "outputs": [
    {
     "name": "stdout",
     "output_type": "stream",
     "text": [
      "          size\n",
      "order_id      \n",
      "2            9\n",
      "3            8\n",
      "4           13\n",
      "5           26\n",
      "6            3\n",
      "               size\n",
      "count  3.214874e+06\n",
      "mean   1.008888e+01\n",
      "std    7.525398e+00\n",
      "min    1.000000e+00\n",
      "25%    5.000000e+00\n",
      "50%    8.000000e+00\n",
      "75%    1.400000e+01\n",
      "max    1.450000e+02\n",
      "median  size    8.0\n",
      "dtype: float64\n",
      "max size    145\n",
      "dtype: int64\n"
     ]
    },
    {
     "data": {
      "image/png": "[encoded data removed]",
      "text/plain": [
       "<Figure size 720x360 with 1 Axes>"
      ]
     },
     "metadata": {
      "needs_background": "light",
      "tags": []
     },
     "output_type": "display_data"
    }
   ],
   "source": [
    "\n",
    "df = order_products_prior.groupby('order_id').size().to_frame('size')\n",
    "#df2 = df.sort_values(by='size', ascending=False).head(30)\n",
    "#df2.plot.bar()\n",
    "#print(df2)\n",
    "#order_products_train.order_id.value_counts().plot(kind=\"bar\",alpha =0.5)\n",
    "#order_products_train.order_id.value_counts(\n",
    "plt.figure(figsize=(10,5))\n",
    "print(df.head())\n",
    "sns.distplot(df,hist=False)\n",
    "plt.title('Distribution of number of orders', fontsize =20)\n",
    "plt.xlabel('Number of orders', fontsize =15)\n",
    "print(df.describe())\n",
    "print('median ',df.median())\n",
    "print('max', df.max())\n"
   ]
  },
  {
   "cell_type": "markdown",
   "metadata": {},
   "source": [
    "## Number of orders for customers\n",
    "\n",
    "Customers orders at least 3 times."
   ]
  },
  {
   "cell_type": "code",
   "execution_count": null,
   "metadata": {
    "colab": {
     "base_uri": "https://8080-dot-13041870-dot-devshell.appspot.com/",
     "height": 528
    },
    "colab_type": "code",
    "id": "gAkkkd8CZVBP",
    "outputId": "e0cffac8-5c13-41b9-e1f5-5c31f722d378"
   },
   "outputs": [
    {
     "data": {
      "text/plain": [
       "Text(0.5, 0, 'Order numbers')"
      ]
     },
     "execution_count": 28,
     "metadata": {
      "tags": []
     },
     "output_type": "execute_result"
    },
    {
     "data": {
      "image/png": "[encoded data removed]",
      "text/plain": [
       "<Figure size 1440x720 with 1 Axes>"
      ]
     },
     "metadata": {
      "needs_background": "light",
      "tags": []
     },
     "output_type": "display_data"
    }
   ],
   "source": [
    "plt.figure(figsize=(20,10))\n",
    "orders.order_number.value_counts(normalize=False).plot(kind=\"bar\",alpha =0.5)\n",
    "\n",
    "plt.title('Number of orders for customers',fontsize=20)\n",
    "plt.xlabel('Order numbers',fontsize=15)\n",
    "# It shows that cusotmer orders at least 3 times and more."
   ]
  },
  {
   "cell_type": "markdown",
   "metadata": {},
   "source": [
    "\n",
    "## Pie chart of product distribution\n",
    "\n",
    "Produce, daily eggs, snack and beverage are over 50% of product sold.\n",
    "\n"
   ]
  },
  {
   "cell_type": "code",
   "execution_count": 52,
   "metadata": {
    "colab": {
     "base_uri": "https://8080-dot-13041870-dot-devshell.appspot.com/",
     "height": 1000
    },
    "colab_type": "code",
    "id": "6I-WhtObZTzi",
    "outputId": "71b337cc-b86e-40ae-a249-4d4f9cb75194"
   },
   "outputs": [
    {
     "data": {
      "text/plain": [
       "([<matplotlib.patches.Wedge at 0x1b73d18690>,\n",
       "  <matplotlib.patches.Wedge at 0x1b73d18e50>,\n",
       "  <matplotlib.patches.Wedge at 0x1b73d20650>,\n",
       "  <matplotlib.patches.Wedge at 0x1b73d20e50>,\n",
       "  <matplotlib.patches.Wedge at 0x1b73d29890>,\n",
       "  <matplotlib.patches.Wedge at 0x1b73d34150>,\n",
       "  <matplotlib.patches.Wedge at 0x1b73ced4d0>,\n",
       "  <matplotlib.patches.Wedge at 0x1b73d34e90>,\n",
       "  <matplotlib.patches.Wedge at 0x1b73d3e690>,\n",
       "  <matplotlib.patches.Wedge at 0x1b73d29ed0>,\n",
       "  <matplotlib.patches.Wedge at 0x1b73d4a550>,\n",
       "  <matplotlib.patches.Wedge at 0x1b73d4ad10>,\n",
       "  <matplotlib.patches.Wedge at 0x1b73d54510>,\n",
       "  <matplotlib.patches.Wedge at 0x1b73d54cd0>,\n",
       "  <matplotlib.patches.Wedge at 0x1b754954d0>,\n",
       "  <matplotlib.patches.Wedge at 0x1b75495c90>,\n",
       "  <matplotlib.patches.Wedge at 0x1b754a1490>,\n",
       "  <matplotlib.patches.Wedge at 0x1b754a1c50>,\n",
       "  <matplotlib.patches.Wedge at 0x1b754ab450>,\n",
       "  <matplotlib.patches.Wedge at 0x1b754abc10>,\n",
       "  <matplotlib.patches.Wedge at 0x1b754b6410>],\n",
       " [Text(0.6680107956168984, 0.8739345381315918, 'produce'),\n",
       "  Text(-0.7813301447473172, 0.7742888381664407, 'dairy eggs'),\n",
       "  Text(-1.0997036040614931, -0.025533961975437093, 'snacks'),\n",
       "  Text(-0.929949414726075, -0.5875322000117363, 'beverages'),\n",
       "  Text(-0.5562240525522754, -0.949007272555023, 'frozen'),\n",
       "  Text(-0.14462287136854038, -1.0904513859302114, 'pantry'),\n",
       "  Text(0.17936859203453256, -1.0852773416005466, 'bakery'),\n",
       "  Text(0.40926728358851094, -1.021029035132734, 'canned goods'),\n",
       "  Text(0.6087978507482359, -0.916168749152867, 'deli'),\n",
       "  Text(0.7675383742555044, -0.7879624636016728, 'dry goods pasta'),\n",
       "  Text(0.8803045342869532, -0.659593759001577, 'household'),\n",
       "  Text(0.9638794655266397, -0.5300343158099101, 'breakfast'),\n",
       "  Text(1.0273913179752587, -0.3930230015521494, 'meat seafood'),\n",
       "  Text(1.0648739543951256, -0.27575978903909826, 'personal care'),\n",
       "  Text(1.0843221007029922, -0.18505561846928756, 'babies'),\n",
       "  Text(1.0942931529637745, -0.1119039560364211, 'international'),\n",
       "  Text(1.0979580740896553, -0.06699304099184727, 'alcohol'),\n",
       "  Text(1.099263806043585, -0.04023785186328497, 'pets'),\n",
       "  Text(1.0997705550753378, -0.022466112019734856, 'missing'),\n",
       "  Text(1.0999426362912312, -0.011233737966351348, 'other'),\n",
       "  Text(1.0999938320311973, -0.0036836793186330766, 'bulk')],\n",
       " [Text(0.3643695248819445, 0.47669156625359543, '29.2%'),\n",
       "  Text(-0.4261800789530821, 0.42233936627260393, '16.7%'),\n",
       "  Text(-0.599838329488087, -0.013927615622965685, '8.9%'),\n",
       "  Text(-0.5072451353051317, -0.32047210909731066, '8.3%'),\n",
       "  Text(-0.3033949377557865, -0.5176403304845579, '6.9%'),\n",
       "  Text(-0.07888520256465838, -0.5947916650528425, '5.8%'),\n",
       "  Text(0.09783741383701774, -0.5919694590548435, '3.6%'),\n",
       "  Text(0.22323670013918775, -0.5569249282542185, '3.3%'),\n",
       "  Text(0.33207155495358315, -0.49972840862883644, '3.2%'),\n",
       "  Text(0.4186572950484569, -0.4297977074190942, '2.7%'),\n",
       "  Text(0.4801661096110653, -0.3597784140008602, '2.3%'),\n",
       "  Text(0.5257524357418034, -0.2891096268054055, '2.2%'),\n",
       "  Text(0.5603952643501411, -0.21437618266480876, '2.2%'),\n",
       "  Text(0.5808403387609775, -0.1504144303849627, '1.4%'),\n",
       "  Text(0.5914484185652683, -0.10093942825597502, '1.3%'),\n",
       "  Text(0.596887174343877, -0.0610385214744115, '0.8%'),\n",
       "  Text(0.598886222230721, -0.03654165872282578, '0.5%'),\n",
       "  Text(0.5995984396601373, -0.021947919198155436, '0.3%'),\n",
       "  Text(0.5998748482229115, -0.012254242919855376, '0.2%'),\n",
       "  Text(0.5999687107043078, -0.006127493436191644, '0.1%'),\n",
       "  Text(0.5999966356533802, -0.0020092796283453142, '0.1%')])"
      ]
     },
     "execution_count": 52,
     "metadata": {},
     "output_type": "execute_result"
    },
    {
     "data": {
      "image/png": "[encoded data removed]",
      "text/plain": [
       "<Figure size 1440x720 with 1 Axes>"
      ]
     },
     "metadata": {},
     "output_type": "display_data"
    }
   ],
   "source": [
    "p_df=pd.merge(products,departments,on='department_id')\n",
    "p_df=pd.merge(p_df,aisles, on ='aisle_id')\n",
    "o_df=pd.merge(p_df,order_products_prior,on = 'product_id')\n",
    "plt.figure(figsize=(20,10))\n",
    "result = o_df['department'].value_counts(normalize=True)\n",
    "plt.pie(result,labels=result.index, autopct='%1.1f%%')"
   ]
  },
  {
   "cell_type": "markdown",
   "metadata": {},
   "source": [
    "---\n",
    "---"
   ]
  },
  {
   "cell_type": "markdown",
   "metadata": {
    "colab_type": "text",
    "id": "buGNTgDIMB7_"
   },
   "source": [
    "# Correlation\n",
    "<a href=\"#Instartcart-Market-Analysis\">Back to top</a><ul></ul>"
   ]
  },
  {
   "cell_type": "markdown",
   "metadata": {},
   "source": [
    "### Correlation of orders"
   ]
  },
  {
   "cell_type": "code",
   "execution_count": 51,
   "metadata": {
    "colab": {
     "base_uri": "https://8080-dot-13041870-dot-devshell.appspot.com/",
     "height": 615
    },
    "colab_type": "code",
    "id": "4qXsvDvnNaes",
    "outputId": "5cbdf4b6-0c54-4ca3-8363-bfa7bafaddc9"
   },
   "outputs": [
    {
     "data": {
      "text/html": [
       "<style  type=\"text/css\" >\n",
       "    #T_4637cc00_c0bd_11ea_9735_542696d0d73brow0_col0 {\n",
       "            background-color:  #b40426;\n",
       "            color:  #f1f1f1;\n",
       "        }    #T_4637cc00_c0bd_11ea_9735_542696d0d73brow0_col1 {\n",
       "            background-color:  #465ecf;\n",
       "            color:  #f1f1f1;\n",
       "        }    #T_4637cc00_c0bd_11ea_9735_542696d0d73brow0_col2 {\n",
       "            background-color:  #3b4cc0;\n",
       "            color:  #f1f1f1;\n",
       "        }    #T_4637cc00_c0bd_11ea_9735_542696d0d73brow0_col3 {\n",
       "            background-color:  #3b4cc0;\n",
       "            color:  #f1f1f1;\n",
       "        }    #T_4637cc00_c0bd_11ea_9735_542696d0d73brow0_col4 {\n",
       "            background-color:  #4055c8;\n",
       "            color:  #f1f1f1;\n",
       "        }    #T_4637cc00_c0bd_11ea_9735_542696d0d73brow1_col0 {\n",
       "            background-color:  #96b7ff;\n",
       "            color:  #000000;\n",
       "        }    #T_4637cc00_c0bd_11ea_9735_542696d0d73brow1_col1 {\n",
       "            background-color:  #b40426;\n",
       "            color:  #f1f1f1;\n",
       "        }    #T_4637cc00_c0bd_11ea_9735_542696d0d73brow1_col2 {\n",
       "            background-color:  #465ecf;\n",
       "            color:  #f1f1f1;\n",
       "        }    #T_4637cc00_c0bd_11ea_9735_542696d0d73brow1_col3 {\n",
       "            background-color:  #8badfd;\n",
       "            color:  #000000;\n",
       "        }    #T_4637cc00_c0bd_11ea_9735_542696d0d73brow1_col4 {\n",
       "            background-color:  #3b4cc0;\n",
       "            color:  #f1f1f1;\n",
       "        }    #T_4637cc00_c0bd_11ea_9735_542696d0d73brow2_col0 {\n",
       "            background-color:  #89acfd;\n",
       "            color:  #000000;\n",
       "        }    #T_4637cc00_c0bd_11ea_9735_542696d0d73brow2_col1 {\n",
       "            background-color:  #445acc;\n",
       "            color:  #f1f1f1;\n",
       "        }    #T_4637cc00_c0bd_11ea_9735_542696d0d73brow2_col2 {\n",
       "            background-color:  #b40426;\n",
       "            color:  #f1f1f1;\n",
       "        }    #T_4637cc00_c0bd_11ea_9735_542696d0d73brow2_col3 {\n",
       "            background-color:  #92b4fe;\n",
       "            color:  #000000;\n",
       "        }    #T_4637cc00_c0bd_11ea_9735_542696d0d73brow2_col4 {\n",
       "            background-color:  #3f53c6;\n",
       "            color:  #f1f1f1;\n",
       "        }    #T_4637cc00_c0bd_11ea_9735_542696d0d73brow3_col0 {\n",
       "            background-color:  #3b4cc0;\n",
       "            color:  #f1f1f1;\n",
       "        }    #T_4637cc00_c0bd_11ea_9735_542696d0d73brow3_col1 {\n",
       "            background-color:  #3b4cc0;\n",
       "            color:  #f1f1f1;\n",
       "        }    #T_4637cc00_c0bd_11ea_9735_542696d0d73brow3_col2 {\n",
       "            background-color:  #455cce;\n",
       "            color:  #f1f1f1;\n",
       "        }    #T_4637cc00_c0bd_11ea_9735_542696d0d73brow3_col3 {\n",
       "            background-color:  #b40426;\n",
       "            color:  #f1f1f1;\n",
       "        }    #T_4637cc00_c0bd_11ea_9735_542696d0d73brow3_col4 {\n",
       "            background-color:  #536edd;\n",
       "            color:  #000000;\n",
       "        }    #T_4637cc00_c0bd_11ea_9735_542696d0d73brow4_col0 {\n",
       "            background-color:  #92b4fe;\n",
       "            color:  #000000;\n",
       "        }    #T_4637cc00_c0bd_11ea_9735_542696d0d73brow4_col1 {\n",
       "            background-color:  #3b4cc0;\n",
       "            color:  #f1f1f1;\n",
       "        }    #T_4637cc00_c0bd_11ea_9735_542696d0d73brow4_col2 {\n",
       "            background-color:  #4358cb;\n",
       "            color:  #f1f1f1;\n",
       "        }    #T_4637cc00_c0bd_11ea_9735_542696d0d73brow4_col3 {\n",
       "            background-color:  #a1c0ff;\n",
       "            color:  #000000;\n",
       "        }    #T_4637cc00_c0bd_11ea_9735_542696d0d73brow4_col4 {\n",
       "            background-color:  #b40426;\n",
       "            color:  #f1f1f1;\n",
       "        }</style><table id=\"T_4637cc00_c0bd_11ea_9735_542696d0d73b\" ><thead>    <tr>        <th class=\"blank level0\" ></th>        <th class=\"col_heading level0 col0\" >order_number</th>        <th class=\"col_heading level0 col1\" >order_dow</th>        <th class=\"col_heading level0 col2\" >order_hour_of_day</th>        <th class=\"col_heading level0 col3\" >days_since_prior_order</th>        <th class=\"col_heading level0 col4\" >order_size</th>    </tr></thead><tbody>\n",
       "                <tr>\n",
       "                        <th id=\"T_4637cc00_c0bd_11ea_9735_542696d0d73blevel0_row0\" class=\"row_heading level0 row0\" >order_number</th>\n",
       "                        <td id=\"T_4637cc00_c0bd_11ea_9735_542696d0d73brow0_col0\" class=\"data row0 col0\" >1.000000</td>\n",
       "                        <td id=\"T_4637cc00_c0bd_11ea_9735_542696d0d73brow0_col1\" class=\"data row0 col1\" >0.015157</td>\n",
       "                        <td id=\"T_4637cc00_c0bd_11ea_9735_542696d0d73brow0_col2\" class=\"data row0 col2\" >-0.035910</td>\n",
       "                        <td id=\"T_4637cc00_c0bd_11ea_9735_542696d0d73brow0_col3\" class=\"data row0 col3\" >-0.360495</td>\n",
       "                        <td id=\"T_4637cc00_c0bd_11ea_9735_542696d0d73brow0_col4\" class=\"data row0 col4\" >-0.002118</td>\n",
       "            </tr>\n",
       "            <tr>\n",
       "                        <th id=\"T_4637cc00_c0bd_11ea_9735_542696d0d73blevel0_row1\" class=\"row_heading level0 row1\" >order_dow</th>\n",
       "                        <td id=\"T_4637cc00_c0bd_11ea_9735_542696d0d73brow1_col0\" class=\"data row1 col0\" >0.015157</td>\n",
       "                        <td id=\"T_4637cc00_c0bd_11ea_9735_542696d0d73brow1_col1\" class=\"data row1 col1\" >1.000000</td>\n",
       "                        <td id=\"T_4637cc00_c0bd_11ea_9735_542696d0d73brow1_col2\" class=\"data row1 col2\" >0.006082</td>\n",
       "                        <td id=\"T_4637cc00_c0bd_11ea_9735_542696d0d73brow1_col3\" class=\"data row1 col3\" >-0.028409</td>\n",
       "                        <td id=\"T_4637cc00_c0bd_11ea_9735_542696d0d73brow1_col4\" class=\"data row1 col4\" >-0.025404</td>\n",
       "            </tr>\n",
       "            <tr>\n",
       "                        <th id=\"T_4637cc00_c0bd_11ea_9735_542696d0d73blevel0_row2\" class=\"row_heading level0 row2\" >order_hour_of_day</th>\n",
       "                        <td id=\"T_4637cc00_c0bd_11ea_9735_542696d0d73brow2_col0\" class=\"data row2 col0\" >-0.035910</td>\n",
       "                        <td id=\"T_4637cc00_c0bd_11ea_9735_542696d0d73brow2_col1\" class=\"data row2 col1\" >0.006082</td>\n",
       "                        <td id=\"T_4637cc00_c0bd_11ea_9735_542696d0d73brow2_col2\" class=\"data row2 col2\" >1.000000</td>\n",
       "                        <td id=\"T_4637cc00_c0bd_11ea_9735_542696d0d73brow2_col3\" class=\"data row2 col3\" >0.000863</td>\n",
       "                        <td id=\"T_4637cc00_c0bd_11ea_9735_542696d0d73brow2_col4\" class=\"data row2 col4\" >-0.005596</td>\n",
       "            </tr>\n",
       "            <tr>\n",
       "                        <th id=\"T_4637cc00_c0bd_11ea_9735_542696d0d73blevel0_row3\" class=\"row_heading level0 row3\" >days_since_prior_order</th>\n",
       "                        <td id=\"T_4637cc00_c0bd_11ea_9735_542696d0d73brow3_col0\" class=\"data row3 col0\" >-0.360495</td>\n",
       "                        <td id=\"T_4637cc00_c0bd_11ea_9735_542696d0d73brow3_col1\" class=\"data row3 col1\" >-0.028409</td>\n",
       "                        <td id=\"T_4637cc00_c0bd_11ea_9735_542696d0d73brow3_col2\" class=\"data row3 col2\" >0.000863</td>\n",
       "                        <td id=\"T_4637cc00_c0bd_11ea_9735_542696d0d73brow3_col3\" class=\"data row3 col3\" >1.000000</td>\n",
       "                        <td id=\"T_4637cc00_c0bd_11ea_9735_542696d0d73brow3_col4\" class=\"data row3 col4\" >0.057544</td>\n",
       "            </tr>\n",
       "            <tr>\n",
       "                        <th id=\"T_4637cc00_c0bd_11ea_9735_542696d0d73blevel0_row4\" class=\"row_heading level0 row4\" >order_size</th>\n",
       "                        <td id=\"T_4637cc00_c0bd_11ea_9735_542696d0d73brow4_col0\" class=\"data row4 col0\" >-0.002118</td>\n",
       "                        <td id=\"T_4637cc00_c0bd_11ea_9735_542696d0d73brow4_col1\" class=\"data row4 col1\" >-0.025404</td>\n",
       "                        <td id=\"T_4637cc00_c0bd_11ea_9735_542696d0d73brow4_col2\" class=\"data row4 col2\" >-0.005596</td>\n",
       "                        <td id=\"T_4637cc00_c0bd_11ea_9735_542696d0d73brow4_col3\" class=\"data row4 col3\" >0.057544</td>\n",
       "                        <td id=\"T_4637cc00_c0bd_11ea_9735_542696d0d73brow4_col4\" class=\"data row4 col4\" >1.000000</td>\n",
       "            </tr>\n",
       "    </tbody></table>"
      ],
      "text/plain": [
       "<pandas.io.formats.style.Styler at 0x1a296c3890>"
      ]
     },
     "execution_count": 51,
     "metadata": {},
     "output_type": "execute_result"
    }
   ],
   "source": [
    "orders.head()\n",
    "order_products = order_products_prior.append(order_products_train)\n",
    "order_size = order_products.groupby('order_id').size().to_frame('order_size')\n",
    "new_orders = pd.merge(orders, order_size, on='order_id')\n",
    "new_orders.head()\n",
    "new_orders.drop(columns=['order_id','user_id'],inplace=True)\n",
    "# import numpy as np\n",
    "# f, ax = plt.subplots(figsize=(10, 8))\n",
    "corr = new_orders.corr()\n",
    "# #sns.heatmap(corr, mask=np.zeros_like(corr, dtype=np.bool), cmap=sns.diverging_palette(220, 10, as_cmap=True),\n",
    "# #            square=True, ax=ax)\n",
    "corr.style.background_gradient(cmap='coolwarm')\n",
    "\n"
   ]
  },
  {
   "cell_type": "code",
   "execution_count": 54,
   "metadata": {
    "colab": {
     "base_uri": "https://8080-dot-13041870-dot-devshell.appspot.com/",
     "height": 505
    },
    "colab_type": "code",
    "id": "xOh8PYhzfvqK",
    "outputId": "ced9e6bc-a8f3-411b-c43c-84e43d75c926"
   },
   "outputs": [],
   "source": [
    "#import numpy as np\n",
    "#f, ax = plt.subplots(figsize=(10, 8))\n",
    "#corr = o_df.corr()\n",
    "#sns.heatmap(corr, mask=np.zeros_like(corr, dtype=np.bool), cmap=sns.diverging_palette(220, 10, as_cmap=True),\n",
    "#             square=True, ax=ax)\n",
    "#corr.style.background_gradient(cmap='coolwarm')"
   ]
  },
  {
   "cell_type": "markdown",
   "metadata": {},
   "source": [
    "---\n",
    "---"
   ]
  },
  {
   "cell_type": "markdown",
   "metadata": {},
   "source": [
    "# Association rule\n",
    "<a href=\"#Instartcart-Market-Analysis\">Back to top</a><ul></ul>"
   ]
  },
  {
   "cell_type": "markdown",
   "metadata": {
    "colab_type": "text",
    "id": "QXN18pwUGMBl"
   },
   "source": [
    "\n",
    "This machine learning is to find products relations. Using association rule, we can find relationshop of products customers are buying. For example, if customer buys product A, what chances that product B will be bought by same customer. \n"
   ]
  },
  {
   "cell_type": "code",
   "execution_count": 4,
   "metadata": {
    "colab": {
     "base_uri": "https://8080-dot-13041870-dot-devshell.appspot.com/",
     "height": 190
    },
    "colab_type": "code",
    "id": "Bt-TcwNuaKtL",
    "outputId": "ffdfa200-ec90-459c-bb97-73e49aa5dbee"
   },
   "outputs": [
    {
     "name": "stdout",
     "output_type": "stream",
     "text": [
      "Requirement already satisfied: apyori in /usr/local/envs/py3env/lib/python3.5/site-packages (1.1.2)\r\n"
     ]
    }
   ],
   "source": [
    "#!pip install apyori\n"
   ]
  },
  {
   "cell_type": "markdown",
   "metadata": {},
   "source": [
    "## Restructure the dataset\n",
    "\n",
    "For each order ID, there are bags of product IDs. This dataset will be used in association rule."
   ]
  },
  {
   "cell_type": "code",
   "execution_count": 5,
   "metadata": {
    "colab": {
     "base_uri": "https://8080-dot-13041870-dot-devshell.appspot.com/",
     "height": 204
    },
    "colab_type": "code",
    "id": "uNCwbmaIGSVi",
    "outputId": "bf4c9263-bc44-4d6b-c8bd-ff7a01efa56c"
   },
   "outputs": [
    {
     "data": {
      "text/plain": [
       "order_id\n",
       "2    [33120, 28985, 9327, 45918, 30035, 17794, 4014...\n",
       "3    [33754, 24838, 17704, 21903, 17668, 46667, 174...\n",
       "4    [46842, 26434, 39758, 27761, 10054, 21351, 225...\n",
       "5    [13176, 15005, 47329, 27966, 23909, 48370, 132...\n",
       "6                                [40462, 15873, 41897]\n",
       "Name: product_id, dtype: object"
      ]
     },
     "execution_count": 5,
     "metadata": {},
     "output_type": "execute_result"
    }
   ],
   "source": [
    "prior = order_products_prior.groupby(['order_id'])['product_id'].apply(list)\n",
    "prior.head()\n"
   ]
  },
  {
   "cell_type": "markdown",
   "metadata": {},
   "source": [
    "## Apriori association\n",
    "* Minimum length is 2\n",
    "* Minimum support is 0.01\n",
    "* Minimum confidence is 0.1\n",
    "* Minimum lift is 2\n",
    "\n",
    "Total 7 items are returned"
   ]
  },
  {
   "cell_type": "code",
   "execution_count": 6,
   "metadata": {
    "colab": {
     "base_uri": "https://8080-dot-13041870-dot-devshell.appspot.com/",
     "height": 136
    },
    "colab_type": "code",
    "id": "WXAC3juLIPD4",
    "outputId": "f8228b8c-b918-4512-dcb9-f032450ebe7d"
   },
   "outputs": [
    {
     "name": "stdout",
     "output_type": "stream",
     "text": [
      "CPU times: user 41.5 s, sys: 1 s, total: 42.5 s\n",
      "Wall time: 44.5 s\n"
     ]
    }
   ],
   "source": [
    "%%time\n",
    "from apyori import apriori\n",
    "associations = apriori(prior, min_length = 2, min_support = 0.01, min_confidence = 0.1, min_lift = 2)\n",
    "associations = list(associations)\n"
   ]
  },
  {
   "cell_type": "code",
   "execution_count": 7,
   "metadata": {
    "colab": {
     "base_uri": "https://8080-dot-13041870-dot-devshell.appspot.com/",
     "height": 592
    },
    "colab_type": "code",
    "id": "bGzNos-LgZZ7",
    "outputId": "6cabfabb-5e7d-40a6-cdd2-b5d7e8165980"
   },
   "outputs": [
    {
     "name": "stdout",
     "output_type": "stream",
     "text": [
      "7\n"
     ]
    }
   ],
   "source": [
    "print(len(associations))"
   ]
  },
  {
   "cell_type": "markdown",
   "metadata": {},
   "source": [
    "## Interpretation of association result\n",
    "\n",
    "Banana has strong relation to other fruites: raspberries, avocado"
   ]
  },
  {
   "cell_type": "code",
   "execution_count": 8,
   "metadata": {
    "colab": {},
    "colab_type": "code",
    "id": "0GpzyDaHHRD6"
   },
   "outputs": [
    {
     "name": "stdout",
     "output_type": "stream",
     "text": [
      "Rule: [\"Bag of Organic Bananas -> ['Organic Raspberries']\"]\n",
      "support 0.012598627504530504\n",
      "confidence: 0.10674133614441955\n",
      "lift: 2.5037754094716407\n",
      "\n",
      "Rule: [\"Bag of Organic Bananas -> ['Organic Hass Avocado']\"]\n",
      "support 0.019391428715402222\n",
      "confidence: 0.164293055738569\n",
      "lift: 2.4729449456629538\n",
      "\n",
      "Rule: [\"Organic Strawberries -> ['Organic Raspberries']\"]\n",
      "support 0.01053322774080726\n",
      "confidence: 0.12793794841376288\n",
      "lift: 3.0009732007029744\n",
      "\n",
      "Rule: [\"Organic Strawberries -> ['Organic Hass Avocado']\"]\n",
      "support 0.012689144271284038\n",
      "confidence: 0.15412398982934303\n",
      "lift: 2.3198798022259126\n",
      "\n",
      "Rule: [\"Organic Hass Avocado -> ['Organic Baby Spinach']\"]\n",
      "support 0.010856101980979659\n",
      "confidence: 0.14426610339739007\n",
      "lift: 2.171498543400166\n",
      "\n",
      "Rule: [\"Banana -> ['Organic Fuji Apple']\"]\n",
      "support 0.01055811207530995\n",
      "confidence: 0.37869287754373443\n",
      "lift: 2.576259109330009\n",
      "\n",
      "Rule: [\"Banana -> ['Organic Avocado']\"]\n",
      "support 0.016608738009638947\n",
      "confidence: 0.11298974744215082\n",
      "lift: 2.054394713787502\n",
      "\n"
     ]
    }
   ],
   "source": [
    "def product_name(id):\n",
    "    return products[products['product_id']==id]['product_name'].values\n",
    "\n",
    "for item in associations:\n",
    "    \n",
    "    pair = item[0] \n",
    "    items = [x for x in pair]\n",
    "    print(\"Rule: \" + str(product_name(items[0]) + \" -> \" + str(product_name(items[1]))))\n",
    "    print(\"support \" + str(item[1]))\n",
    "    print(\"confidence: \" + str(item[2][0][2]))\n",
    "    print(\"lift: \" + str(item[2][0][3]))\n",
    "    print('')\n",
    "\n"
   ]
  },
  {
   "cell_type": "markdown",
   "metadata": {},
   "source": [
    "---\n",
    "---"
   ]
  },
  {
   "cell_type": "markdown",
   "metadata": {
    "colab_type": "text",
    "id": "I7UBFVptLxjI"
   },
   "source": [
    "# Customer segmentation\n",
    "<a href=\"#Instartcart-Market-Analysis\">Back to top</a><ul></ul>\n"
   ]
  },
  {
   "cell_type": "markdown",
   "metadata": {},
   "source": [
    "Customer segmentation is processed using K mean clustering. Features that are used in here are \n",
    "* Total number of orders\n",
    "* Average of days since order\n",
    "* Average size of orders per customer\n",
    "* Total reordered\n",
    "\n"
   ]
  },
  {
   "cell_type": "code",
   "execution_count": null,
   "metadata": {},
   "outputs": [],
   "source": [
    "#!pip install yellowbrick"
   ]
  },
  {
   "cell_type": "code",
   "execution_count": 7,
   "metadata": {},
   "outputs": [
    {
     "data": {
      "text/html": [
       "<div>\n",
       "<style scoped>\n",
       "    .dataframe tbody tr th:only-of-type {\n",
       "        vertical-align: middle;\n",
       "    }\n",
       "\n",
       "    .dataframe tbody tr th {\n",
       "        vertical-align: top;\n",
       "    }\n",
       "\n",
       "    .dataframe thead th {\n",
       "        text-align: right;\n",
       "    }\n",
       "</style>\n",
       "<table border=\"1\" class=\"dataframe\">\n",
       "  <thead>\n",
       "    <tr style=\"text-align: right;\">\n",
       "      <th></th>\n",
       "      <th>order_id</th>\n",
       "      <th>user_id</th>\n",
       "      <th>eval_set</th>\n",
       "      <th>order_number</th>\n",
       "      <th>order_dow</th>\n",
       "      <th>order_hour_of_day</th>\n",
       "      <th>days_since_prior_order</th>\n",
       "      <th>product_id</th>\n",
       "      <th>reordered</th>\n",
       "    </tr>\n",
       "  </thead>\n",
       "  <tbody>\n",
       "    <tr>\n",
       "      <th>0</th>\n",
       "      <td>2539329</td>\n",
       "      <td>1</td>\n",
       "      <td>prior</td>\n",
       "      <td>1</td>\n",
       "      <td>2</td>\n",
       "      <td>8</td>\n",
       "      <td>NaN</td>\n",
       "      <td>5</td>\n",
       "      <td>0</td>\n",
       "    </tr>\n",
       "    <tr>\n",
       "      <th>1</th>\n",
       "      <td>2398795</td>\n",
       "      <td>1</td>\n",
       "      <td>prior</td>\n",
       "      <td>2</td>\n",
       "      <td>3</td>\n",
       "      <td>7</td>\n",
       "      <td>15.0</td>\n",
       "      <td>6</td>\n",
       "      <td>3</td>\n",
       "    </tr>\n",
       "    <tr>\n",
       "      <th>2</th>\n",
       "      <td>473747</td>\n",
       "      <td>1</td>\n",
       "      <td>prior</td>\n",
       "      <td>3</td>\n",
       "      <td>3</td>\n",
       "      <td>12</td>\n",
       "      <td>21.0</td>\n",
       "      <td>5</td>\n",
       "      <td>3</td>\n",
       "    </tr>\n",
       "    <tr>\n",
       "      <th>3</th>\n",
       "      <td>2254736</td>\n",
       "      <td>1</td>\n",
       "      <td>prior</td>\n",
       "      <td>4</td>\n",
       "      <td>4</td>\n",
       "      <td>7</td>\n",
       "      <td>29.0</td>\n",
       "      <td>5</td>\n",
       "      <td>5</td>\n",
       "    </tr>\n",
       "    <tr>\n",
       "      <th>4</th>\n",
       "      <td>431534</td>\n",
       "      <td>1</td>\n",
       "      <td>prior</td>\n",
       "      <td>5</td>\n",
       "      <td>4</td>\n",
       "      <td>15</td>\n",
       "      <td>28.0</td>\n",
       "      <td>8</td>\n",
       "      <td>5</td>\n",
       "    </tr>\n",
       "  </tbody>\n",
       "</table>\n",
       "</div>"
      ],
      "text/plain": [
       "   order_id  user_id eval_set  order_number  order_dow  order_hour_of_day  \\\n",
       "0   2539329        1    prior             1          2                  8   \n",
       "1   2398795        1    prior             2          3                  7   \n",
       "2    473747        1    prior             3          3                 12   \n",
       "3   2254736        1    prior             4          4                  7   \n",
       "4    431534        1    prior             5          4                 15   \n",
       "\n",
       "   days_since_prior_order  product_id  reordered  \n",
       "0                     NaN           5          0  \n",
       "1                    15.0           6          3  \n",
       "2                    21.0           5          3  \n",
       "3                    29.0           5          5  \n",
       "4                    28.0           8          5  "
      ]
     },
     "execution_count": 7,
     "metadata": {},
     "output_type": "execute_result"
    }
   ],
   "source": [
    "# columns user_id, total number of orders, average of days_since_prior_order, avarage size of orders per customer\n",
    "\n",
    "c = order_products_prior.groupby('order_id')['product_id'].count()\n",
    "r = order_products_prior.groupby('order_id')['reordered'].sum()\n",
    "df = pd.concat([c, r], axis=1)\n",
    "df = df.reset_index()\n",
    "cust_orders = pd.merge(orders, df, on='order_id')\n",
    "cust_orders.head()"
   ]
  },
  {
   "cell_type": "markdown",
   "metadata": {},
   "source": [
    "## Cleaning of customer dataset"
   ]
  },
  {
   "cell_type": "code",
   "execution_count": 8,
   "metadata": {},
   "outputs": [
    {
     "data": {
      "text/html": [
       "<div>\n",
       "<style scoped>\n",
       "    .dataframe tbody tr th:only-of-type {\n",
       "        vertical-align: middle;\n",
       "    }\n",
       "\n",
       "    .dataframe tbody tr th {\n",
       "        vertical-align: top;\n",
       "    }\n",
       "\n",
       "    .dataframe thead th {\n",
       "        text-align: right;\n",
       "    }\n",
       "</style>\n",
       "<table border=\"1\" class=\"dataframe\">\n",
       "  <thead>\n",
       "    <tr style=\"text-align: right;\">\n",
       "      <th></th>\n",
       "      <th>order_id</th>\n",
       "      <th>user_id</th>\n",
       "      <th>eval_set</th>\n",
       "      <th>order_number</th>\n",
       "      <th>order_dow</th>\n",
       "      <th>order_hour_of_day</th>\n",
       "      <th>days_since_prior_order</th>\n",
       "      <th>product_id</th>\n",
       "      <th>reordered</th>\n",
       "    </tr>\n",
       "  </thead>\n",
       "  <tbody>\n",
       "    <tr>\n",
       "      <th>1</th>\n",
       "      <td>2398795</td>\n",
       "      <td>1</td>\n",
       "      <td>prior</td>\n",
       "      <td>2</td>\n",
       "      <td>3</td>\n",
       "      <td>7</td>\n",
       "      <td>15.0</td>\n",
       "      <td>6</td>\n",
       "      <td>3</td>\n",
       "    </tr>\n",
       "    <tr>\n",
       "      <th>2</th>\n",
       "      <td>473747</td>\n",
       "      <td>1</td>\n",
       "      <td>prior</td>\n",
       "      <td>3</td>\n",
       "      <td>3</td>\n",
       "      <td>12</td>\n",
       "      <td>21.0</td>\n",
       "      <td>5</td>\n",
       "      <td>3</td>\n",
       "    </tr>\n",
       "    <tr>\n",
       "      <th>3</th>\n",
       "      <td>2254736</td>\n",
       "      <td>1</td>\n",
       "      <td>prior</td>\n",
       "      <td>4</td>\n",
       "      <td>4</td>\n",
       "      <td>7</td>\n",
       "      <td>29.0</td>\n",
       "      <td>5</td>\n",
       "      <td>5</td>\n",
       "    </tr>\n",
       "    <tr>\n",
       "      <th>4</th>\n",
       "      <td>431534</td>\n",
       "      <td>1</td>\n",
       "      <td>prior</td>\n",
       "      <td>5</td>\n",
       "      <td>4</td>\n",
       "      <td>15</td>\n",
       "      <td>28.0</td>\n",
       "      <td>8</td>\n",
       "      <td>5</td>\n",
       "    </tr>\n",
       "    <tr>\n",
       "      <th>5</th>\n",
       "      <td>3367565</td>\n",
       "      <td>1</td>\n",
       "      <td>prior</td>\n",
       "      <td>6</td>\n",
       "      <td>2</td>\n",
       "      <td>7</td>\n",
       "      <td>19.0</td>\n",
       "      <td>4</td>\n",
       "      <td>4</td>\n",
       "    </tr>\n",
       "  </tbody>\n",
       "</table>\n",
       "</div>"
      ],
      "text/plain": [
       "   order_id  user_id eval_set  order_number  order_dow  order_hour_of_day  \\\n",
       "1   2398795        1    prior             2          3                  7   \n",
       "2    473747        1    prior             3          3                 12   \n",
       "3   2254736        1    prior             4          4                  7   \n",
       "4    431534        1    prior             5          4                 15   \n",
       "5   3367565        1    prior             6          2                  7   \n",
       "\n",
       "   days_since_prior_order  product_id  reordered  \n",
       "1                    15.0           6          3  \n",
       "2                    21.0           5          3  \n",
       "3                    29.0           5          5  \n",
       "4                    28.0           8          5  \n",
       "5                    19.0           4          4  "
      ]
     },
     "execution_count": 8,
     "metadata": {},
     "output_type": "execute_result"
    }
   ],
   "source": [
    "# cust_orders.days_since_prior_order.dropna(axis=0, how='any',inplace=True)\n",
    "cust_orders.dropna(inplace=True)\n",
    "cust_orders.head()"
   ]
  },
  {
   "cell_type": "code",
   "execution_count": 9,
   "metadata": {},
   "outputs": [
    {
     "data": {
      "text/html": [
       "<div>\n",
       "<style scoped>\n",
       "    .dataframe tbody tr th:only-of-type {\n",
       "        vertical-align: middle;\n",
       "    }\n",
       "\n",
       "    .dataframe tbody tr th {\n",
       "        vertical-align: top;\n",
       "    }\n",
       "\n",
       "    .dataframe thead th {\n",
       "        text-align: right;\n",
       "    }\n",
       "</style>\n",
       "<table border=\"1\" class=\"dataframe\">\n",
       "  <thead>\n",
       "    <tr style=\"text-align: right;\">\n",
       "      <th></th>\n",
       "      <th>order_id</th>\n",
       "      <th>user_id</th>\n",
       "      <th>eval_set</th>\n",
       "      <th>order_number</th>\n",
       "      <th>order_dow</th>\n",
       "      <th>order_hour_of_day</th>\n",
       "      <th>days_since_prior_order</th>\n",
       "      <th>product_id</th>\n",
       "      <th>reordered</th>\n",
       "    </tr>\n",
       "  </thead>\n",
       "  <tbody>\n",
       "    <tr>\n",
       "      <th>1</th>\n",
       "      <td>2398795</td>\n",
       "      <td>1</td>\n",
       "      <td>prior</td>\n",
       "      <td>2</td>\n",
       "      <td>3</td>\n",
       "      <td>7</td>\n",
       "      <td>15.0</td>\n",
       "      <td>6</td>\n",
       "      <td>3</td>\n",
       "    </tr>\n",
       "    <tr>\n",
       "      <th>2</th>\n",
       "      <td>473747</td>\n",
       "      <td>1</td>\n",
       "      <td>prior</td>\n",
       "      <td>3</td>\n",
       "      <td>3</td>\n",
       "      <td>12</td>\n",
       "      <td>21.0</td>\n",
       "      <td>5</td>\n",
       "      <td>3</td>\n",
       "    </tr>\n",
       "    <tr>\n",
       "      <th>3</th>\n",
       "      <td>2254736</td>\n",
       "      <td>1</td>\n",
       "      <td>prior</td>\n",
       "      <td>4</td>\n",
       "      <td>4</td>\n",
       "      <td>7</td>\n",
       "      <td>29.0</td>\n",
       "      <td>5</td>\n",
       "      <td>5</td>\n",
       "    </tr>\n",
       "    <tr>\n",
       "      <th>4</th>\n",
       "      <td>431534</td>\n",
       "      <td>1</td>\n",
       "      <td>prior</td>\n",
       "      <td>5</td>\n",
       "      <td>4</td>\n",
       "      <td>15</td>\n",
       "      <td>28.0</td>\n",
       "      <td>8</td>\n",
       "      <td>5</td>\n",
       "    </tr>\n",
       "    <tr>\n",
       "      <th>5</th>\n",
       "      <td>3367565</td>\n",
       "      <td>1</td>\n",
       "      <td>prior</td>\n",
       "      <td>6</td>\n",
       "      <td>2</td>\n",
       "      <td>7</td>\n",
       "      <td>19.0</td>\n",
       "      <td>4</td>\n",
       "      <td>4</td>\n",
       "    </tr>\n",
       "  </tbody>\n",
       "</table>\n",
       "</div>"
      ],
      "text/plain": [
       "   order_id  user_id eval_set  order_number  order_dow  order_hour_of_day  \\\n",
       "1   2398795        1    prior             2          3                  7   \n",
       "2    473747        1    prior             3          3                 12   \n",
       "3   2254736        1    prior             4          4                  7   \n",
       "4    431534        1    prior             5          4                 15   \n",
       "5   3367565        1    prior             6          2                  7   \n",
       "\n",
       "   days_since_prior_order  product_id  reordered  \n",
       "1                    15.0           6          3  \n",
       "2                    21.0           5          3  \n",
       "3                    29.0           5          5  \n",
       "4                    28.0           8          5  \n",
       "5                    19.0           4          4  "
      ]
     },
     "execution_count": 9,
     "metadata": {},
     "output_type": "execute_result"
    }
   ],
   "source": [
    "cust_orders = cust_orders[cust_orders.eval_set != 'train']\n",
    "cust_orders.head()"
   ]
  },
  {
   "cell_type": "markdown",
   "metadata": {},
   "source": [
    "## Construct the dataset\n",
    "Constructing 4 columns of dataset"
   ]
  },
  {
   "cell_type": "code",
   "execution_count": 10,
   "metadata": {},
   "outputs": [
    {
     "data": {
      "text/html": [
       "<div>\n",
       "<style scoped>\n",
       "    .dataframe tbody tr th:only-of-type {\n",
       "        vertical-align: middle;\n",
       "    }\n",
       "\n",
       "    .dataframe tbody tr th {\n",
       "        vertical-align: top;\n",
       "    }\n",
       "\n",
       "    .dataframe thead th {\n",
       "        text-align: right;\n",
       "    }\n",
       "</style>\n",
       "<table border=\"1\" class=\"dataframe\">\n",
       "  <thead>\n",
       "    <tr style=\"text-align: right;\">\n",
       "      <th></th>\n",
       "      <th>user_id</th>\n",
       "      <th>total_orders</th>\n",
       "      <th>average_days_since_order</th>\n",
       "      <th>average_size_of_orders</th>\n",
       "      <th>total_reordered</th>\n",
       "    </tr>\n",
       "  </thead>\n",
       "  <tbody>\n",
       "    <tr>\n",
       "      <th>0</th>\n",
       "      <td>1</td>\n",
       "      <td>9</td>\n",
       "      <td>19.555556</td>\n",
       "      <td>6.000000</td>\n",
       "      <td>41</td>\n",
       "    </tr>\n",
       "    <tr>\n",
       "      <th>1</th>\n",
       "      <td>2</td>\n",
       "      <td>13</td>\n",
       "      <td>15.230769</td>\n",
       "      <td>14.000000</td>\n",
       "      <td>93</td>\n",
       "    </tr>\n",
       "    <tr>\n",
       "      <th>2</th>\n",
       "      <td>3</td>\n",
       "      <td>11</td>\n",
       "      <td>12.090909</td>\n",
       "      <td>7.090909</td>\n",
       "      <td>55</td>\n",
       "    </tr>\n",
       "    <tr>\n",
       "      <th>3</th>\n",
       "      <td>4</td>\n",
       "      <td>4</td>\n",
       "      <td>13.750000</td>\n",
       "      <td>3.500000</td>\n",
       "      <td>1</td>\n",
       "    </tr>\n",
       "    <tr>\n",
       "      <th>4</th>\n",
       "      <td>5</td>\n",
       "      <td>3</td>\n",
       "      <td>13.333333</td>\n",
       "      <td>8.666667</td>\n",
       "      <td>14</td>\n",
       "    </tr>\n",
       "  </tbody>\n",
       "</table>\n",
       "</div>"
      ],
      "text/plain": [
       "   user_id  total_orders  average_days_since_order  average_size_of_orders  \\\n",
       "0        1             9                 19.555556                6.000000   \n",
       "1        2            13                 15.230769               14.000000   \n",
       "2        3            11                 12.090909                7.090909   \n",
       "3        4             4                 13.750000                3.500000   \n",
       "4        5             3                 13.333333                8.666667   \n",
       "\n",
       "   total_reordered  \n",
       "0               41  \n",
       "1               93  \n",
       "2               55  \n",
       "3                1  \n",
       "4               14  "
      ]
     },
     "execution_count": 10,
     "metadata": {},
     "output_type": "execute_result"
    }
   ],
   "source": [
    "# total number of orders\n",
    "c = cust_orders.groupby('user_id')['product_id'].count() \n",
    "# average of days since the order\n",
    "d = cust_orders.groupby('user_id')['days_since_prior_order'].mean() \n",
    "# avarage size of orders per customer\n",
    "a = cust_orders.groupby('user_id')['product_id'].mean()\n",
    "# total reordered items per customer\n",
    "r = cust_orders.groupby('user_id')['reordered'].sum()\n",
    "\n",
    "df = pd.concat([c,d,a,r],axis=1)\n",
    "df = df.reset_index()\n",
    "# new_c = pd.merge(c, d, on='user_id', copy=True)\n",
    "# new_c = pd.merge(new_c, a, on='user_id', copy=True)\n",
    "# new_c = pd.merge(new_c, r, on='user_id', copy=True)\n",
    "df.columns = ['user_id','total_orders','average_days_since_order'\n",
    "                 ,'average_size_of_orders','total_reordered']\n",
    "df.head()"
   ]
  },
  {
   "cell_type": "markdown",
   "metadata": {},
   "source": [
    "## Elbow method\n",
    "Using elbow method, finding the cluster size.\n",
    "In this case, the cluster size would be 4."
   ]
  },
  {
   "cell_type": "code",
   "execution_count": 13,
   "metadata": {},
   "outputs": [
    {
     "data": {
      "image/png": "[encoded data removed]",
      "text/plain": [
       "<Figure size 576x396 with 2 Axes>"
      ]
     },
     "metadata": {},
     "output_type": "display_data"
    },
    {
     "name": "stderr",
     "output_type": "stream",
     "text": [
      "/Users/donkim/opt/anaconda3/lib/python3.7/site-packages/sklearn/base.py:197: FutureWarning: From version 0.24, get_params will raise an AttributeError if a parameter cannot be retrieved as an instance attribute. Previously it would return None.\n",
      "  FutureWarning)\n"
     ]
    },
    {
     "data": {
      "text/plain": [
       "KElbowVisualizer(ax=<matplotlib.axes._subplots.AxesSubplot object at 0x1a28c23850>,\n",
       "                 k=None, locate_elbow=True, metric='distortion', model=None,\n",
       "                 timings=True)"
      ]
     },
     "execution_count": 13,
     "metadata": {},
     "output_type": "execute_result"
    }
   ],
   "source": [
    "from sklearn.cluster import KMeans\n",
    "from yellowbrick.cluster.elbow import kelbow_visualizer\n",
    "from yellowbrick.datasets.loaders import load_nfl\n",
    "\n",
    "kelbow_visualizer(KMeans(random_state=1), df, k=(2,10))"
   ]
  },
  {
   "cell_type": "markdown",
   "metadata": {},
   "source": [
    "## K Mean\n",
    "Generated 4 clusters. However, all of 4 clusters are very similar. Possibly, variables are needed to be changed"
   ]
  },
  {
   "cell_type": "code",
   "execution_count": 14,
   "metadata": {},
   "outputs": [
    {
     "name": "stdout",
     "output_type": "stream",
     "text": [
      "[[7.66995000e+04 1.46748028e+01 1.52076714e+01 9.97984487e+00\n",
      "  9.32777994e+01]\n",
      " [1.80246500e+05 1.45069522e+01 1.52512931e+01 9.95768467e+00\n",
      "  9.22452143e+01]\n",
      " [2.54855000e+04 1.46382578e+01 1.51764485e+01 9.95966646e+00\n",
      "  9.32166961e+01]\n",
      " [1.28356000e+05 1.45430335e+01 1.52016950e+01 9.91514554e+00\n",
      "  9.22855462e+01]]\n"
     ]
    },
    {
     "data": {
      "text/html": [
       "<div>\n",
       "<style scoped>\n",
       "    .dataframe tbody tr th:only-of-type {\n",
       "        vertical-align: middle;\n",
       "    }\n",
       "\n",
       "    .dataframe tbody tr th {\n",
       "        vertical-align: top;\n",
       "    }\n",
       "\n",
       "    .dataframe thead th {\n",
       "        text-align: right;\n",
       "    }\n",
       "</style>\n",
       "<table border=\"1\" class=\"dataframe\">\n",
       "  <thead>\n",
       "    <tr style=\"text-align: right;\">\n",
       "      <th></th>\n",
       "      <th>user_id</th>\n",
       "      <th>total_orders</th>\n",
       "      <th>average_days_since_order</th>\n",
       "      <th>average_size_of_orders</th>\n",
       "      <th>total_reordered</th>\n",
       "    </tr>\n",
       "    <tr>\n",
       "      <th>Cluster</th>\n",
       "      <th></th>\n",
       "      <th></th>\n",
       "      <th></th>\n",
       "      <th></th>\n",
       "      <th></th>\n",
       "    </tr>\n",
       "  </thead>\n",
       "  <tbody>\n",
       "    <tr>\n",
       "      <th>0</th>\n",
       "      <td>76810.0</td>\n",
       "      <td>14.678526</td>\n",
       "      <td>15.206966</td>\n",
       "      <td>9.981499</td>\n",
       "      <td>93.340585</td>\n",
       "    </tr>\n",
       "    <tr>\n",
       "      <th>1</th>\n",
       "      <td>180255.5</td>\n",
       "      <td>14.506993</td>\n",
       "      <td>15.251545</td>\n",
       "      <td>9.958034</td>\n",
       "      <td>92.252408</td>\n",
       "    </tr>\n",
       "    <tr>\n",
       "      <th>2</th>\n",
       "      <td>25546.5</td>\n",
       "      <td>14.633915</td>\n",
       "      <td>15.176671</td>\n",
       "      <td>9.959635</td>\n",
       "      <td>93.181163</td>\n",
       "    </tr>\n",
       "    <tr>\n",
       "      <th>3</th>\n",
       "      <td>128414.5</td>\n",
       "      <td>14.543400</td>\n",
       "      <td>15.202003</td>\n",
       "      <td>9.913121</td>\n",
       "      <td>92.249256</td>\n",
       "    </tr>\n",
       "  </tbody>\n",
       "</table>\n",
       "</div>"
      ],
      "text/plain": [
       "          user_id  total_orders  average_days_since_order  \\\n",
       "Cluster                                                     \n",
       "0         76810.0     14.678526                 15.206966   \n",
       "1        180255.5     14.506993                 15.251545   \n",
       "2         25546.5     14.633915                 15.176671   \n",
       "3        128414.5     14.543400                 15.202003   \n",
       "\n",
       "         average_size_of_orders  total_reordered  \n",
       "Cluster                                           \n",
       "0                      9.981499        93.340585  \n",
       "1                      9.958034        92.252408  \n",
       "2                      9.959635        93.181163  \n",
       "3                      9.913121        92.249256  "
      ]
     },
     "execution_count": 14,
     "metadata": {},
     "output_type": "execute_result"
    }
   ],
   "source": [
    "import sklearn\n",
    "from sklearn.cluster import KMeans\n",
    "\n",
    "# df = scaler.transform(df)\n",
    "clustering = KMeans(n_clusters=4, random_state = 1)\n",
    "model = clustering.fit(df)\n",
    "df_new = df.assign(Cluster = model.labels_)\n",
    "\n",
    "print(model.cluster_centers_)\n",
    "# df\n",
    "result = df_new.groupby('Cluster').mean()\n",
    "result.head()\n",
    "\n",
    "\n"
   ]
  },
  {
   "cell_type": "markdown",
   "metadata": {},
   "source": [
    "---\n",
    "---"
   ]
  },
  {
   "cell_type": "markdown",
   "metadata": {},
   "source": [
    "# Decision tree\n",
    "<a href=\"#Instartcart-Market-Analysis\">Back to top</a><ul></ul>"
   ]
  },
  {
   "cell_type": "markdown",
   "metadata": {},
   "source": [
    "## Combine all the dataset\n",
    "Independent variable is reordered column"
   ]
  },
  {
   "cell_type": "code",
   "execution_count": 41,
   "metadata": {},
   "outputs": [
    {
     "data": {
      "text/html": [
       "<div>\n",
       "<style scoped>\n",
       "    .dataframe tbody tr th:only-of-type {\n",
       "        vertical-align: middle;\n",
       "    }\n",
       "\n",
       "    .dataframe tbody tr th {\n",
       "        vertical-align: top;\n",
       "    }\n",
       "\n",
       "    .dataframe thead th {\n",
       "        text-align: right;\n",
       "    }\n",
       "</style>\n",
       "<table border=\"1\" class=\"dataframe\">\n",
       "  <thead>\n",
       "    <tr style=\"text-align: right;\">\n",
       "      <th></th>\n",
       "      <th>department_id</th>\n",
       "      <th>department</th>\n",
       "      <th>aisle_id</th>\n",
       "      <th>aisle</th>\n",
       "      <th>order_id</th>\n",
       "      <th>user_id</th>\n",
       "      <th>eval_set</th>\n",
       "      <th>order_number</th>\n",
       "      <th>order_dow</th>\n",
       "      <th>order_hour_of_day</th>\n",
       "      <th>days_since_prior_order</th>\n",
       "      <th>product_id</th>\n",
       "      <th>product_name</th>\n",
       "      <th>add_to_cart_order</th>\n",
       "      <th>reordered</th>\n",
       "    </tr>\n",
       "  </thead>\n",
       "  <tbody>\n",
       "    <tr>\n",
       "      <th>0</th>\n",
       "      <td>1</td>\n",
       "      <td>frozen</td>\n",
       "      <td>34</td>\n",
       "      <td>frozen meat seafood</td>\n",
       "      <td>2505309</td>\n",
       "      <td>14</td>\n",
       "      <td>prior</td>\n",
       "      <td>7</td>\n",
       "      <td>5</td>\n",
       "      <td>10</td>\n",
       "      <td>30.0</td>\n",
       "      <td>831</td>\n",
       "      <td>All Natural Premium Cornish Hen</td>\n",
       "      <td>4</td>\n",
       "      <td>0</td>\n",
       "    </tr>\n",
       "    <tr>\n",
       "      <th>1</th>\n",
       "      <td>1</td>\n",
       "      <td>frozen</td>\n",
       "      <td>34</td>\n",
       "      <td>frozen meat seafood</td>\n",
       "      <td>3067644</td>\n",
       "      <td>14</td>\n",
       "      <td>prior</td>\n",
       "      <td>8</td>\n",
       "      <td>4</td>\n",
       "      <td>8</td>\n",
       "      <td>27.0</td>\n",
       "      <td>13159</td>\n",
       "      <td>Beer Battered Fish Fillets</td>\n",
       "      <td>10</td>\n",
       "      <td>0</td>\n",
       "    </tr>\n",
       "    <tr>\n",
       "      <th>2</th>\n",
       "      <td>1</td>\n",
       "      <td>frozen</td>\n",
       "      <td>34</td>\n",
       "      <td>frozen meat seafood</td>\n",
       "      <td>3394109</td>\n",
       "      <td>14</td>\n",
       "      <td>prior</td>\n",
       "      <td>13</td>\n",
       "      <td>5</td>\n",
       "      <td>5</td>\n",
       "      <td>7.0</td>\n",
       "      <td>38845</td>\n",
       "      <td>PubHouse Battered Cod</td>\n",
       "      <td>11</td>\n",
       "      <td>0</td>\n",
       "    </tr>\n",
       "    <tr>\n",
       "      <th>3</th>\n",
       "      <td>1</td>\n",
       "      <td>frozen</td>\n",
       "      <td>34</td>\n",
       "      <td>frozen meat seafood</td>\n",
       "      <td>1321974</td>\n",
       "      <td>19</td>\n",
       "      <td>prior</td>\n",
       "      <td>1</td>\n",
       "      <td>6</td>\n",
       "      <td>13</td>\n",
       "      <td>NaN</td>\n",
       "      <td>35123</td>\n",
       "      <td>Grilled &amp; Ready Chicken Breast Strips</td>\n",
       "      <td>21</td>\n",
       "      <td>0</td>\n",
       "    </tr>\n",
       "    <tr>\n",
       "      <th>4</th>\n",
       "      <td>1</td>\n",
       "      <td>frozen</td>\n",
       "      <td>34</td>\n",
       "      <td>frozen meat seafood</td>\n",
       "      <td>2293453</td>\n",
       "      <td>19</td>\n",
       "      <td>prior</td>\n",
       "      <td>2</td>\n",
       "      <td>5</td>\n",
       "      <td>14</td>\n",
       "      <td>6.0</td>\n",
       "      <td>35123</td>\n",
       "      <td>Grilled &amp; Ready Chicken Breast Strips</td>\n",
       "      <td>4</td>\n",
       "      <td>1</td>\n",
       "    </tr>\n",
       "  </tbody>\n",
       "</table>\n",
       "</div>"
      ],
      "text/plain": [
       "   department_id department  aisle_id                aisle  order_id  user_id  \\\n",
       "0              1     frozen        34  frozen meat seafood   2505309       14   \n",
       "1              1     frozen        34  frozen meat seafood   3067644       14   \n",
       "2              1     frozen        34  frozen meat seafood   3394109       14   \n",
       "3              1     frozen        34  frozen meat seafood   1321974       19   \n",
       "4              1     frozen        34  frozen meat seafood   2293453       19   \n",
       "\n",
       "  eval_set  order_number  order_dow  order_hour_of_day  \\\n",
       "0    prior             7          5                 10   \n",
       "1    prior             8          4                  8   \n",
       "2    prior            13          5                  5   \n",
       "3    prior             1          6                 13   \n",
       "4    prior             2          5                 14   \n",
       "\n",
       "   days_since_prior_order  product_id                           product_name  \\\n",
       "0                    30.0         831        All Natural Premium Cornish Hen   \n",
       "1                    27.0       13159             Beer Battered Fish Fillets   \n",
       "2                     7.0       38845                  PubHouse Battered Cod   \n",
       "3                     NaN       35123  Grilled & Ready Chicken Breast Strips   \n",
       "4                     6.0       35123  Grilled & Ready Chicken Breast Strips   \n",
       "\n",
       "   add_to_cart_order  reordered  \n",
       "0                  4          0  \n",
       "1                 10          0  \n",
       "2                 11          0  \n",
       "3                 21          0  \n",
       "4                  4          1  "
      ]
     },
     "execution_count": 41,
     "metadata": {},
     "output_type": "execute_result"
    }
   ],
   "source": [
    "new_order_prior=pd.merge(products,order_products_prior,  on='product_id')\n",
    "new_order_prior=pd.merge(orders,new_order_prior,  on='order_id')\n",
    "new_order_prior=pd.merge(aisles,new_order_prior,  on='aisle_id')\n",
    "new_order_prior=pd.merge(departments,new_order_prior,  on='department_id')\n",
    "new_order_prior.head()"
   ]
  },
  {
   "cell_type": "markdown",
   "metadata": {},
   "source": [
    "## Data cleaning of order dataset"
   ]
  },
  {
   "cell_type": "code",
   "execution_count": 43,
   "metadata": {},
   "outputs": [
    {
     "data": {
      "text/html": [
       "<div>\n",
       "<style scoped>\n",
       "    .dataframe tbody tr th:only-of-type {\n",
       "        vertical-align: middle;\n",
       "    }\n",
       "\n",
       "    .dataframe tbody tr th {\n",
       "        vertical-align: top;\n",
       "    }\n",
       "\n",
       "    .dataframe thead th {\n",
       "        text-align: right;\n",
       "    }\n",
       "</style>\n",
       "<table border=\"1\" class=\"dataframe\">\n",
       "  <thead>\n",
       "    <tr style=\"text-align: right;\">\n",
       "      <th></th>\n",
       "      <th>department_id</th>\n",
       "      <th>department</th>\n",
       "      <th>aisle_id</th>\n",
       "      <th>aisle</th>\n",
       "      <th>order_id</th>\n",
       "      <th>user_id</th>\n",
       "      <th>eval_set</th>\n",
       "      <th>order_number</th>\n",
       "      <th>order_dow</th>\n",
       "      <th>order_hour_of_day</th>\n",
       "      <th>days_since_prior_order</th>\n",
       "      <th>product_id</th>\n",
       "      <th>product_name</th>\n",
       "      <th>add_to_cart_order</th>\n",
       "      <th>reordered</th>\n",
       "    </tr>\n",
       "  </thead>\n",
       "  <tbody>\n",
       "    <tr>\n",
       "      <th>0</th>\n",
       "      <td>1</td>\n",
       "      <td>frozen</td>\n",
       "      <td>34</td>\n",
       "      <td>frozen meat seafood</td>\n",
       "      <td>2505309</td>\n",
       "      <td>14</td>\n",
       "      <td>prior</td>\n",
       "      <td>7</td>\n",
       "      <td>5</td>\n",
       "      <td>10</td>\n",
       "      <td>30.0</td>\n",
       "      <td>831</td>\n",
       "      <td>All Natural Premium Cornish Hen</td>\n",
       "      <td>4</td>\n",
       "      <td>0</td>\n",
       "    </tr>\n",
       "    <tr>\n",
       "      <th>1</th>\n",
       "      <td>1</td>\n",
       "      <td>frozen</td>\n",
       "      <td>34</td>\n",
       "      <td>frozen meat seafood</td>\n",
       "      <td>3067644</td>\n",
       "      <td>14</td>\n",
       "      <td>prior</td>\n",
       "      <td>8</td>\n",
       "      <td>4</td>\n",
       "      <td>8</td>\n",
       "      <td>27.0</td>\n",
       "      <td>13159</td>\n",
       "      <td>Beer Battered Fish Fillets</td>\n",
       "      <td>10</td>\n",
       "      <td>0</td>\n",
       "    </tr>\n",
       "    <tr>\n",
       "      <th>2</th>\n",
       "      <td>1</td>\n",
       "      <td>frozen</td>\n",
       "      <td>34</td>\n",
       "      <td>frozen meat seafood</td>\n",
       "      <td>3394109</td>\n",
       "      <td>14</td>\n",
       "      <td>prior</td>\n",
       "      <td>13</td>\n",
       "      <td>5</td>\n",
       "      <td>5</td>\n",
       "      <td>7.0</td>\n",
       "      <td>38845</td>\n",
       "      <td>PubHouse Battered Cod</td>\n",
       "      <td>11</td>\n",
       "      <td>0</td>\n",
       "    </tr>\n",
       "    <tr>\n",
       "      <th>4</th>\n",
       "      <td>1</td>\n",
       "      <td>frozen</td>\n",
       "      <td>34</td>\n",
       "      <td>frozen meat seafood</td>\n",
       "      <td>2293453</td>\n",
       "      <td>19</td>\n",
       "      <td>prior</td>\n",
       "      <td>2</td>\n",
       "      <td>5</td>\n",
       "      <td>14</td>\n",
       "      <td>6.0</td>\n",
       "      <td>35123</td>\n",
       "      <td>Grilled &amp; Ready Chicken Breast Strips</td>\n",
       "      <td>4</td>\n",
       "      <td>1</td>\n",
       "    </tr>\n",
       "    <tr>\n",
       "      <th>5</th>\n",
       "      <td>1</td>\n",
       "      <td>frozen</td>\n",
       "      <td>34</td>\n",
       "      <td>frozen meat seafood</td>\n",
       "      <td>2208892</td>\n",
       "      <td>19</td>\n",
       "      <td>prior</td>\n",
       "      <td>3</td>\n",
       "      <td>0</td>\n",
       "      <td>14</td>\n",
       "      <td>16.0</td>\n",
       "      <td>35123</td>\n",
       "      <td>Grilled &amp; Ready Chicken Breast Strips</td>\n",
       "      <td>3</td>\n",
       "      <td>1</td>\n",
       "    </tr>\n",
       "  </tbody>\n",
       "</table>\n",
       "</div>"
      ],
      "text/plain": [
       "   department_id department  aisle_id                aisle  order_id  user_id  \\\n",
       "0              1     frozen        34  frozen meat seafood   2505309       14   \n",
       "1              1     frozen        34  frozen meat seafood   3067644       14   \n",
       "2              1     frozen        34  frozen meat seafood   3394109       14   \n",
       "4              1     frozen        34  frozen meat seafood   2293453       19   \n",
       "5              1     frozen        34  frozen meat seafood   2208892       19   \n",
       "\n",
       "  eval_set  order_number  order_dow  order_hour_of_day  \\\n",
       "0    prior             7          5                 10   \n",
       "1    prior             8          4                  8   \n",
       "2    prior            13          5                  5   \n",
       "4    prior             2          5                 14   \n",
       "5    prior             3          0                 14   \n",
       "\n",
       "   days_since_prior_order  product_id                           product_name  \\\n",
       "0                    30.0         831        All Natural Premium Cornish Hen   \n",
       "1                    27.0       13159             Beer Battered Fish Fillets   \n",
       "2                     7.0       38845                  PubHouse Battered Cod   \n",
       "4                     6.0       35123  Grilled & Ready Chicken Breast Strips   \n",
       "5                    16.0       35123  Grilled & Ready Chicken Breast Strips   \n",
       "\n",
       "   add_to_cart_order  reordered  \n",
       "0                  4          0  \n",
       "1                 10          0  \n",
       "2                 11          0  \n",
       "4                  4          1  \n",
       "5                  3          1  "
      ]
     },
     "execution_count": 43,
     "metadata": {},
     "output_type": "execute_result"
    }
   ],
   "source": [
    "new_order_prior.dropna(inplace=True)\n",
    "new_order_prior = new_order_prior[new_order_prior.eval_set != 'train']\n",
    "new_order_prior.head()"
   ]
  },
  {
   "cell_type": "markdown",
   "metadata": {},
   "source": [
    "# Feature selection\n",
    "\n",
    "Removed all the categorical columns since sklearn cannot handle strings. Order_id is removed because it is not relevant."
   ]
  },
  {
   "cell_type": "code",
   "execution_count": 44,
   "metadata": {},
   "outputs": [
    {
     "data": {
      "text/html": [
       "<div>\n",
       "<style scoped>\n",
       "    .dataframe tbody tr th:only-of-type {\n",
       "        vertical-align: middle;\n",
       "    }\n",
       "\n",
       "    .dataframe tbody tr th {\n",
       "        vertical-align: top;\n",
       "    }\n",
       "\n",
       "    .dataframe thead th {\n",
       "        text-align: right;\n",
       "    }\n",
       "</style>\n",
       "<table border=\"1\" class=\"dataframe\">\n",
       "  <thead>\n",
       "    <tr style=\"text-align: right;\">\n",
       "      <th></th>\n",
       "      <th>department_id</th>\n",
       "      <th>aisle_id</th>\n",
       "      <th>order_id</th>\n",
       "      <th>order_number</th>\n",
       "      <th>order_dow</th>\n",
       "      <th>order_hour_of_day</th>\n",
       "      <th>days_since_prior_order</th>\n",
       "      <th>product_id</th>\n",
       "      <th>add_to_cart_order</th>\n",
       "      <th>reordered</th>\n",
       "    </tr>\n",
       "  </thead>\n",
       "  <tbody>\n",
       "    <tr>\n",
       "      <th>0</th>\n",
       "      <td>1</td>\n",
       "      <td>34</td>\n",
       "      <td>2505309</td>\n",
       "      <td>7</td>\n",
       "      <td>5</td>\n",
       "      <td>10</td>\n",
       "      <td>30.0</td>\n",
       "      <td>831</td>\n",
       "      <td>4</td>\n",
       "      <td>0</td>\n",
       "    </tr>\n",
       "    <tr>\n",
       "      <th>1</th>\n",
       "      <td>1</td>\n",
       "      <td>34</td>\n",
       "      <td>3067644</td>\n",
       "      <td>8</td>\n",
       "      <td>4</td>\n",
       "      <td>8</td>\n",
       "      <td>27.0</td>\n",
       "      <td>13159</td>\n",
       "      <td>10</td>\n",
       "      <td>0</td>\n",
       "    </tr>\n",
       "    <tr>\n",
       "      <th>2</th>\n",
       "      <td>1</td>\n",
       "      <td>34</td>\n",
       "      <td>3394109</td>\n",
       "      <td>13</td>\n",
       "      <td>5</td>\n",
       "      <td>5</td>\n",
       "      <td>7.0</td>\n",
       "      <td>38845</td>\n",
       "      <td>11</td>\n",
       "      <td>0</td>\n",
       "    </tr>\n",
       "    <tr>\n",
       "      <th>4</th>\n",
       "      <td>1</td>\n",
       "      <td>34</td>\n",
       "      <td>2293453</td>\n",
       "      <td>2</td>\n",
       "      <td>5</td>\n",
       "      <td>14</td>\n",
       "      <td>6.0</td>\n",
       "      <td>35123</td>\n",
       "      <td>4</td>\n",
       "      <td>1</td>\n",
       "    </tr>\n",
       "    <tr>\n",
       "      <th>5</th>\n",
       "      <td>1</td>\n",
       "      <td>34</td>\n",
       "      <td>2208892</td>\n",
       "      <td>3</td>\n",
       "      <td>0</td>\n",
       "      <td>14</td>\n",
       "      <td>16.0</td>\n",
       "      <td>35123</td>\n",
       "      <td>3</td>\n",
       "      <td>1</td>\n",
       "    </tr>\n",
       "  </tbody>\n",
       "</table>\n",
       "</div>"
      ],
      "text/plain": [
       "   department_id  aisle_id  order_id  order_number  order_dow  \\\n",
       "0              1        34   2505309             7          5   \n",
       "1              1        34   3067644             8          4   \n",
       "2              1        34   3394109            13          5   \n",
       "4              1        34   2293453             2          5   \n",
       "5              1        34   2208892             3          0   \n",
       "\n",
       "   order_hour_of_day  days_since_prior_order  product_id  add_to_cart_order  \\\n",
       "0                 10                    30.0         831                  4   \n",
       "1                  8                    27.0       13159                 10   \n",
       "2                  5                     7.0       38845                 11   \n",
       "4                 14                     6.0       35123                  4   \n",
       "5                 14                    16.0       35123                  3   \n",
       "\n",
       "   reordered  \n",
       "0          0  \n",
       "1          0  \n",
       "2          0  \n",
       "4          1  \n",
       "5          1  "
      ]
     },
     "execution_count": 44,
     "metadata": {},
     "output_type": "execute_result"
    }
   ],
   "source": [
    "# new_order_prior.drop(['order_id',\n",
    "#                       'user_id',\n",
    "#                       'eval_set',\n",
    "#                       'product_id',\n",
    "#                       'aisle_id',\n",
    "#                       'department_id'], axis=1, inplace = True)\n",
    "new_order_prior.drop(['department',\n",
    "                      'aisle',\n",
    "                      'user_id',\n",
    "                      'eval_set',\n",
    "                      'product_name'], axis=1, inplace = True)\n",
    "new_order_prior.head()\n"
   ]
  },
  {
   "cell_type": "markdown",
   "metadata": {},
   "source": [
    "## Decision tree prediction\n",
    "\n",
    "25% split and predicted the output"
   ]
  },
  {
   "cell_type": "code",
   "execution_count": 45,
   "metadata": {},
   "outputs": [],
   "source": [
    "X = new_order_prior.iloc[:, :-1].values\n",
    "y = new_order_prior.iloc[:, -1].values"
   ]
  },
  {
   "cell_type": "code",
   "execution_count": 46,
   "metadata": {},
   "outputs": [],
   "source": [
    "from sklearn.model_selection import train_test_split\n",
    "X_train, X_test, y_train, y_test = train_test_split(X, y, test_size = 0.25, random_state = 0)"
   ]
  },
  {
   "cell_type": "code",
   "execution_count": 47,
   "metadata": {},
   "outputs": [],
   "source": [
    "%%time\n",
    "## takes more than 15 mins\n",
    "from sklearn.tree import DecisionTreeClassifier\n",
    "classifier = DecisionTreeClassifier(criterion = 'entropy', random_state = 0)\n",
    "classifier.fit(X_train, y_train)\n",
    "\n",
    "#predict\n",
    "y_pred = classifier.predict(X_test)"
   ]
  },
  {
   "cell_type": "markdown",
   "metadata": {},
   "source": [
    "## Decision tree confusing matrix and accuracy\n",
    "\n",
    "Accuracy is 63% which is below 80%. It needs an improvement.\n"
   ]
  },
  {
   "cell_type": "code",
   "execution_count": 48,
   "metadata": {},
   "outputs": [
    {
     "name": "stdout",
     "output_type": "stream",
     "text": [
      "[[1445577 1361096]\n",
      " [1406149 3376284]]\n"
     ]
    },
    {
     "data": {
      "text/plain": [
       "0.6353661419408294"
      ]
     },
     "execution_count": 48,
     "metadata": {},
     "output_type": "execute_result"
    }
   ],
   "source": [
    "# making the confusion matrix\n",
    "from sklearn.metrics import confusion_matrix, accuracy_score\n",
    "cm = confusion_matrix(y_test, y_pred)\n",
    "print(cm)\n",
    "accuracy_score(y_test, y_pred)"
   ]
  }
 ],
 "metadata": {
  "colab": {
   "name": "instacart.ipynb",
   "provenance": []
  },
  "kernelspec": {
   "display_name": "Python 3",
   "language": "python",
   "name": "python3"
  },
  "language_info": {
   "codemirror_mode": {
    "name": "ipython",
    "version": 3
   },
   "file_extension": ".py",
   "mimetype": "text/x-python",
   "name": "python",
   "nbconvert_exporter": "python",
   "pygments_lexer": "ipython3",
   "version": "3.7.6"
  }
 },
 "nbformat": 4,
 "nbformat_minor": 1
}
