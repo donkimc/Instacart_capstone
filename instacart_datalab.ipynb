{
 "cells": [
  {
   "cell_type": "markdown",
   "metadata": {},
   "source": [
    "# Instartcart Market Analysis\n",
    "*By Don Kim*\n",
    "##### Ryerson University\n",
    "##### CKME136 July 2020\n",
    "`instacart`\n",
    "\n",
    "\n",
    "# Data Analysis Cycle\n",
    "---\n",
    "\n",
    "> <a href=\"#Reading-datasets\">1. Reading datasets</a><ul></ul>\n",
    "> <a href=\"#Initial-data-cleaning\">2. Initial data cleaning</a><ul></ul>\n",
    "> <a href=\"#Data-exploration\">3. Data exploration</a><ul></ul>\n",
    "> <a href=\"#Correlation\">4. Correlation</a><ul></ul>\n",
    "> <a href=\"#Association-rule\">5. Association rule</a><ul></ul>\n",
    "> <a href=\"#Customer-segmentation\">6. Customer segmentation</a><ul></ul>\n",
    "> <a href=\"#Reorder-Classification\">7. Reorder Classification</a><ul></ul>\n",
    "\n",
    "# Datasets links\n",
    "<a href=\"https://storage.googleapis.com/instacart-datasets/aisles.csv\">aisles.csv</a><ul></ul>\n",
    "<a href=\"https://storage.googleapis.com/instacart-datasets/departments.csv\">departments.csv</a><ul></ul>\n",
    "<a href=\"https://storage.googleapis.com/instacart-datasets/order_products__prior.csv\">order_products__prior.csv</a><ul></ul>\n",
    "<a href=\"https://storage.googleapis.com/instacart-datasets/order_products__train.csv\">order_products__train.csv</a><ul></ul>\n",
    "<a href=\"https://storage.googleapis.com/instacart-datasets/orders.csv\">orders.csv</a><ul></ul>\n",
    "<a href=\"https://storage.googleapis.com/instacart-datasets/products.csv\">products.csv</a><ul></ul>\n",
    "\n",
    "[entire dataset from Instacart site](https://www.kaggle.com/c/instacart-market-basket-analysis/overview)\n"
   ]
  },
  {
   "cell_type": "markdown",
   "metadata": {},
   "source": [
    "---\n",
    "---"
   ]
  },
  {
   "cell_type": "markdown",
   "metadata": {},
   "source": [
    "# Reading datasets\n",
    "<a href=\"#Instartcart-Market-Analysis\">Back to top</a><ul></ul>"
   ]
  },
  {
   "cell_type": "code",
   "execution_count": 1,
   "metadata": {
    "colab": {
     "base_uri": "https://8080-dot-13041870-dot-devshell.appspot.com/",
     "height": 74
    },
    "colab_type": "code",
    "id": "dS_M8p3LzPKk",
    "outputId": "3f2522c6-02d1-46a3-c6f9-757b72623c0c"
   },
   "outputs": [],
   "source": [
    "import pandas as pd\n",
    "import seaborn as sns\n",
    "import matplotlib.pyplot as plt\n",
    "import numpy as np\n",
    "import scipy.stats as stats\n"
   ]
  },
  {
   "cell_type": "markdown",
   "metadata": {},
   "source": [
    "datasets are loaded locally."
   ]
  },
  {
   "cell_type": "code",
   "execution_count": 2,
   "metadata": {
    "colab": {},
    "colab_type": "code",
    "id": "n7P5P382zwBH"
   },
   "outputs": [
    {
     "name": "stdout",
     "output_type": "stream",
     "text": [
      "CPU times: user 11.7 s, sys: 2.85 s, total: 14.6 s\n",
      "Wall time: 18.4 s\n"
     ]
    }
   ],
   "source": [
    "%%time\n",
    "aisles = pd.read_csv('/Users/donkim/Desktop/instacart-market-basket-analysis/aisles.csv')\n",
    "departments = pd.read_csv('/Users/donkim/Desktop/instacart-market-basket-analysis/departments.csv')\n",
    "order_products_prior = pd.read_csv('/Users/donkim/Desktop/instacart-market-basket-analysis/order_products__prior.csv')\n",
    "order_products_train = pd.read_csv('/Users/donkim/Desktop/instacart-market-basket-analysis/order_products__train.csv')\n",
    "orders = pd.read_csv('/Users/donkim/Desktop/instacart-market-basket-analysis/orders.csv')\n",
    "products = pd.read_csv('/Users/donkim/Desktop/instacart-market-basket-analysis/products.csv')\n",
    "df_list = []\n",
    "df_list.append(aisles)\n",
    "df_list.append(departments)\n",
    "df_list.append(order_products_prior)\n",
    "df_list.append(order_products_train)\n",
    "df_list.append(orders)\n",
    "df_list.append(products)"
   ]
  },
  {
   "cell_type": "markdown",
   "metadata": {},
   "source": [
    "---\n",
    "---"
   ]
  },
  {
   "cell_type": "markdown",
   "metadata": {
    "colab_type": "text",
    "id": "0mOWHKSuMS1b"
   },
   "source": [
    "# Initial data cleaning\n",
    "<a href=\"#Instartcart-Market-Analysis\">Back to top</a><ul></ul>"
   ]
  },
  {
   "cell_type": "markdown",
   "metadata": {},
   "source": [
    "It shows all the datatypes and number of null values in datasets. Null values are removed instead of replacing."
   ]
  },
  {
   "cell_type": "code",
   "execution_count": 3,
   "metadata": {
    "colab": {
     "base_uri": "https://8080-dot-13041870-dot-devshell.appspot.com/",
     "height": 1000
    },
    "colab_type": "code",
    "id": "Ao9x1yjRWDLB",
    "outputId": "bd90771e-4081-44a0-f4ee-c5c0c55ee154"
   },
   "outputs": [
    {
     "name": "stdout",
     "output_type": "stream",
     "text": [
      "<class 'pandas.core.frame.DataFrame'>\n",
      "RangeIndex: 134 entries, 0 to 133\n",
      "Data columns (total 2 columns):\n",
      " #   Column    Non-Null Count  Dtype \n",
      "---  ------    --------------  ----- \n",
      " 0   aisle_id  134 non-null    int64 \n",
      " 1   aisle     134 non-null    object\n",
      "dtypes: int64(1), object(1)\n",
      "memory usage: 2.2+ KB\n",
      "None\n",
      "(134, 2)\n",
      " - NaN in dataset - \n",
      "aisle_id    0\n",
      "aisle       0\n",
      "dtype: int64\n",
      "--------------------------------------------\n",
      "<class 'pandas.core.frame.DataFrame'>\n",
      "RangeIndex: 21 entries, 0 to 20\n",
      "Data columns (total 2 columns):\n",
      " #   Column         Non-Null Count  Dtype \n",
      "---  ------         --------------  ----- \n",
      " 0   department_id  21 non-null     int64 \n",
      " 1   department     21 non-null     object\n",
      "dtypes: int64(1), object(1)\n",
      "memory usage: 464.0+ bytes\n",
      "None\n",
      "(21, 2)\n",
      " - NaN in dataset - \n",
      "department_id    0\n",
      "department       0\n",
      "dtype: int64\n",
      "--------------------------------------------\n",
      "<class 'pandas.core.frame.DataFrame'>\n",
      "RangeIndex: 32434489 entries, 0 to 32434488\n",
      "Data columns (total 4 columns):\n",
      " #   Column             Dtype\n",
      "---  ------             -----\n",
      " 0   order_id           int64\n",
      " 1   product_id         int64\n",
      " 2   add_to_cart_order  int64\n",
      " 3   reordered          int64\n",
      "dtypes: int64(4)\n",
      "memory usage: 989.8 MB\n",
      "None\n",
      "(32434489, 4)\n",
      " - NaN in dataset - \n",
      "order_id             0\n",
      "product_id           0\n",
      "add_to_cart_order    0\n",
      "reordered            0\n",
      "dtype: int64\n",
      "--------------------------------------------\n",
      "<class 'pandas.core.frame.DataFrame'>\n",
      "RangeIndex: 1384617 entries, 0 to 1384616\n",
      "Data columns (total 4 columns):\n",
      " #   Column             Non-Null Count    Dtype\n",
      "---  ------             --------------    -----\n",
      " 0   order_id           1384617 non-null  int64\n",
      " 1   product_id         1384617 non-null  int64\n",
      " 2   add_to_cart_order  1384617 non-null  int64\n",
      " 3   reordered          1384617 non-null  int64\n",
      "dtypes: int64(4)\n",
      "memory usage: 42.3 MB\n",
      "None\n",
      "(1384617, 4)\n",
      " - NaN in dataset - \n",
      "order_id             0\n",
      "product_id           0\n",
      "add_to_cart_order    0\n",
      "reordered            0\n",
      "dtype: int64\n",
      "--------------------------------------------\n",
      "<class 'pandas.core.frame.DataFrame'>\n",
      "RangeIndex: 3421083 entries, 0 to 3421082\n",
      "Data columns (total 7 columns):\n",
      " #   Column                  Dtype  \n",
      "---  ------                  -----  \n",
      " 0   order_id                int64  \n",
      " 1   user_id                 int64  \n",
      " 2   eval_set                object \n",
      " 3   order_number            int64  \n",
      " 4   order_dow               int64  \n",
      " 5   order_hour_of_day       int64  \n",
      " 6   days_since_prior_order  float64\n",
      "dtypes: float64(1), int64(5), object(1)\n",
      "memory usage: 182.7+ MB\n",
      "None\n",
      "(3421083, 7)\n",
      " - NaN in dataset - \n",
      "order_id                       0\n",
      "user_id                        0\n",
      "eval_set                       0\n",
      "order_number                   0\n",
      "order_dow                      0\n",
      "order_hour_of_day              0\n",
      "days_since_prior_order    206209\n",
      "dtype: int64\n",
      "--------------------------------------------\n",
      "<class 'pandas.core.frame.DataFrame'>\n",
      "RangeIndex: 49688 entries, 0 to 49687\n",
      "Data columns (total 4 columns):\n",
      " #   Column         Non-Null Count  Dtype \n",
      "---  ------         --------------  ----- \n",
      " 0   product_id     49688 non-null  int64 \n",
      " 1   product_name   49688 non-null  object\n",
      " 2   aisle_id       49688 non-null  int64 \n",
      " 3   department_id  49688 non-null  int64 \n",
      "dtypes: int64(3), object(1)\n",
      "memory usage: 1.5+ MB\n",
      "None\n",
      "(49688, 4)\n",
      " - NaN in dataset - \n",
      "product_id       0\n",
      "product_name     0\n",
      "aisle_id         0\n",
      "department_id    0\n",
      "dtype: int64\n",
      "--------------------------------------------\n"
     ]
    }
   ],
   "source": [
    "for l in df_list:\n",
    "  print(l.info())\n",
    "  print(l.shape)\n",
    "  print(' - NaN in dataset - ')\n",
    "  print(l.isnull().sum())\n",
    "  print('--------------------------------------------')\n",
    "\n",
    "# orders.days_since_prior_order.dropna(axis=0, how='any',inplace=True)\n",
    "# orders['days_since_prior_order'] = orders.days_since_prior_order.astype(int)\n",
    "orders.days_since_prior_order.dropna(inplace=True)\n",
    "\n",
    "\n"
   ]
  },
  {
   "cell_type": "markdown",
   "metadata": {},
   "source": [
    "---\n",
    "---"
   ]
  },
  {
   "cell_type": "markdown",
   "metadata": {
    "colab_type": "text",
    "id": "AiVpxQefMI36"
   },
   "source": [
    "# Data exploration\n",
    "<a href=\"#Instartcart-Market-Analysis\">Back to top</a><ul></ul>"
   ]
  },
  {
   "cell_type": "markdown",
   "metadata": {},
   "source": [
    "## Plot of order demand during week over 24 hours\n",
    "\n",
    "It shows a plot of order count in 24 hours. Each line represents monday to sunday"
   ]
  },
  {
   "cell_type": "code",
   "execution_count": 58,
   "metadata": {
    "colab": {
     "base_uri": "https://8080-dot-13041870-dot-devshell.appspot.com/",
     "height": 361
    },
    "colab_type": "code",
    "id": "hweZSBdu3okv",
    "outputId": "bfd056d0-541b-4e81-ba57-ac74c4fe3044"
   },
   "outputs": [
    {
     "data": {
      "image/png": "[encoded data removed]",
      "text/plain": [
       "<Figure size 720x360 with 1 Axes>"
      ]
     },
     "metadata": {},
     "output_type": "display_data"
    }
   ],
   "source": [
    "#\n",
    "path='/content/drive/My Drive/'\n",
    "plt.figure(figsize=(10,5))\n",
    "for i in range(0,7):\n",
    "  orders[orders['order_dow']==i].groupby('order_hour_of_day').size().plot()\n",
    "plt.legend(['Sun','Mon','Tue','Wed','Thur','Fri','Sat'])\n",
    "plt.title('order hour of day', fontsize= 20)\n",
    "plt.xlabel('order_hour_of_day', fontsize= 15) \n",
    "plt.ylabel('count', fontsize= 15)\n",
    "plt.xticks(range(0,24))\n",
    "plt.grid()\n",
    "#plt.savefig(path+'.png')\n",
    "plt.show()"
   ]
  },
  {
   "cell_type": "markdown",
   "metadata": {},
   "source": [
    "## Number of order in a week"
   ]
  },
  {
   "cell_type": "code",
   "execution_count": 59,
   "metadata": {
    "colab": {
     "base_uri": "https://8080-dot-13041870-dot-devshell.appspot.com/",
     "height": 399
    },
    "colab_type": "code",
    "id": "ds2IQ0Hl5Pub",
    "outputId": "5eb954cb-9fde-4084-e4bb-65d6a547a2fc"
   },
   "outputs": [
    {
     "data": {
      "text/plain": [
       "(array([     0., 100000., 200000., 300000., 400000., 500000., 600000.,\n",
       "        700000.]),\n",
       " <a list of 8 Text yticklabel objects>)"
      ]
     },
     "execution_count": 59,
     "metadata": {},
     "output_type": "execute_result"
    },
    {
     "data": {
      "image/png": "[encoded data removed]",
      "text/plain": [
       "<Figure size 720x360 with 1 Axes>"
      ]
     },
     "metadata": {},
     "output_type": "display_data"
    }
   ],
   "source": [
    "plt.figure(figsize=(10,5))\n",
    "orders.groupby('order_dow').size().plot(kind=\"bar\")\n",
    "plt.title('order day of the week',fontsize=20)\n",
    "plt.xlabel('order in a day of the week',fontsize=15) \n",
    "plt.ylabel('count',fontsize=15)\n",
    "plt.xticks([0,1,2,3,4,5,6],['Sun','Mon','Tue','Wed','Thur','Fri','Sat'],rotation=0,fontsize=15)\n",
    "plt.yticks(fontsize=15)\n",
    "#plt.savefig(path+'.png')"
   ]
  },
  {
   "cell_type": "markdown",
   "metadata": {},
   "source": [
    "## Days since order has placed\n",
    "\n",
    "Plot shows how long the delay is when customer do next order. Pick order day is after 7 days. Anything over 30 days is in 30 days bar."
   ]
  },
  {
   "cell_type": "code",
   "execution_count": 60,
   "metadata": {
    "colab": {
     "base_uri": "https://8080-dot-13041870-dot-devshell.appspot.com/",
     "height": 642
    },
    "colab_type": "code",
    "id": "bewewrkUZa4L",
    "outputId": "a3625d20-2630-4936-ef84-3ed766f6ee26"
   },
   "outputs": [
    {
     "data": {
      "text/plain": [
       "(array([ 0,  1,  2,  3,  4,  5,  6,  7,  8,  9, 10, 11, 12, 13, 14, 15, 16,\n",
       "        17, 18, 19, 20, 21, 22, 23, 24, 25, 26, 27, 28, 29, 30]),\n",
       " <a list of 31 Text xticklabel objects>)"
      ]
     },
     "execution_count": 60,
     "metadata": {},
     "output_type": "execute_result"
    },
    {
     "data": {
      "image/png": "[encoded data removed]",
      "text/plain": [
       "<Figure size 1440x720 with 1 Axes>"
      ]
     },
     "metadata": {},
     "output_type": "display_data"
    }
   ],
   "source": [
    "plt.figure(figsize=(20,10))\n",
    "orders.groupby('days_since_prior_order').size().plot(kind=\"bar\")\n",
    "plt.title('orders days since prior order', fontsize=20)\n",
    "plt.xlabel('Orders days since prior order', fontsize=15)\n",
    "plt.ylabel('count',fontsize =15)\n",
    "plt.xticks(rotation=0)\n",
    "\n"
   ]
  },
  {
   "cell_type": "markdown",
   "metadata": {},
   "source": [
    "## Finding top 10 selling products"
   ]
  },
  {
   "cell_type": "markdown",
   "metadata": {},
   "source": [
    "### - Merge dataset \n",
    "Merge dataset in order to find product name."
   ]
  },
  {
   "cell_type": "code",
   "execution_count": 61,
   "metadata": {
    "colab": {
     "base_uri": "https://8080-dot-13041870-dot-devshell.appspot.com/",
     "height": 204
    },
    "colab_type": "code",
    "id": "YcOIjShAo8au",
    "outputId": "b71015f0-4912-45ff-f27b-432780f15e8f"
   },
   "outputs": [
    {
     "data": {
      "text/html": [
       "<div>\n",
       "<style scoped>\n",
       "    .dataframe tbody tr th:only-of-type {\n",
       "        vertical-align: middle;\n",
       "    }\n",
       "\n",
       "    .dataframe tbody tr th {\n",
       "        vertical-align: top;\n",
       "    }\n",
       "\n",
       "    .dataframe thead th {\n",
       "        text-align: right;\n",
       "    }\n",
       "</style>\n",
       "<table border=\"1\" class=\"dataframe\">\n",
       "  <thead>\n",
       "    <tr style=\"text-align: right;\">\n",
       "      <th></th>\n",
       "      <th>order_id</th>\n",
       "      <th>product_id</th>\n",
       "      <th>add_to_cart_order</th>\n",
       "      <th>reordered</th>\n",
       "      <th>product_name</th>\n",
       "      <th>aisle_id</th>\n",
       "      <th>department_id</th>\n",
       "    </tr>\n",
       "  </thead>\n",
       "  <tbody>\n",
       "    <tr>\n",
       "      <th>0</th>\n",
       "      <td>1</td>\n",
       "      <td>49302</td>\n",
       "      <td>1</td>\n",
       "      <td>1</td>\n",
       "      <td>Bulgarian Yogurt</td>\n",
       "      <td>120</td>\n",
       "      <td>16</td>\n",
       "    </tr>\n",
       "    <tr>\n",
       "      <th>1</th>\n",
       "      <td>816049</td>\n",
       "      <td>49302</td>\n",
       "      <td>7</td>\n",
       "      <td>1</td>\n",
       "      <td>Bulgarian Yogurt</td>\n",
       "      <td>120</td>\n",
       "      <td>16</td>\n",
       "    </tr>\n",
       "    <tr>\n",
       "      <th>2</th>\n",
       "      <td>1242203</td>\n",
       "      <td>49302</td>\n",
       "      <td>1</td>\n",
       "      <td>1</td>\n",
       "      <td>Bulgarian Yogurt</td>\n",
       "      <td>120</td>\n",
       "      <td>16</td>\n",
       "    </tr>\n",
       "    <tr>\n",
       "      <th>3</th>\n",
       "      <td>1383349</td>\n",
       "      <td>49302</td>\n",
       "      <td>11</td>\n",
       "      <td>1</td>\n",
       "      <td>Bulgarian Yogurt</td>\n",
       "      <td>120</td>\n",
       "      <td>16</td>\n",
       "    </tr>\n",
       "    <tr>\n",
       "      <th>4</th>\n",
       "      <td>1787378</td>\n",
       "      <td>49302</td>\n",
       "      <td>8</td>\n",
       "      <td>0</td>\n",
       "      <td>Bulgarian Yogurt</td>\n",
       "      <td>120</td>\n",
       "      <td>16</td>\n",
       "    </tr>\n",
       "  </tbody>\n",
       "</table>\n",
       "</div>"
      ],
      "text/plain": [
       "   order_id  product_id  add_to_cart_order  reordered      product_name  \\\n",
       "0         1       49302                  1          1  Bulgarian Yogurt   \n",
       "1    816049       49302                  7          1  Bulgarian Yogurt   \n",
       "2   1242203       49302                  1          1  Bulgarian Yogurt   \n",
       "3   1383349       49302                 11          1  Bulgarian Yogurt   \n",
       "4   1787378       49302                  8          0  Bulgarian Yogurt   \n",
       "\n",
       "   aisle_id  department_id  \n",
       "0       120             16  \n",
       "1       120             16  \n",
       "2       120             16  \n",
       "3       120             16  \n",
       "4       120             16  "
      ]
     },
     "execution_count": 61,
     "metadata": {},
     "output_type": "execute_result"
    }
   ],
   "source": [
    "new_train = pd.merge(order_products_train, products, on='product_id')\n",
    "new_train.head()"
   ]
  },
  {
   "cell_type": "markdown",
   "metadata": {},
   "source": [
    "### - Plot of 10 selling products"
   ]
  },
  {
   "cell_type": "code",
   "execution_count": 62,
   "metadata": {
    "colab": {
     "base_uri": "https://8080-dot-13041870-dot-devshell.appspot.com/",
     "height": 572
    },
    "colab_type": "code",
    "id": "pMkc8nhPazN2",
    "outputId": "63a550cc-7b48-47b4-b762-2ce1a7e8b52c"
   },
   "outputs": [
    {
     "ename": "TypeError",
     "evalue": "'Text' object is not callable",
     "output_type": "error",
     "traceback": [
      "\u001b[0;31m---------------------------------------------------------------------------\u001b[0m",
      "\u001b[0;31mTypeError\u001b[0m                                 Traceback (most recent call last)",
      "\u001b[0;32m<ipython-input-62-624eef766e50>\u001b[0m in \u001b[0;36m<module>\u001b[0;34m\u001b[0m\n\u001b[1;32m     10\u001b[0m \u001b[0mp\u001b[0m \u001b[0;34m=\u001b[0m \u001b[0mdf2\u001b[0m\u001b[0;34m.\u001b[0m\u001b[0mplot\u001b[0m\u001b[0;34m.\u001b[0m\u001b[0mbar\u001b[0m\u001b[0;34m(\u001b[0m\u001b[0;34m)\u001b[0m\u001b[0;34m\u001b[0m\u001b[0;34m\u001b[0m\u001b[0m\n\u001b[1;32m     11\u001b[0m \u001b[0mp\u001b[0m\u001b[0;34m.\u001b[0m\u001b[0mlegend\u001b[0m\u001b[0;34m(\u001b[0m\u001b[0;34m)\u001b[0m\u001b[0;34m.\u001b[0m\u001b[0mremove\u001b[0m\u001b[0;34m(\u001b[0m\u001b[0;34m)\u001b[0m\u001b[0;34m\u001b[0m\u001b[0;34m\u001b[0m\u001b[0m\n\u001b[0;32m---> 12\u001b[0;31m \u001b[0mp\u001b[0m\u001b[0;34m.\u001b[0m\u001b[0mtitle\u001b[0m\u001b[0;34m(\u001b[0m\u001b[0;34m'Top 10 selling products'\u001b[0m\u001b[0;34m)\u001b[0m\u001b[0;34m\u001b[0m\u001b[0;34m\u001b[0m\u001b[0m\n\u001b[0m",
      "\u001b[0;31mTypeError\u001b[0m: 'Text' object is not callable"
     ]
    },
    {
     "data": {
      "image/png": "[encoded data removed]",
      "text/plain": [
       "<Figure size 576x396 with 1 Axes>"
      ]
     },
     "metadata": {},
     "output_type": "display_data"
    }
   ],
   "source": [
    "#df = pd.DataFrame({'Product_ID':order_products_train.product_id.unique()})\n",
    "#df.groupby('Product_ID').count()\n",
    "#df\n",
    "#order_products_train.product_id.value_counts()\n",
    "#c = products[products.product_id.isin(df.index)].product_name\n",
    "# merge https://pandas.pydata.org/pandas-docs/stable/user_guide/merging.html\n",
    "new_train = pd.merge(order_products_prior, products, on='product_id')\n",
    "df = new_train.groupby('product_name').size().to_frame('size')\n",
    "df2 = df.sort_values(by='size', ascending=False).head(10)\n",
    "p = df2.plot.bar()\n",
    "p.legend().remove()\n",
    "p.title('Top 10 selling products')"
   ]
  },
  {
   "cell_type": "markdown",
   "metadata": {},
   "source": [
    "## Plot of reorder ratio\n",
    "58% products are reordered"
   ]
  },
  {
   "cell_type": "code",
   "execution_count": 63,
   "metadata": {
    "colab": {
     "base_uri": "https://8080-dot-13041870-dot-devshell.appspot.com/",
     "height": 385
    },
    "colab_type": "code",
    "id": "wxWTPm8I1FJ6",
    "outputId": "ec6040f4-8293-4dca-e8ac-42405896992e"
   },
   "outputs": [
    {
     "name": "stdout",
     "output_type": "stream",
     "text": [
      "1    0.589697\n",
      "0    0.410303\n",
      "Name: reordered, dtype: float64\n"
     ]
    },
    {
     "data": {
      "image/png": "[encoded data removed]",
      "text/plain": [
       "<Figure size 720x360 with 1 Axes>"
      ]
     },
     "metadata": {},
     "output_type": "display_data"
    }
   ],
   "source": [
    "plt.figure(figsize=(10,5))\n",
    "order_products_train.head()\n",
    "#df.plot.bar( y='size', rot =0)\n",
    "order_products_prior.reordered.value_counts(normalize=True).plot(kind=\"bar\",alpha =0.5)\n",
    "plt.title('Reorder ratio',fontsize=15)\n",
    "print(order_products_prior.reordered.value_counts(normalize=True))"
   ]
  },
  {
   "cell_type": "markdown",
   "metadata": {},
   "source": [
    "## Distribution of number of order items\n",
    "\n",
    "Maximum number of order items is 145. Median size of order is 8.\n"
   ]
  },
  {
   "cell_type": "code",
   "execution_count": 64,
   "metadata": {
    "colab": {
     "base_uri": "https://8080-dot-13041870-dot-devshell.appspot.com/",
     "height": 700
    },
    "colab_type": "code",
    "id": "lqVCJENk8trL",
    "outputId": "20a32e76-63d1-47b9-82ba-e1dd918cbc14"
   },
   "outputs": [
    {
     "name": "stdout",
     "output_type": "stream",
     "text": [
      "          size\n",
      "order_id      \n",
      "2            9\n",
      "3            8\n",
      "4           13\n",
      "5           26\n",
      "6            3\n",
      "               size\n",
      "count  3.214874e+06\n",
      "mean   1.008888e+01\n",
      "std    7.525398e+00\n",
      "min    1.000000e+00\n",
      "25%    5.000000e+00\n",
      "50%    8.000000e+00\n",
      "75%    1.400000e+01\n",
      "max    1.450000e+02\n",
      "median  size    8.0\n",
      "dtype: float64\n",
      "max size    145\n",
      "dtype: int64\n"
     ]
    },
    {
     "data": {
      "image/png": "[encoded data removed]",
      "text/plain": [
       "<Figure size 720x360 with 1 Axes>"
      ]
     },
     "metadata": {},
     "output_type": "display_data"
    }
   ],
   "source": [
    "\n",
    "df = order_products_prior.groupby('order_id').size().to_frame('size')\n",
    "#df2 = df.sort_values(by='size', ascending=False).head(30)\n",
    "#df2.plot.bar()\n",
    "#print(df2)\n",
    "#order_products_train.order_id.value_counts().plot(kind=\"bar\",alpha =0.5)\n",
    "#order_products_train.order_id.value_counts(\n",
    "plt.figure(figsize=(10,5))\n",
    "print(df.head())\n",
    "sns.distplot(df,hist=False)\n",
    "plt.title('Distribution of number of orders', fontsize =20)\n",
    "plt.xlabel('Number of orders', fontsize =15)\n",
    "print(df.describe())\n",
    "print('median ',df.median())\n",
    "print('max', df.max())\n"
   ]
  },
  {
   "cell_type": "markdown",
   "metadata": {},
   "source": [
    "## Number of orders for customers\n",
    "\n",
    "Customers orders at least 3 times."
   ]
  },
  {
   "cell_type": "code",
   "execution_count": 65,
   "metadata": {
    "colab": {
     "base_uri": "https://8080-dot-13041870-dot-devshell.appspot.com/",
     "height": 528
    },
    "colab_type": "code",
    "id": "gAkkkd8CZVBP",
    "outputId": "e0cffac8-5c13-41b9-e1f5-5c31f722d378"
   },
   "outputs": [
    {
     "data": {
      "text/plain": [
       "Text(0.5, 0, 'Order numbers')"
      ]
     },
     "execution_count": 65,
     "metadata": {},
     "output_type": "execute_result"
    },
    {
     "data": {
      "image/png": "[encoded data removed]",
      "text/plain": [
       "<Figure size 1440x720 with 1 Axes>"
      ]
     },
     "metadata": {},
     "output_type": "display_data"
    }
   ],
   "source": [
    "plt.figure(figsize=(20,10))\n",
    "orders.order_number.value_counts(normalize=False).plot(kind=\"bar\",alpha =0.5)\n",
    "\n",
    "plt.title('Number of orders for customers',fontsize=20)\n",
    "plt.xlabel('Order numbers',fontsize=15)\n",
    "# It shows that cusotmer orders at least 3 times and more."
   ]
  },
  {
   "cell_type": "markdown",
   "metadata": {},
   "source": [
    "\n",
    "## Pie chart of product distribution\n",
    "\n",
    "Produce, daily eggs, snack and beverage are over 50% of product sold.\n",
    "\n"
   ]
  },
  {
   "cell_type": "code",
   "execution_count": 52,
   "metadata": {
    "colab": {
     "base_uri": "https://8080-dot-13041870-dot-devshell.appspot.com/",
     "height": 1000
    },
    "colab_type": "code",
    "id": "6I-WhtObZTzi",
    "outputId": "71b337cc-b86e-40ae-a249-4d4f9cb75194"
   },
   "outputs": [
    {
     "data": {
      "text/plain": [
       "([<matplotlib.patches.Wedge at 0x1b73d18690>,\n",
       "  <matplotlib.patches.Wedge at 0x1b73d18e50>,\n",
       "  <matplotlib.patches.Wedge at 0x1b73d20650>,\n",
       "  <matplotlib.patches.Wedge at 0x1b73d20e50>,\n",
       "  <matplotlib.patches.Wedge at 0x1b73d29890>,\n",
       "  <matplotlib.patches.Wedge at 0x1b73d34150>,\n",
       "  <matplotlib.patches.Wedge at 0x1b73ced4d0>,\n",
       "  <matplotlib.patches.Wedge at 0x1b73d34e90>,\n",
       "  <matplotlib.patches.Wedge at 0x1b73d3e690>,\n",
       "  <matplotlib.patches.Wedge at 0x1b73d29ed0>,\n",
       "  <matplotlib.patches.Wedge at 0x1b73d4a550>,\n",
       "  <matplotlib.patches.Wedge at 0x1b73d4ad10>,\n",
       "  <matplotlib.patches.Wedge at 0x1b73d54510>,\n",
       "  <matplotlib.patches.Wedge at 0x1b73d54cd0>,\n",
       "  <matplotlib.patches.Wedge at 0x1b754954d0>,\n",
       "  <matplotlib.patches.Wedge at 0x1b75495c90>,\n",
       "  <matplotlib.patches.Wedge at 0x1b754a1490>,\n",
       "  <matplotlib.patches.Wedge at 0x1b754a1c50>,\n",
       "  <matplotlib.patches.Wedge at 0x1b754ab450>,\n",
       "  <matplotlib.patches.Wedge at 0x1b754abc10>,\n",
       "  <matplotlib.patches.Wedge at 0x1b754b6410>],\n",
       " [Text(0.6680107956168984, 0.8739345381315918, 'produce'),\n",
       "  Text(-0.7813301447473172, 0.7742888381664407, 'dairy eggs'),\n",
       "  Text(-1.0997036040614931, -0.025533961975437093, 'snacks'),\n",
       "  Text(-0.929949414726075, -0.5875322000117363, 'beverages'),\n",
       "  Text(-0.5562240525522754, -0.949007272555023, 'frozen'),\n",
       "  Text(-0.14462287136854038, -1.0904513859302114, 'pantry'),\n",
       "  Text(0.17936859203453256, -1.0852773416005466, 'bakery'),\n",
       "  Text(0.40926728358851094, -1.021029035132734, 'canned goods'),\n",
       "  Text(0.6087978507482359, -0.916168749152867, 'deli'),\n",
       "  Text(0.7675383742555044, -0.7879624636016728, 'dry goods pasta'),\n",
       "  Text(0.8803045342869532, -0.659593759001577, 'household'),\n",
       "  Text(0.9638794655266397, -0.5300343158099101, 'breakfast'),\n",
       "  Text(1.0273913179752587, -0.3930230015521494, 'meat seafood'),\n",
       "  Text(1.0648739543951256, -0.27575978903909826, 'personal care'),\n",
       "  Text(1.0843221007029922, -0.18505561846928756, 'babies'),\n",
       "  Text(1.0942931529637745, -0.1119039560364211, 'international'),\n",
       "  Text(1.0979580740896553, -0.06699304099184727, 'alcohol'),\n",
       "  Text(1.099263806043585, -0.04023785186328497, 'pets'),\n",
       "  Text(1.0997705550753378, -0.022466112019734856, 'missing'),\n",
       "  Text(1.0999426362912312, -0.011233737966351348, 'other'),\n",
       "  Text(1.0999938320311973, -0.0036836793186330766, 'bulk')],\n",
       " [Text(0.3643695248819445, 0.47669156625359543, '29.2%'),\n",
       "  Text(-0.4261800789530821, 0.42233936627260393, '16.7%'),\n",
       "  Text(-0.599838329488087, -0.013927615622965685, '8.9%'),\n",
       "  Text(-0.5072451353051317, -0.32047210909731066, '8.3%'),\n",
       "  Text(-0.3033949377557865, -0.5176403304845579, '6.9%'),\n",
       "  Text(-0.07888520256465838, -0.5947916650528425, '5.8%'),\n",
       "  Text(0.09783741383701774, -0.5919694590548435, '3.6%'),\n",
       "  Text(0.22323670013918775, -0.5569249282542185, '3.3%'),\n",
       "  Text(0.33207155495358315, -0.49972840862883644, '3.2%'),\n",
       "  Text(0.4186572950484569, -0.4297977074190942, '2.7%'),\n",
       "  Text(0.4801661096110653, -0.3597784140008602, '2.3%'),\n",
       "  Text(0.5257524357418034, -0.2891096268054055, '2.2%'),\n",
       "  Text(0.5603952643501411, -0.21437618266480876, '2.2%'),\n",
       "  Text(0.5808403387609775, -0.1504144303849627, '1.4%'),\n",
       "  Text(0.5914484185652683, -0.10093942825597502, '1.3%'),\n",
       "  Text(0.596887174343877, -0.0610385214744115, '0.8%'),\n",
       "  Text(0.598886222230721, -0.03654165872282578, '0.5%'),\n",
       "  Text(0.5995984396601373, -0.021947919198155436, '0.3%'),\n",
       "  Text(0.5998748482229115, -0.012254242919855376, '0.2%'),\n",
       "  Text(0.5999687107043078, -0.006127493436191644, '0.1%'),\n",
       "  Text(0.5999966356533802, -0.0020092796283453142, '0.1%')])"
      ]
     },
     "execution_count": 52,
     "metadata": {},
     "output_type": "execute_result"
    },
    {
     "data": {
      "image/png": "[encoded data removed]",
      "text/plain": [
       "<Figure size 1440x720 with 1 Axes>"
      ]
     },
     "metadata": {},
     "output_type": "display_data"
    }
   ],
   "source": [
    "p_df=pd.merge(products,departments,on='department_id')\n",
    "p_df=pd.merge(p_df,aisles, on ='aisle_id')\n",
    "o_df=pd.merge(p_df,order_products_prior,on = 'product_id')\n",
    "plt.figure(figsize=(20,10))\n",
    "result = o_df['department'].value_counts(normalize=True)\n",
    "plt.pie(result,labels=result.index, autopct='%1.1f%%')"
   ]
  },
  {
   "cell_type": "markdown",
   "metadata": {},
   "source": [
    "---\n",
    "---"
   ]
  },
  {
   "cell_type": "markdown",
   "metadata": {
    "colab_type": "text",
    "id": "buGNTgDIMB7_"
   },
   "source": [
    "# Correlation\n",
    "<a href=\"#Instartcart-Market-Analysis\">Back to top</a><ul></ul>"
   ]
  },
  {
   "cell_type": "markdown",
   "metadata": {},
   "source": [
    "### Correlation of orders"
   ]
  },
  {
   "cell_type": "code",
   "execution_count": 51,
   "metadata": {
    "colab": {
     "base_uri": "https://8080-dot-13041870-dot-devshell.appspot.com/",
     "height": 615
    },
    "colab_type": "code",
    "id": "4qXsvDvnNaes",
    "outputId": "5cbdf4b6-0c54-4ca3-8363-bfa7bafaddc9"
   },
   "outputs": [
    {
     "data": {
      "text/html": [
       "<style  type=\"text/css\" >\n",
       "    #T_4637cc00_c0bd_11ea_9735_542696d0d73brow0_col0 {\n",
       "            background-color:  #b40426;\n",
       "            color:  #f1f1f1;\n",
       "        }    #T_4637cc00_c0bd_11ea_9735_542696d0d73brow0_col1 {\n",
       "            background-color:  #465ecf;\n",
       "            color:  #f1f1f1;\n",
       "        }    #T_4637cc00_c0bd_11ea_9735_542696d0d73brow0_col2 {\n",
       "            background-color:  #3b4cc0;\n",
       "            color:  #f1f1f1;\n",
       "        }    #T_4637cc00_c0bd_11ea_9735_542696d0d73brow0_col3 {\n",
       "            background-color:  #3b4cc0;\n",
       "            color:  #f1f1f1;\n",
       "        }    #T_4637cc00_c0bd_11ea_9735_542696d0d73brow0_col4 {\n",
       "            background-color:  #4055c8;\n",
       "            color:  #f1f1f1;\n",
       "        }    #T_4637cc00_c0bd_11ea_9735_542696d0d73brow1_col0 {\n",
       "            background-color:  #96b7ff;\n",
       "            color:  #000000;\n",
       "        }    #T_4637cc00_c0bd_11ea_9735_542696d0d73brow1_col1 {\n",
       "            background-color:  #b40426;\n",
       "            color:  #f1f1f1;\n",
       "        }    #T_4637cc00_c0bd_11ea_9735_542696d0d73brow1_col2 {\n",
       "            background-color:  #465ecf;\n",
       "            color:  #f1f1f1;\n",
       "        }    #T_4637cc00_c0bd_11ea_9735_542696d0d73brow1_col3 {\n",
       "            background-color:  #8badfd;\n",
       "            color:  #000000;\n",
       "        }    #T_4637cc00_c0bd_11ea_9735_542696d0d73brow1_col4 {\n",
       "            background-color:  #3b4cc0;\n",
       "            color:  #f1f1f1;\n",
       "        }    #T_4637cc00_c0bd_11ea_9735_542696d0d73brow2_col0 {\n",
       "            background-color:  #89acfd;\n",
       "            color:  #000000;\n",
       "        }    #T_4637cc00_c0bd_11ea_9735_542696d0d73brow2_col1 {\n",
       "            background-color:  #445acc;\n",
       "            color:  #f1f1f1;\n",
       "        }    #T_4637cc00_c0bd_11ea_9735_542696d0d73brow2_col2 {\n",
       "            background-color:  #b40426;\n",
       "            color:  #f1f1f1;\n",
       "        }    #T_4637cc00_c0bd_11ea_9735_542696d0d73brow2_col3 {\n",
       "            background-color:  #92b4fe;\n",
       "            color:  #000000;\n",
       "        }    #T_4637cc00_c0bd_11ea_9735_542696d0d73brow2_col4 {\n",
       "            background-color:  #3f53c6;\n",
       "            color:  #f1f1f1;\n",
       "        }    #T_4637cc00_c0bd_11ea_9735_542696d0d73brow3_col0 {\n",
       "            background-color:  #3b4cc0;\n",
       "            color:  #f1f1f1;\n",
       "        }    #T_4637cc00_c0bd_11ea_9735_542696d0d73brow3_col1 {\n",
       "            background-color:  #3b4cc0;\n",
       "            color:  #f1f1f1;\n",
       "        }    #T_4637cc00_c0bd_11ea_9735_542696d0d73brow3_col2 {\n",
       "            background-color:  #455cce;\n",
       "            color:  #f1f1f1;\n",
       "        }    #T_4637cc00_c0bd_11ea_9735_542696d0d73brow3_col3 {\n",
       "            background-color:  #b40426;\n",
       "            color:  #f1f1f1;\n",
       "        }    #T_4637cc00_c0bd_11ea_9735_542696d0d73brow3_col4 {\n",
       "            background-color:  #536edd;\n",
       "            color:  #000000;\n",
       "        }    #T_4637cc00_c0bd_11ea_9735_542696d0d73brow4_col0 {\n",
       "            background-color:  #92b4fe;\n",
       "            color:  #000000;\n",
       "        }    #T_4637cc00_c0bd_11ea_9735_542696d0d73brow4_col1 {\n",
       "            background-color:  #3b4cc0;\n",
       "            color:  #f1f1f1;\n",
       "        }    #T_4637cc00_c0bd_11ea_9735_542696d0d73brow4_col2 {\n",
       "            background-color:  #4358cb;\n",
       "            color:  #f1f1f1;\n",
       "        }    #T_4637cc00_c0bd_11ea_9735_542696d0d73brow4_col3 {\n",
       "            background-color:  #a1c0ff;\n",
       "            color:  #000000;\n",
       "        }    #T_4637cc00_c0bd_11ea_9735_542696d0d73brow4_col4 {\n",
       "            background-color:  #b40426;\n",
       "            color:  #f1f1f1;\n",
       "        }</style><table id=\"T_4637cc00_c0bd_11ea_9735_542696d0d73b\" ><thead>    <tr>        <th class=\"blank level0\" ></th>        <th class=\"col_heading level0 col0\" >order_number</th>        <th class=\"col_heading level0 col1\" >order_dow</th>        <th class=\"col_heading level0 col2\" >order_hour_of_day</th>        <th class=\"col_heading level0 col3\" >days_since_prior_order</th>        <th class=\"col_heading level0 col4\" >order_size</th>    </tr></thead><tbody>\n",
       "                <tr>\n",
       "                        <th id=\"T_4637cc00_c0bd_11ea_9735_542696d0d73blevel0_row0\" class=\"row_heading level0 row0\" >order_number</th>\n",
       "                        <td id=\"T_4637cc00_c0bd_11ea_9735_542696d0d73brow0_col0\" class=\"data row0 col0\" >1.000000</td>\n",
       "                        <td id=\"T_4637cc00_c0bd_11ea_9735_542696d0d73brow0_col1\" class=\"data row0 col1\" >0.015157</td>\n",
       "                        <td id=\"T_4637cc00_c0bd_11ea_9735_542696d0d73brow0_col2\" class=\"data row0 col2\" >-0.035910</td>\n",
       "                        <td id=\"T_4637cc00_c0bd_11ea_9735_542696d0d73brow0_col3\" class=\"data row0 col3\" >-0.360495</td>\n",
       "                        <td id=\"T_4637cc00_c0bd_11ea_9735_542696d0d73brow0_col4\" class=\"data row0 col4\" >-0.002118</td>\n",
       "            </tr>\n",
       "            <tr>\n",
       "                        <th id=\"T_4637cc00_c0bd_11ea_9735_542696d0d73blevel0_row1\" class=\"row_heading level0 row1\" >order_dow</th>\n",
       "                        <td id=\"T_4637cc00_c0bd_11ea_9735_542696d0d73brow1_col0\" class=\"data row1 col0\" >0.015157</td>\n",
       "                        <td id=\"T_4637cc00_c0bd_11ea_9735_542696d0d73brow1_col1\" class=\"data row1 col1\" >1.000000</td>\n",
       "                        <td id=\"T_4637cc00_c0bd_11ea_9735_542696d0d73brow1_col2\" class=\"data row1 col2\" >0.006082</td>\n",
       "                        <td id=\"T_4637cc00_c0bd_11ea_9735_542696d0d73brow1_col3\" class=\"data row1 col3\" >-0.028409</td>\n",
       "                        <td id=\"T_4637cc00_c0bd_11ea_9735_542696d0d73brow1_col4\" class=\"data row1 col4\" >-0.025404</td>\n",
       "            </tr>\n",
       "            <tr>\n",
       "                        <th id=\"T_4637cc00_c0bd_11ea_9735_542696d0d73blevel0_row2\" class=\"row_heading level0 row2\" >order_hour_of_day</th>\n",
       "                        <td id=\"T_4637cc00_c0bd_11ea_9735_542696d0d73brow2_col0\" class=\"data row2 col0\" >-0.035910</td>\n",
       "                        <td id=\"T_4637cc00_c0bd_11ea_9735_542696d0d73brow2_col1\" class=\"data row2 col1\" >0.006082</td>\n",
       "                        <td id=\"T_4637cc00_c0bd_11ea_9735_542696d0d73brow2_col2\" class=\"data row2 col2\" >1.000000</td>\n",
       "                        <td id=\"T_4637cc00_c0bd_11ea_9735_542696d0d73brow2_col3\" class=\"data row2 col3\" >0.000863</td>\n",
       "                        <td id=\"T_4637cc00_c0bd_11ea_9735_542696d0d73brow2_col4\" class=\"data row2 col4\" >-0.005596</td>\n",
       "            </tr>\n",
       "            <tr>\n",
       "                        <th id=\"T_4637cc00_c0bd_11ea_9735_542696d0d73blevel0_row3\" class=\"row_heading level0 row3\" >days_since_prior_order</th>\n",
       "                        <td id=\"T_4637cc00_c0bd_11ea_9735_542696d0d73brow3_col0\" class=\"data row3 col0\" >-0.360495</td>\n",
       "                        <td id=\"T_4637cc00_c0bd_11ea_9735_542696d0d73brow3_col1\" class=\"data row3 col1\" >-0.028409</td>\n",
       "                        <td id=\"T_4637cc00_c0bd_11ea_9735_542696d0d73brow3_col2\" class=\"data row3 col2\" >0.000863</td>\n",
       "                        <td id=\"T_4637cc00_c0bd_11ea_9735_542696d0d73brow3_col3\" class=\"data row3 col3\" >1.000000</td>\n",
       "                        <td id=\"T_4637cc00_c0bd_11ea_9735_542696d0d73brow3_col4\" class=\"data row3 col4\" >0.057544</td>\n",
       "            </tr>\n",
       "            <tr>\n",
       "                        <th id=\"T_4637cc00_c0bd_11ea_9735_542696d0d73blevel0_row4\" class=\"row_heading level0 row4\" >order_size</th>\n",
       "                        <td id=\"T_4637cc00_c0bd_11ea_9735_542696d0d73brow4_col0\" class=\"data row4 col0\" >-0.002118</td>\n",
       "                        <td id=\"T_4637cc00_c0bd_11ea_9735_542696d0d73brow4_col1\" class=\"data row4 col1\" >-0.025404</td>\n",
       "                        <td id=\"T_4637cc00_c0bd_11ea_9735_542696d0d73brow4_col2\" class=\"data row4 col2\" >-0.005596</td>\n",
       "                        <td id=\"T_4637cc00_c0bd_11ea_9735_542696d0d73brow4_col3\" class=\"data row4 col3\" >0.057544</td>\n",
       "                        <td id=\"T_4637cc00_c0bd_11ea_9735_542696d0d73brow4_col4\" class=\"data row4 col4\" >1.000000</td>\n",
       "            </tr>\n",
       "    </tbody></table>"
      ],
      "text/plain": [
       "<pandas.io.formats.style.Styler at 0x1a296c3890>"
      ]
     },
     "execution_count": 51,
     "metadata": {},
     "output_type": "execute_result"
    }
   ],
   "source": [
    "orders.head()\n",
    "order_products = order_products_prior.append(order_products_train)\n",
    "order_size = order_products.groupby('order_id').size().to_frame('order_size')\n",
    "new_orders = pd.merge(orders, order_size, on='order_id')\n",
    "new_orders.head()\n",
    "new_orders.drop(columns=['order_id','user_id'],inplace=True)\n",
    "# import numpy as np\n",
    "# f, ax = plt.subplots(figsize=(10, 8))\n",
    "corr = new_orders.corr()\n",
    "# #sns.heatmap(corr, mask=np.zeros_like(corr, dtype=np.bool), cmap=sns.diverging_palette(220, 10, as_cmap=True),\n",
    "# #            square=True, ax=ax)\n",
    "corr.style.background_gradient(cmap='coolwarm')\n",
    "\n"
   ]
  },
  {
   "cell_type": "code",
   "execution_count": 54,
   "metadata": {
    "colab": {
     "base_uri": "https://8080-dot-13041870-dot-devshell.appspot.com/",
     "height": 505
    },
    "colab_type": "code",
    "id": "xOh8PYhzfvqK",
    "outputId": "ced9e6bc-a8f3-411b-c43c-84e43d75c926"
   },
   "outputs": [],
   "source": [
    "#import numpy as np\n",
    "#f, ax = plt.subplots(figsize=(10, 8))\n",
    "#corr = o_df.corr()\n",
    "#sns.heatmap(corr, mask=np.zeros_like(corr, dtype=np.bool), cmap=sns.diverging_palette(220, 10, as_cmap=True),\n",
    "#             square=True, ax=ax)\n",
    "#corr.style.background_gradient(cmap='coolwarm')"
   ]
  },
  {
   "cell_type": "markdown",
   "metadata": {},
   "source": [
    "---\n",
    "---"
   ]
  },
  {
   "cell_type": "markdown",
   "metadata": {},
   "source": [
    "# Association rule\n",
    "<a href=\"#Instartcart-Market-Analysis\">Back to top</a><ul></ul>"
   ]
  },
  {
   "cell_type": "markdown",
   "metadata": {
    "colab_type": "text",
    "id": "QXN18pwUGMBl"
   },
   "source": [
    "\n",
    "This machine learning is to find products relations. Using association rule, we can find relationshop of products customers are buying. For example, if customer buys product A, what chances that product B will be bought by same customer. \n"
   ]
  },
  {
   "cell_type": "code",
   "execution_count": 4,
   "metadata": {
    "colab": {
     "base_uri": "https://8080-dot-13041870-dot-devshell.appspot.com/",
     "height": 190
    },
    "colab_type": "code",
    "id": "Bt-TcwNuaKtL",
    "outputId": "ffdfa200-ec90-459c-bb97-73e49aa5dbee"
   },
   "outputs": [
    {
     "name": "stdout",
     "output_type": "stream",
     "text": [
      "Requirement already satisfied: apyori in /usr/local/envs/py3env/lib/python3.5/site-packages (1.1.2)\r\n"
     ]
    }
   ],
   "source": [
    "#!pip install apyori\n"
   ]
  },
  {
   "cell_type": "markdown",
   "metadata": {},
   "source": [
    "## Restructure the dataset\n",
    "\n",
    "For each order ID, there are bags of product IDs. This dataset will be used in association rule."
   ]
  },
  {
   "cell_type": "code",
   "execution_count": 5,
   "metadata": {
    "colab": {
     "base_uri": "https://8080-dot-13041870-dot-devshell.appspot.com/",
     "height": 204
    },
    "colab_type": "code",
    "id": "uNCwbmaIGSVi",
    "outputId": "bf4c9263-bc44-4d6b-c8bd-ff7a01efa56c"
   },
   "outputs": [
    {
     "name": "stdout",
     "output_type": "stream",
     "text": [
      "CPU times: user 6min 39s, sys: 10.1 s, total: 6min 49s\n",
      "Wall time: 7min 2s\n"
     ]
    },
    {
     "data": {
      "text/plain": [
       "order_id\n",
       "2    [33120, 28985, 9327, 45918, 30035, 17794, 4014...\n",
       "3    [33754, 24838, 17704, 21903, 17668, 46667, 174...\n",
       "4    [46842, 26434, 39758, 27761, 10054, 21351, 225...\n",
       "5    [13176, 15005, 47329, 27966, 23909, 48370, 132...\n",
       "6                                [40462, 15873, 41897]\n",
       "Name: product_id, dtype: object"
      ]
     },
     "execution_count": 5,
     "metadata": {},
     "output_type": "execute_result"
    }
   ],
   "source": [
    "%%time\n",
    "# 6mins\n",
    "prior = order_products_prior.groupby(['order_id'])['product_id'].apply(list)\n",
    "prior.head()\n"
   ]
  },
  {
   "cell_type": "markdown",
   "metadata": {},
   "source": [
    "## Apriori association\n",
    "\n",
    "this is a first senario\n",
    "\n",
    "* Minimum length is 2\n",
    "* Minimum support is 0.01\n",
    "* Minimum confidence is 0.1\n",
    "* Minimum lift is 2\n",
    "\n",
    "Total 7 items are returned"
   ]
  },
  {
   "cell_type": "code",
   "execution_count": 29,
   "metadata": {},
   "outputs": [
    {
     "name": "stdout",
     "output_type": "stream",
     "text": [
      "7\n",
      "CPU times: user 44.8 s, sys: 5.02 s, total: 49.8 s\n",
      "Wall time: 56.6 s\n"
     ]
    }
   ],
   "source": [
    "%%time\n",
    "from apyori import apriori\n",
    "associations = apriori(prior, min_length = 2, min_support = 0.01, min_confidence = 0.1, min_lift = 2)\n",
    "associations = list(associations)\n",
    "print(len(associations))"
   ]
  },
  {
   "cell_type": "code",
   "execution_count": 30,
   "metadata": {},
   "outputs": [
    {
     "name": "stdout",
     "output_type": "stream",
     "text": [
      "CPU times: user 93.4 ms, sys: 9.35 ms, total: 103 ms\n",
      "Wall time: 155 ms\n"
     ]
    },
    {
     "data": {
      "text/html": [
       "<div>\n",
       "<style scoped>\n",
       "    .dataframe tbody tr th:only-of-type {\n",
       "        vertical-align: middle;\n",
       "    }\n",
       "\n",
       "    .dataframe tbody tr th {\n",
       "        vertical-align: top;\n",
       "    }\n",
       "\n",
       "    .dataframe thead th {\n",
       "        text-align: right;\n",
       "    }\n",
       "</style>\n",
       "<table border=\"1\" class=\"dataframe\">\n",
       "  <thead>\n",
       "    <tr style=\"text-align: right;\">\n",
       "      <th></th>\n",
       "      <th>A</th>\n",
       "      <th>B</th>\n",
       "      <th>support</th>\n",
       "      <th>confidence</th>\n",
       "      <th>lift</th>\n",
       "    </tr>\n",
       "  </thead>\n",
       "  <tbody>\n",
       "    <tr>\n",
       "      <th>0</th>\n",
       "      <td>Bag of Organic Bananas</td>\n",
       "      <td>Organic Raspberries</td>\n",
       "      <td>0.012599</td>\n",
       "      <td>0.106741</td>\n",
       "      <td>2.503775</td>\n",
       "    </tr>\n",
       "    <tr>\n",
       "      <th>1</th>\n",
       "      <td>Bag of Organic Bananas</td>\n",
       "      <td>Organic Hass Avocado</td>\n",
       "      <td>0.019391</td>\n",
       "      <td>0.164293</td>\n",
       "      <td>2.472945</td>\n",
       "    </tr>\n",
       "    <tr>\n",
       "      <th>2</th>\n",
       "      <td>Organic Strawberries</td>\n",
       "      <td>Organic Raspberries</td>\n",
       "      <td>0.010533</td>\n",
       "      <td>0.127938</td>\n",
       "      <td>3.000973</td>\n",
       "    </tr>\n",
       "    <tr>\n",
       "      <th>3</th>\n",
       "      <td>Organic Strawberries</td>\n",
       "      <td>Organic Hass Avocado</td>\n",
       "      <td>0.012689</td>\n",
       "      <td>0.154124</td>\n",
       "      <td>2.319880</td>\n",
       "    </tr>\n",
       "    <tr>\n",
       "      <th>4</th>\n",
       "      <td>Organic Hass Avocado</td>\n",
       "      <td>Organic Baby Spinach</td>\n",
       "      <td>0.010856</td>\n",
       "      <td>0.144266</td>\n",
       "      <td>2.171499</td>\n",
       "    </tr>\n",
       "    <tr>\n",
       "      <th>5</th>\n",
       "      <td>Banana</td>\n",
       "      <td>Organic Fuji Apple</td>\n",
       "      <td>0.010558</td>\n",
       "      <td>0.378693</td>\n",
       "      <td>2.576259</td>\n",
       "    </tr>\n",
       "    <tr>\n",
       "      <th>6</th>\n",
       "      <td>Banana</td>\n",
       "      <td>Organic Avocado</td>\n",
       "      <td>0.016609</td>\n",
       "      <td>0.112990</td>\n",
       "      <td>2.054395</td>\n",
       "    </tr>\n",
       "  </tbody>\n",
       "</table>\n",
       "</div>"
      ],
      "text/plain": [
       "                        A                     B   support  confidence  \\\n",
       "0  Bag of Organic Bananas   Organic Raspberries  0.012599    0.106741   \n",
       "1  Bag of Organic Bananas  Organic Hass Avocado  0.019391    0.164293   \n",
       "2    Organic Strawberries   Organic Raspberries  0.010533    0.127938   \n",
       "3    Organic Strawberries  Organic Hass Avocado  0.012689    0.154124   \n",
       "4    Organic Hass Avocado  Organic Baby Spinach  0.010856    0.144266   \n",
       "5                  Banana    Organic Fuji Apple  0.010558    0.378693   \n",
       "6                  Banana       Organic Avocado  0.016609    0.112990   \n",
       "\n",
       "       lift  \n",
       "0  2.503775  \n",
       "1  2.472945  \n",
       "2  3.000973  \n",
       "3  2.319880  \n",
       "4  2.171499  \n",
       "5  2.576259  \n",
       "6  2.054395  "
      ]
     },
     "execution_count": 30,
     "metadata": {},
     "output_type": "execute_result"
    }
   ],
   "source": [
    "%%time\n",
    "def product_name(id):\n",
    "    return products[products['product_id']==id]['product_name'].values[0]\n",
    "\n",
    "df = pd.DataFrame(columns=['A','B','support','confidence','lift'])\n",
    "for item in associations:    \n",
    "    pair = item[0] \n",
    "    items = [x for x in pair]\n",
    "#     print(\"length\" + str(len(items)))\n",
    "#     print(\"Rule: \" + str(product_name(items[0]) + \" -> \" + str(product_name(items[1]))))\n",
    "#     print(\"support \" + str(item[1]))\n",
    "#     print(\"confidence: \" + str(item[2][0][2]))\n",
    "#     print(\"lift: \" + str(item[2][0][3]))\n",
    "#     print('')\n",
    "    row = {'A':product_name(items[0]),\n",
    "           'B':product_name(items[1]),\n",
    "           'support':item[1],\n",
    "           'confidence':item[2][0][2],\n",
    "           'lift':item[2][0][3]}\n",
    "    df = df.append(row,ignore_index=True)\n",
    "df"
   ]
  },
  {
   "cell_type": "markdown",
   "metadata": {},
   "source": [
    "this is a second senario\n",
    "\n",
    "* Minimum length is 2\n",
    "* Minimum support is 0.005\n",
    "* Minimum confidence is 0.05\n",
    "* Minimum lift is 3"
   ]
  },
  {
   "cell_type": "code",
   "execution_count": 24,
   "metadata": {
    "colab": {
     "base_uri": "https://8080-dot-13041870-dot-devshell.appspot.com/",
     "height": 136
    },
    "colab_type": "code",
    "id": "WXAC3juLIPD4",
    "outputId": "f8228b8c-b918-4512-dcb9-f032450ebe7d"
   },
   "outputs": [
    {
     "name": "stdout",
     "output_type": "stream",
     "text": [
      "CPU times: user 1min 8s, sys: 7 s, total: 1min 15s\n",
      "Wall time: 1min 24s\n"
     ]
    }
   ],
   "source": [
    "%%time\n",
    "# 57seconds\n",
    "\n",
    "associations = apriori(prior, min_length = 2, min_support = 0.005, min_confidence = 0.05, min_lift = 3)\n",
    "associations = list(associations)\n"
   ]
  },
  {
   "cell_type": "markdown",
   "metadata": {},
   "source": [
    "The length of association rule is 6"
   ]
  },
  {
   "cell_type": "code",
   "execution_count": 25,
   "metadata": {
    "colab": {
     "base_uri": "https://8080-dot-13041870-dot-devshell.appspot.com/",
     "height": 592
    },
    "colab_type": "code",
    "id": "bGzNos-LgZZ7",
    "outputId": "6cabfabb-5e7d-40a6-cdd2-b5d7e8165980"
   },
   "outputs": [
    {
     "name": "stdout",
     "output_type": "stream",
     "text": [
      "6\n"
     ]
    }
   ],
   "source": [
    "print(len(associations))"
   ]
  },
  {
   "cell_type": "markdown",
   "metadata": {},
   "source": [
    "## Interpretation of association result\n",
    "\n",
    "Banana has strong relation to other fruites: raspberries, avocado"
   ]
  },
  {
   "cell_type": "code",
   "execution_count": 26,
   "metadata": {
    "colab": {},
    "colab_type": "code",
    "id": "0GpzyDaHHRD6"
   },
   "outputs": [
    {
     "name": "stdout",
     "output_type": "stream",
     "text": [
      "CPU times: user 83.6 ms, sys: 43.2 ms, total: 127 ms\n",
      "Wall time: 293 ms\n"
     ]
    },
    {
     "data": {
      "text/html": [
       "<div>\n",
       "<style scoped>\n",
       "    .dataframe tbody tr th:only-of-type {\n",
       "        vertical-align: middle;\n",
       "    }\n",
       "\n",
       "    .dataframe tbody tr th {\n",
       "        vertical-align: top;\n",
       "    }\n",
       "\n",
       "    .dataframe thead th {\n",
       "        text-align: right;\n",
       "    }\n",
       "</style>\n",
       "<table border=\"1\" class=\"dataframe\">\n",
       "  <thead>\n",
       "    <tr style=\"text-align: right;\">\n",
       "      <th></th>\n",
       "      <th>A</th>\n",
       "      <th>B</th>\n",
       "      <th>support</th>\n",
       "      <th>confidence</th>\n",
       "      <th>lift</th>\n",
       "    </tr>\n",
       "  </thead>\n",
       "  <tbody>\n",
       "    <tr>\n",
       "      <th>0</th>\n",
       "      <td>Organic Hass Avocado</td>\n",
       "      <td>Organic Lemon</td>\n",
       "      <td>0.006609</td>\n",
       "      <td>0.242131</td>\n",
       "      <td>3.644560</td>\n",
       "    </tr>\n",
       "    <tr>\n",
       "      <th>1</th>\n",
       "      <td>Organic Strawberries</td>\n",
       "      <td>Organic Raspberries</td>\n",
       "      <td>0.010533</td>\n",
       "      <td>0.127938</td>\n",
       "      <td>3.000973</td>\n",
       "    </tr>\n",
       "    <tr>\n",
       "      <th>2</th>\n",
       "      <td>Organic Garlic</td>\n",
       "      <td>Organic Yellow Onion</td>\n",
       "      <td>0.006866</td>\n",
       "      <td>0.194603</td>\n",
       "      <td>5.698983</td>\n",
       "    </tr>\n",
       "    <tr>\n",
       "      <th>3</th>\n",
       "      <td>Limes</td>\n",
       "      <td>Organic Cilantro</td>\n",
       "      <td>0.005464</td>\n",
       "      <td>0.124905</td>\n",
       "      <td>5.775753</td>\n",
       "    </tr>\n",
       "    <tr>\n",
       "      <th>4</th>\n",
       "      <td>Limes</td>\n",
       "      <td>Large Lemon</td>\n",
       "      <td>0.008524</td>\n",
       "      <td>0.194863</td>\n",
       "      <td>4.103710</td>\n",
       "    </tr>\n",
       "    <tr>\n",
       "      <th>5</th>\n",
       "      <td>Organic Hass Avocado</td>\n",
       "      <td>Organic Cucumber</td>\n",
       "      <td>0.005430</td>\n",
       "      <td>0.217136</td>\n",
       "      <td>3.268339</td>\n",
       "    </tr>\n",
       "  </tbody>\n",
       "</table>\n",
       "</div>"
      ],
      "text/plain": [
       "                      A                     B   support  confidence      lift\n",
       "0  Organic Hass Avocado         Organic Lemon  0.006609    0.242131  3.644560\n",
       "1  Organic Strawberries   Organic Raspberries  0.010533    0.127938  3.000973\n",
       "2        Organic Garlic  Organic Yellow Onion  0.006866    0.194603  5.698983\n",
       "3                 Limes      Organic Cilantro  0.005464    0.124905  5.775753\n",
       "4                 Limes           Large Lemon  0.008524    0.194863  4.103710\n",
       "5  Organic Hass Avocado      Organic Cucumber  0.005430    0.217136  3.268339"
      ]
     },
     "execution_count": 26,
     "metadata": {},
     "output_type": "execute_result"
    }
   ],
   "source": [
    "%%time\n",
    "def product_name(id):\n",
    "    return products[products['product_id']==id]['product_name'].values[0]\n",
    "\n",
    "df = pd.DataFrame(columns=['A','B','support','confidence','lift'])\n",
    "for item in associations:    \n",
    "    pair = item[0] \n",
    "    items = [x for x in pair]\n",
    "#     print(\"length\" + str(len(items)))\n",
    "#     print(\"Rule: \" + str(product_name(items[0]) + \" -> \" + str(product_name(items[1]))))\n",
    "#     print(\"support \" + str(item[1]))\n",
    "#     print(\"confidence: \" + str(item[2][0][2]))\n",
    "#     print(\"lift: \" + str(item[2][0][3]))\n",
    "#     print('')\n",
    "    row = {'A':product_name(items[0]),\n",
    "           'B':product_name(items[1]),\n",
    "           'support':item[1],\n",
    "           'confidence':item[2][0][2],\n",
    "           'lift':item[2][0][3]}\n",
    "    df = df.append(row,ignore_index=True)\n",
    "df\n",
    "    \n",
    "\n"
   ]
  },
  {
   "cell_type": "markdown",
   "metadata": {},
   "source": [
    "3rd senario setup\n",
    "\n",
    "* Minimum length is 2\n",
    "* Minimum support is 0.001\n",
    "* Minimum confidence is 0.01\n",
    "* Minimum lift is 45\n",
    "\n",
    "12 rules"
   ]
  },
  {
   "cell_type": "code",
   "execution_count": 27,
   "metadata": {},
   "outputs": [
    {
     "name": "stdout",
     "output_type": "stream",
     "text": [
      "12\n"
     ]
    }
   ],
   "source": [
    "%%time\n",
    "associations = apriori(prior, min_length = 2, min_support = 0.001, min_confidence = 0.01, min_lift = 45)\n",
    "associations = list(associations)\n",
    "print(len(associations))"
   ]
  },
  {
   "cell_type": "code",
   "execution_count": 28,
   "metadata": {},
   "outputs": [
    {
     "data": {
      "text/html": [
       "<div>\n",
       "<style scoped>\n",
       "    .dataframe tbody tr th:only-of-type {\n",
       "        vertical-align: middle;\n",
       "    }\n",
       "\n",
       "    .dataframe tbody tr th {\n",
       "        vertical-align: top;\n",
       "    }\n",
       "\n",
       "    .dataframe thead th {\n",
       "        text-align: right;\n",
       "    }\n",
       "</style>\n",
       "<table border=\"1\" class=\"dataframe\">\n",
       "  <thead>\n",
       "    <tr style=\"text-align: right;\">\n",
       "      <th></th>\n",
       "      <th>A</th>\n",
       "      <th>B</th>\n",
       "      <th>support</th>\n",
       "      <th>confidence</th>\n",
       "      <th>lift</th>\n",
       "    </tr>\n",
       "  </thead>\n",
       "  <tbody>\n",
       "    <tr>\n",
       "      <th>0</th>\n",
       "      <td>Total 2% with Strawberry Lowfat Greek Strained...</td>\n",
       "      <td>Total 2% Lowfat Greek Strained Yogurt With Blu...</td>\n",
       "      <td>0.002902</td>\n",
       "      <td>0.449513</td>\n",
       "      <td>48.343394</td>\n",
       "    </tr>\n",
       "    <tr>\n",
       "      <th>1</th>\n",
       "      <td>Total 2% Lowfat Greek Strained Yogurt with Peach</td>\n",
       "      <td>Total 2% Lowfat Greek Strained Yogurt With Blu...</td>\n",
       "      <td>0.001954</td>\n",
       "      <td>0.302630</td>\n",
       "      <td>48.870721</td>\n",
       "    </tr>\n",
       "    <tr>\n",
       "      <th>2</th>\n",
       "      <td>Total 2% Greek Strained Yogurt with Cherry 5.3 oz</td>\n",
       "      <td>Total 2% Lowfat Greek Strained Yogurt With Blu...</td>\n",
       "      <td>0.001646</td>\n",
       "      <td>0.254938</td>\n",
       "      <td>45.421918</td>\n",
       "    </tr>\n",
       "    <tr>\n",
       "      <th>3</th>\n",
       "      <td>Nonfat Icelandic Style Strawberry Yogurt</td>\n",
       "      <td>Vanilla Skyr Nonfat Yogurt</td>\n",
       "      <td>0.001212</td>\n",
       "      <td>0.365563</td>\n",
       "      <td>64.780041</td>\n",
       "    </tr>\n",
       "    <tr>\n",
       "      <th>4</th>\n",
       "      <td>Icelandic Style Skyr Blueberry Non-fat Yogurt</td>\n",
       "      <td>Nonfat Icelandic Style Strawberry Yogurt</td>\n",
       "      <td>0.001418</td>\n",
       "      <td>0.427553</td>\n",
       "      <td>71.378186</td>\n",
       "    </tr>\n",
       "    <tr>\n",
       "      <th>5</th>\n",
       "      <td>Non Fat Raspberry Yogurt</td>\n",
       "      <td>Nonfat Icelandic Style Strawberry Yogurt</td>\n",
       "      <td>0.001189</td>\n",
       "      <td>0.358342</td>\n",
       "      <td>70.344028</td>\n",
       "    </tr>\n",
       "    <tr>\n",
       "      <th>6</th>\n",
       "      <td>Icelandic Style Skyr Blueberry Non-fat Yogurt</td>\n",
       "      <td>Non Fat Acai &amp; Mixed Berries Yogurt</td>\n",
       "      <td>0.001221</td>\n",
       "      <td>0.453129</td>\n",
       "      <td>75.647888</td>\n",
       "    </tr>\n",
       "    <tr>\n",
       "      <th>7</th>\n",
       "      <td>Icelandic Style Skyr Blueberry Non-fat Yogurt</td>\n",
       "      <td>Vanilla Skyr Nonfat Yogurt</td>\n",
       "      <td>0.002069</td>\n",
       "      <td>0.366718</td>\n",
       "      <td>61.222024</td>\n",
       "    </tr>\n",
       "    <tr>\n",
       "      <th>8</th>\n",
       "      <td>Non Fat Raspberry Yogurt</td>\n",
       "      <td>Vanilla Skyr Nonfat Yogurt</td>\n",
       "      <td>0.001585</td>\n",
       "      <td>0.280950</td>\n",
       "      <td>55.151722</td>\n",
       "    </tr>\n",
       "    <tr>\n",
       "      <th>9</th>\n",
       "      <td>Icelandic Style Skyr Blueberry Non-fat Yogurt</td>\n",
       "      <td>Non Fat Raspberry Yogurt</td>\n",
       "      <td>0.002247</td>\n",
       "      <td>0.375136</td>\n",
       "      <td>73.640837</td>\n",
       "    </tr>\n",
       "    <tr>\n",
       "      <th>10</th>\n",
       "      <td>Grapefruit Sparkling Water</td>\n",
       "      <td>Lemon Sparkling Water</td>\n",
       "      <td>0.001037</td>\n",
       "      <td>0.351201</td>\n",
       "      <td>75.634068</td>\n",
       "    </tr>\n",
       "    <tr>\n",
       "      <th>11</th>\n",
       "      <td>Total 2% with Strawberry Lowfat Greek Strained...</td>\n",
       "      <td>Total 2% Lowfat Greek Strained Yogurt with Peach</td>\n",
       "      <td>0.001161</td>\n",
       "      <td>0.179834</td>\n",
       "      <td>72.141821</td>\n",
       "    </tr>\n",
       "  </tbody>\n",
       "</table>\n",
       "</div>"
      ],
      "text/plain": [
       "                                                    A  \\\n",
       "0   Total 2% with Strawberry Lowfat Greek Strained...   \n",
       "1    Total 2% Lowfat Greek Strained Yogurt with Peach   \n",
       "2   Total 2% Greek Strained Yogurt with Cherry 5.3 oz   \n",
       "3            Nonfat Icelandic Style Strawberry Yogurt   \n",
       "4       Icelandic Style Skyr Blueberry Non-fat Yogurt   \n",
       "5                            Non Fat Raspberry Yogurt   \n",
       "6       Icelandic Style Skyr Blueberry Non-fat Yogurt   \n",
       "7       Icelandic Style Skyr Blueberry Non-fat Yogurt   \n",
       "8                            Non Fat Raspberry Yogurt   \n",
       "9       Icelandic Style Skyr Blueberry Non-fat Yogurt   \n",
       "10                         Grapefruit Sparkling Water   \n",
       "11  Total 2% with Strawberry Lowfat Greek Strained...   \n",
       "\n",
       "                                                    B   support  confidence  \\\n",
       "0   Total 2% Lowfat Greek Strained Yogurt With Blu...  0.002902    0.449513   \n",
       "1   Total 2% Lowfat Greek Strained Yogurt With Blu...  0.001954    0.302630   \n",
       "2   Total 2% Lowfat Greek Strained Yogurt With Blu...  0.001646    0.254938   \n",
       "3                          Vanilla Skyr Nonfat Yogurt  0.001212    0.365563   \n",
       "4            Nonfat Icelandic Style Strawberry Yogurt  0.001418    0.427553   \n",
       "5            Nonfat Icelandic Style Strawberry Yogurt  0.001189    0.358342   \n",
       "6                 Non Fat Acai & Mixed Berries Yogurt  0.001221    0.453129   \n",
       "7                          Vanilla Skyr Nonfat Yogurt  0.002069    0.366718   \n",
       "8                          Vanilla Skyr Nonfat Yogurt  0.001585    0.280950   \n",
       "9                            Non Fat Raspberry Yogurt  0.002247    0.375136   \n",
       "10                              Lemon Sparkling Water  0.001037    0.351201   \n",
       "11   Total 2% Lowfat Greek Strained Yogurt with Peach  0.001161    0.179834   \n",
       "\n",
       "         lift  \n",
       "0   48.343394  \n",
       "1   48.870721  \n",
       "2   45.421918  \n",
       "3   64.780041  \n",
       "4   71.378186  \n",
       "5   70.344028  \n",
       "6   75.647888  \n",
       "7   61.222024  \n",
       "8   55.151722  \n",
       "9   73.640837  \n",
       "10  75.634068  \n",
       "11  72.141821  "
      ]
     },
     "execution_count": 28,
     "metadata": {},
     "output_type": "execute_result"
    }
   ],
   "source": [
    "df = pd.DataFrame(columns=['A','B','support','confidence','lift'])\n",
    "for item in associations:    \n",
    "    pair = item[0] \n",
    "    items = [x for x in pair]\n",
    "#     print(\"length\" + str(len(items)))\n",
    "#     print(\"Rule: \" + str(product_name(items[0]) + \" -> \" + str(product_name(items[1]))))\n",
    "#     print(\"support \" + str(item[1]))\n",
    "#     print(\"confidence: \" + str(item[2][0][2]))\n",
    "#     print(\"lift: \" + str(item[2][0][3]))\n",
    "#     print('')\n",
    "    row = {'A':product_name(items[0]),\n",
    "           'B':product_name(items[1]),\n",
    "           'support':item[1],\n",
    "           'confidence':item[2][0][2],\n",
    "           'lift':item[2][0][3]}\n",
    "    df = df.append(row,ignore_index=True)\n",
    "df"
   ]
  },
  {
   "cell_type": "markdown",
   "metadata": {},
   "source": [
    "---\n",
    "---"
   ]
  },
  {
   "cell_type": "markdown",
   "metadata": {
    "colab_type": "text",
    "id": "I7UBFVptLxjI"
   },
   "source": [
    "# Customer segmentation\n",
    "<a href=\"#Instartcart-Market-Analysis\">Back to top</a><ul></ul>\n"
   ]
  },
  {
   "cell_type": "markdown",
   "metadata": {},
   "source": [
    "Customer segmentation is processed using K mean clustering. Features that are used in here are \n",
    "* Total number of orders\n",
    "* Average of days since order\n",
    "* Average size of orders per customer\n",
    "* Total reordered\n",
    "\n"
   ]
  },
  {
   "cell_type": "code",
   "execution_count": null,
   "metadata": {},
   "outputs": [],
   "source": [
    "#!pip install yellowbrick"
   ]
  },
  {
   "cell_type": "code",
   "execution_count": 31,
   "metadata": {},
   "outputs": [
    {
     "data": {
      "text/html": [
       "<div>\n",
       "<style scoped>\n",
       "    .dataframe tbody tr th:only-of-type {\n",
       "        vertical-align: middle;\n",
       "    }\n",
       "\n",
       "    .dataframe tbody tr th {\n",
       "        vertical-align: top;\n",
       "    }\n",
       "\n",
       "    .dataframe thead th {\n",
       "        text-align: right;\n",
       "    }\n",
       "</style>\n",
       "<table border=\"1\" class=\"dataframe\">\n",
       "  <thead>\n",
       "    <tr style=\"text-align: right;\">\n",
       "      <th></th>\n",
       "      <th>order_id</th>\n",
       "      <th>user_id</th>\n",
       "      <th>eval_set</th>\n",
       "      <th>order_number</th>\n",
       "      <th>order_dow</th>\n",
       "      <th>order_hour_of_day</th>\n",
       "      <th>days_since_prior_order</th>\n",
       "      <th>product_id</th>\n",
       "      <th>reordered</th>\n",
       "    </tr>\n",
       "  </thead>\n",
       "  <tbody>\n",
       "    <tr>\n",
       "      <th>0</th>\n",
       "      <td>2539329</td>\n",
       "      <td>1</td>\n",
       "      <td>prior</td>\n",
       "      <td>1</td>\n",
       "      <td>2</td>\n",
       "      <td>8</td>\n",
       "      <td>NaN</td>\n",
       "      <td>5</td>\n",
       "      <td>0</td>\n",
       "    </tr>\n",
       "    <tr>\n",
       "      <th>1</th>\n",
       "      <td>2398795</td>\n",
       "      <td>1</td>\n",
       "      <td>prior</td>\n",
       "      <td>2</td>\n",
       "      <td>3</td>\n",
       "      <td>7</td>\n",
       "      <td>15.0</td>\n",
       "      <td>6</td>\n",
       "      <td>3</td>\n",
       "    </tr>\n",
       "    <tr>\n",
       "      <th>2</th>\n",
       "      <td>473747</td>\n",
       "      <td>1</td>\n",
       "      <td>prior</td>\n",
       "      <td>3</td>\n",
       "      <td>3</td>\n",
       "      <td>12</td>\n",
       "      <td>21.0</td>\n",
       "      <td>5</td>\n",
       "      <td>3</td>\n",
       "    </tr>\n",
       "    <tr>\n",
       "      <th>3</th>\n",
       "      <td>2254736</td>\n",
       "      <td>1</td>\n",
       "      <td>prior</td>\n",
       "      <td>4</td>\n",
       "      <td>4</td>\n",
       "      <td>7</td>\n",
       "      <td>29.0</td>\n",
       "      <td>5</td>\n",
       "      <td>5</td>\n",
       "    </tr>\n",
       "    <tr>\n",
       "      <th>4</th>\n",
       "      <td>431534</td>\n",
       "      <td>1</td>\n",
       "      <td>prior</td>\n",
       "      <td>5</td>\n",
       "      <td>4</td>\n",
       "      <td>15</td>\n",
       "      <td>28.0</td>\n",
       "      <td>8</td>\n",
       "      <td>5</td>\n",
       "    </tr>\n",
       "  </tbody>\n",
       "</table>\n",
       "</div>"
      ],
      "text/plain": [
       "   order_id  user_id eval_set  order_number  order_dow  order_hour_of_day  \\\n",
       "0   2539329        1    prior             1          2                  8   \n",
       "1   2398795        1    prior             2          3                  7   \n",
       "2    473747        1    prior             3          3                 12   \n",
       "3   2254736        1    prior             4          4                  7   \n",
       "4    431534        1    prior             5          4                 15   \n",
       "\n",
       "   days_since_prior_order  product_id  reordered  \n",
       "0                     NaN           5          0  \n",
       "1                    15.0           6          3  \n",
       "2                    21.0           5          3  \n",
       "3                    29.0           5          5  \n",
       "4                    28.0           8          5  "
      ]
     },
     "execution_count": 31,
     "metadata": {},
     "output_type": "execute_result"
    }
   ],
   "source": [
    "# columns user_id, total number of orders, average of days_since_prior_order, avarage size of orders per customer\n",
    "\n",
    "c = order_products_prior.groupby('order_id')['product_id'].count()\n",
    "r = order_products_prior.groupby('order_id')['reordered'].sum()\n",
    "df = pd.concat([c, r], axis=1)\n",
    "df = df.reset_index()\n",
    "cust_orders = pd.merge(orders, df, on='order_id')\n",
    "cust_orders.head()"
   ]
  },
  {
   "cell_type": "markdown",
   "metadata": {},
   "source": [
    "## Cleaning of customer dataset"
   ]
  },
  {
   "cell_type": "code",
   "execution_count": 32,
   "metadata": {},
   "outputs": [
    {
     "data": {
      "text/html": [
       "<div>\n",
       "<style scoped>\n",
       "    .dataframe tbody tr th:only-of-type {\n",
       "        vertical-align: middle;\n",
       "    }\n",
       "\n",
       "    .dataframe tbody tr th {\n",
       "        vertical-align: top;\n",
       "    }\n",
       "\n",
       "    .dataframe thead th {\n",
       "        text-align: right;\n",
       "    }\n",
       "</style>\n",
       "<table border=\"1\" class=\"dataframe\">\n",
       "  <thead>\n",
       "    <tr style=\"text-align: right;\">\n",
       "      <th></th>\n",
       "      <th>order_id</th>\n",
       "      <th>user_id</th>\n",
       "      <th>eval_set</th>\n",
       "      <th>order_number</th>\n",
       "      <th>order_dow</th>\n",
       "      <th>order_hour_of_day</th>\n",
       "      <th>days_since_prior_order</th>\n",
       "      <th>product_id</th>\n",
       "      <th>reordered</th>\n",
       "    </tr>\n",
       "  </thead>\n",
       "  <tbody>\n",
       "    <tr>\n",
       "      <th>1</th>\n",
       "      <td>2398795</td>\n",
       "      <td>1</td>\n",
       "      <td>prior</td>\n",
       "      <td>2</td>\n",
       "      <td>3</td>\n",
       "      <td>7</td>\n",
       "      <td>15.0</td>\n",
       "      <td>6</td>\n",
       "      <td>3</td>\n",
       "    </tr>\n",
       "    <tr>\n",
       "      <th>2</th>\n",
       "      <td>473747</td>\n",
       "      <td>1</td>\n",
       "      <td>prior</td>\n",
       "      <td>3</td>\n",
       "      <td>3</td>\n",
       "      <td>12</td>\n",
       "      <td>21.0</td>\n",
       "      <td>5</td>\n",
       "      <td>3</td>\n",
       "    </tr>\n",
       "    <tr>\n",
       "      <th>3</th>\n",
       "      <td>2254736</td>\n",
       "      <td>1</td>\n",
       "      <td>prior</td>\n",
       "      <td>4</td>\n",
       "      <td>4</td>\n",
       "      <td>7</td>\n",
       "      <td>29.0</td>\n",
       "      <td>5</td>\n",
       "      <td>5</td>\n",
       "    </tr>\n",
       "    <tr>\n",
       "      <th>4</th>\n",
       "      <td>431534</td>\n",
       "      <td>1</td>\n",
       "      <td>prior</td>\n",
       "      <td>5</td>\n",
       "      <td>4</td>\n",
       "      <td>15</td>\n",
       "      <td>28.0</td>\n",
       "      <td>8</td>\n",
       "      <td>5</td>\n",
       "    </tr>\n",
       "    <tr>\n",
       "      <th>5</th>\n",
       "      <td>3367565</td>\n",
       "      <td>1</td>\n",
       "      <td>prior</td>\n",
       "      <td>6</td>\n",
       "      <td>2</td>\n",
       "      <td>7</td>\n",
       "      <td>19.0</td>\n",
       "      <td>4</td>\n",
       "      <td>4</td>\n",
       "    </tr>\n",
       "  </tbody>\n",
       "</table>\n",
       "</div>"
      ],
      "text/plain": [
       "   order_id  user_id eval_set  order_number  order_dow  order_hour_of_day  \\\n",
       "1   2398795        1    prior             2          3                  7   \n",
       "2    473747        1    prior             3          3                 12   \n",
       "3   2254736        1    prior             4          4                  7   \n",
       "4    431534        1    prior             5          4                 15   \n",
       "5   3367565        1    prior             6          2                  7   \n",
       "\n",
       "   days_since_prior_order  product_id  reordered  \n",
       "1                    15.0           6          3  \n",
       "2                    21.0           5          3  \n",
       "3                    29.0           5          5  \n",
       "4                    28.0           8          5  \n",
       "5                    19.0           4          4  "
      ]
     },
     "execution_count": 32,
     "metadata": {},
     "output_type": "execute_result"
    }
   ],
   "source": [
    "# cust_orders.days_since_prior_order.dropna(axis=0, how='any',inplace=True)\n",
    "cust_orders.dropna(inplace=True)\n",
    "cust_orders.head()"
   ]
  },
  {
   "cell_type": "code",
   "execution_count": 33,
   "metadata": {},
   "outputs": [
    {
     "data": {
      "text/html": [
       "<div>\n",
       "<style scoped>\n",
       "    .dataframe tbody tr th:only-of-type {\n",
       "        vertical-align: middle;\n",
       "    }\n",
       "\n",
       "    .dataframe tbody tr th {\n",
       "        vertical-align: top;\n",
       "    }\n",
       "\n",
       "    .dataframe thead th {\n",
       "        text-align: right;\n",
       "    }\n",
       "</style>\n",
       "<table border=\"1\" class=\"dataframe\">\n",
       "  <thead>\n",
       "    <tr style=\"text-align: right;\">\n",
       "      <th></th>\n",
       "      <th>order_id</th>\n",
       "      <th>user_id</th>\n",
       "      <th>eval_set</th>\n",
       "      <th>order_number</th>\n",
       "      <th>order_dow</th>\n",
       "      <th>order_hour_of_day</th>\n",
       "      <th>days_since_prior_order</th>\n",
       "      <th>product_id</th>\n",
       "      <th>reordered</th>\n",
       "    </tr>\n",
       "  </thead>\n",
       "  <tbody>\n",
       "    <tr>\n",
       "      <th>1</th>\n",
       "      <td>2398795</td>\n",
       "      <td>1</td>\n",
       "      <td>prior</td>\n",
       "      <td>2</td>\n",
       "      <td>3</td>\n",
       "      <td>7</td>\n",
       "      <td>15.0</td>\n",
       "      <td>6</td>\n",
       "      <td>3</td>\n",
       "    </tr>\n",
       "    <tr>\n",
       "      <th>2</th>\n",
       "      <td>473747</td>\n",
       "      <td>1</td>\n",
       "      <td>prior</td>\n",
       "      <td>3</td>\n",
       "      <td>3</td>\n",
       "      <td>12</td>\n",
       "      <td>21.0</td>\n",
       "      <td>5</td>\n",
       "      <td>3</td>\n",
       "    </tr>\n",
       "    <tr>\n",
       "      <th>3</th>\n",
       "      <td>2254736</td>\n",
       "      <td>1</td>\n",
       "      <td>prior</td>\n",
       "      <td>4</td>\n",
       "      <td>4</td>\n",
       "      <td>7</td>\n",
       "      <td>29.0</td>\n",
       "      <td>5</td>\n",
       "      <td>5</td>\n",
       "    </tr>\n",
       "    <tr>\n",
       "      <th>4</th>\n",
       "      <td>431534</td>\n",
       "      <td>1</td>\n",
       "      <td>prior</td>\n",
       "      <td>5</td>\n",
       "      <td>4</td>\n",
       "      <td>15</td>\n",
       "      <td>28.0</td>\n",
       "      <td>8</td>\n",
       "      <td>5</td>\n",
       "    </tr>\n",
       "    <tr>\n",
       "      <th>5</th>\n",
       "      <td>3367565</td>\n",
       "      <td>1</td>\n",
       "      <td>prior</td>\n",
       "      <td>6</td>\n",
       "      <td>2</td>\n",
       "      <td>7</td>\n",
       "      <td>19.0</td>\n",
       "      <td>4</td>\n",
       "      <td>4</td>\n",
       "    </tr>\n",
       "  </tbody>\n",
       "</table>\n",
       "</div>"
      ],
      "text/plain": [
       "   order_id  user_id eval_set  order_number  order_dow  order_hour_of_day  \\\n",
       "1   2398795        1    prior             2          3                  7   \n",
       "2    473747        1    prior             3          3                 12   \n",
       "3   2254736        1    prior             4          4                  7   \n",
       "4    431534        1    prior             5          4                 15   \n",
       "5   3367565        1    prior             6          2                  7   \n",
       "\n",
       "   days_since_prior_order  product_id  reordered  \n",
       "1                    15.0           6          3  \n",
       "2                    21.0           5          3  \n",
       "3                    29.0           5          5  \n",
       "4                    28.0           8          5  \n",
       "5                    19.0           4          4  "
      ]
     },
     "execution_count": 33,
     "metadata": {},
     "output_type": "execute_result"
    }
   ],
   "source": [
    "cust_orders = cust_orders[cust_orders.eval_set != 'train']\n",
    "cust_orders.head()"
   ]
  },
  {
   "cell_type": "markdown",
   "metadata": {},
   "source": [
    "## Construct the dataset\n",
    "Constructing 4 columns of dataset"
   ]
  },
  {
   "cell_type": "code",
   "execution_count": 49,
   "metadata": {},
   "outputs": [
    {
     "data": {
      "text/html": [
       "<div>\n",
       "<style scoped>\n",
       "    .dataframe tbody tr th:only-of-type {\n",
       "        vertical-align: middle;\n",
       "    }\n",
       "\n",
       "    .dataframe tbody tr th {\n",
       "        vertical-align: top;\n",
       "    }\n",
       "\n",
       "    .dataframe thead th {\n",
       "        text-align: right;\n",
       "    }\n",
       "</style>\n",
       "<table border=\"1\" class=\"dataframe\">\n",
       "  <thead>\n",
       "    <tr style=\"text-align: right;\">\n",
       "      <th></th>\n",
       "      <th>total_orders</th>\n",
       "      <th>average_days_since_order</th>\n",
       "      <th>average_size_of_orders</th>\n",
       "      <th>total_reordered</th>\n",
       "    </tr>\n",
       "  </thead>\n",
       "  <tbody>\n",
       "    <tr>\n",
       "      <th>0</th>\n",
       "      <td>9</td>\n",
       "      <td>19.555556</td>\n",
       "      <td>6.000000</td>\n",
       "      <td>4.555556</td>\n",
       "    </tr>\n",
       "    <tr>\n",
       "      <th>1</th>\n",
       "      <td>13</td>\n",
       "      <td>15.230769</td>\n",
       "      <td>14.000000</td>\n",
       "      <td>7.153846</td>\n",
       "    </tr>\n",
       "    <tr>\n",
       "      <th>2</th>\n",
       "      <td>11</td>\n",
       "      <td>12.090909</td>\n",
       "      <td>7.090909</td>\n",
       "      <td>5.000000</td>\n",
       "    </tr>\n",
       "    <tr>\n",
       "      <th>3</th>\n",
       "      <td>4</td>\n",
       "      <td>13.750000</td>\n",
       "      <td>3.500000</td>\n",
       "      <td>0.250000</td>\n",
       "    </tr>\n",
       "    <tr>\n",
       "      <th>4</th>\n",
       "      <td>3</td>\n",
       "      <td>13.333333</td>\n",
       "      <td>8.666667</td>\n",
       "      <td>4.666667</td>\n",
       "    </tr>\n",
       "  </tbody>\n",
       "</table>\n",
       "</div>"
      ],
      "text/plain": [
       "   total_orders  average_days_since_order  average_size_of_orders  \\\n",
       "0             9                 19.555556                6.000000   \n",
       "1            13                 15.230769               14.000000   \n",
       "2            11                 12.090909                7.090909   \n",
       "3             4                 13.750000                3.500000   \n",
       "4             3                 13.333333                8.666667   \n",
       "\n",
       "   total_reordered  \n",
       "0         4.555556  \n",
       "1         7.153846  \n",
       "2         5.000000  \n",
       "3         0.250000  \n",
       "4         4.666667  "
      ]
     },
     "execution_count": 49,
     "metadata": {},
     "output_type": "execute_result"
    }
   ],
   "source": [
    "# total number of orders\n",
    "c = cust_orders.groupby('user_id')['product_id'].count() \n",
    "# average of days since the order\n",
    "d = cust_orders.groupby('user_id')['days_since_prior_order'].mean() \n",
    "# avarage size of orders per customer\n",
    "a = cust_orders.groupby('user_id')['product_id'].mean()\n",
    "# total reordered items per customer\n",
    "r = cust_orders.groupby('user_id')['reordered'].mean()\n",
    "\n",
    "df = pd.concat([c,d,a,r],axis=1)\n",
    "df = df.reset_index()\n",
    "# new_c = pd.merge(c, d, on='user_id', copy=True)\n",
    "# new_c = pd.merge(new_c, a, on='user_id', copy=True)\n",
    "# new_c = pd.merge(new_c, r, on='user_id', copy=True)\n",
    "df.columns = ['user_id','total_orders','average_days_since_order'\n",
    "                 ,'average_size_of_orders','total_reordered']\n",
    "# drop user-id column\n",
    "df.drop(['user_id'], axis=1, inplace = True)\n",
    "df.head()"
   ]
  },
  {
   "cell_type": "markdown",
   "metadata": {},
   "source": [
    "## Elbow method\n",
    "Using elbow method, finding the cluster size.\n",
    "In this case, the cluster size would be 5."
   ]
  },
  {
   "cell_type": "code",
   "execution_count": 107,
   "metadata": {},
   "outputs": [
    {
     "data": {
      "image/png": "[encoded data removed]",
      "text/plain": [
       "<Figure size 576x396 with 2 Axes>"
      ]
     },
     "metadata": {},
     "output_type": "display_data"
    },
    {
     "name": "stdout",
     "output_type": "stream",
     "text": [
      "CPU times: user 49 s, sys: 5.92 s, total: 54.9 s\n",
      "Wall time: 45.5 s\n"
     ]
    },
    {
     "name": "stderr",
     "output_type": "stream",
     "text": [
      "/Users/donkim/opt/anaconda3/lib/python3.7/site-packages/sklearn/base.py:197: FutureWarning: From version 0.24, get_params will raise an AttributeError if a parameter cannot be retrieved as an instance attribute. Previously it would return None.\n",
      "  FutureWarning)\n"
     ]
    },
    {
     "data": {
      "text/plain": [
       "KElbowVisualizer(ax=<matplotlib.axes._subplots.AxesSubplot object at 0x1a4a289290>,\n",
       "                 k=None, locate_elbow=True, metric='distortion', model=None,\n",
       "                 timings=True)"
      ]
     },
     "execution_count": 107,
     "metadata": {},
     "output_type": "execute_result"
    }
   ],
   "source": [
    "%%time\n",
    "from sklearn.cluster import KMeans\n",
    "from yellowbrick.cluster.elbow import kelbow_visualizer\n",
    "from yellowbrick.datasets.loaders import load_nfl\n",
    "\n",
    "kelbow_visualizer(KMeans(random_state=4), df, k=(2,10))"
   ]
  },
  {
   "cell_type": "markdown",
   "metadata": {},
   "source": [
    "5 clusters with characteristics. "
   ]
  },
  {
   "cell_type": "code",
   "execution_count": 93,
   "metadata": {},
   "outputs": [
    {
     "name": "stdout",
     "output_type": "stream",
     "text": [
      "[[ 6.8132906   9.73867438  4.18694118]\n",
      " [28.02595144 10.68671785  7.0442076 ]\n",
      " [66.91748081 10.02816074  7.61545994]]\n"
     ]
    },
    {
     "data": {
      "text/html": [
       "<div>\n",
       "<style scoped>\n",
       "    .dataframe tbody tr th:only-of-type {\n",
       "        vertical-align: middle;\n",
       "    }\n",
       "\n",
       "    .dataframe tbody tr th {\n",
       "        vertical-align: top;\n",
       "    }\n",
       "\n",
       "    .dataframe thead th {\n",
       "        text-align: right;\n",
       "    }\n",
       "</style>\n",
       "<table border=\"1\" class=\"dataframe\">\n",
       "  <thead>\n",
       "    <tr style=\"text-align: right;\">\n",
       "      <th></th>\n",
       "      <th>total_orders</th>\n",
       "      <th>average_size_of_orders</th>\n",
       "      <th>total_reordered</th>\n",
       "    </tr>\n",
       "    <tr>\n",
       "      <th>Cluster</th>\n",
       "      <th></th>\n",
       "      <th></th>\n",
       "      <th></th>\n",
       "    </tr>\n",
       "  </thead>\n",
       "  <tbody>\n",
       "    <tr>\n",
       "      <th>0</th>\n",
       "      <td>6.826525</td>\n",
       "      <td>9.737843</td>\n",
       "      <td>4.188232</td>\n",
       "    </tr>\n",
       "    <tr>\n",
       "      <th>1</th>\n",
       "      <td>28.072046</td>\n",
       "      <td>10.693811</td>\n",
       "      <td>7.052154</td>\n",
       "    </tr>\n",
       "    <tr>\n",
       "      <th>2</th>\n",
       "      <td>66.917481</td>\n",
       "      <td>10.028161</td>\n",
       "      <td>7.615460</td>\n",
       "    </tr>\n",
       "  </tbody>\n",
       "</table>\n",
       "</div>"
      ],
      "text/plain": [
       "         total_orders  average_size_of_orders  total_reordered\n",
       "Cluster                                                       \n",
       "0            6.826525                9.737843         4.188232\n",
       "1           28.072046               10.693811         7.052154\n",
       "2           66.917481               10.028161         7.615460"
      ]
     },
     "execution_count": 93,
     "metadata": {},
     "output_type": "execute_result"
    }
   ],
   "source": [
    "import sklearn\n",
    "from sklearn.cluster import KMeans\n",
    "import pandas\n",
    "\n",
    "# df = scaler.transform(df)\n",
    "clustering = KMeans(n_clusters=3, random_state = 2)\n",
    "model = clustering.fit(df)\n",
    "df_new = df.assign(Cluster = model.labels_)\n",
    "\n",
    "print(model.cluster_centers_)\n",
    "# df\n",
    "result = df_new.groupby('Cluster').mean()\n",
    "result.head()"
   ]
  },
  {
   "cell_type": "code",
   "execution_count": 94,
   "metadata": {},
   "outputs": [
    {
     "data": {
      "text/plain": [
       "array([[-1.08970396, -1.03812155, -1.39750702],\n",
       "       [-0.23579452,  1.35076249,  0.51105537],\n",
       "       [ 1.32549848, -0.31264094,  0.88645166]])"
      ]
     },
     "execution_count": 94,
     "metadata": {},
     "output_type": "execute_result"
    }
   ],
   "source": [
    "from sklearn.preprocessing import StandardScaler\n",
    "\n",
    "sc = StandardScaler()\n",
    "result_scaled = sc.fit_transform(result)\n",
    "result_scaled\n"
   ]
  },
  {
   "cell_type": "code",
   "execution_count": 98,
   "metadata": {},
   "outputs": [],
   "source": [
    "result_scaled = pd.DataFrame(data=result_scaled, index = ['cluster1',\n",
    "                                          'cluster2',\n",
    "                                          'cluster3',\n",
    "                                          'cluster4',\n",
    "                                          'cluster5'],        \n",
    "                                          columns=['total_orders', \n",
    "                                       'average_days_since_order',\n",
    "                                       'average_size_of_order',\n",
    "                                       'totla_reordered'])"
   ]
  },
  {
   "cell_type": "code",
   "execution_count": 39,
   "metadata": {},
   "outputs": [
    {
     "data": {
      "image/png": "[encoded data removed]",
      "text/plain": [
       "<Figure size 576x396 with 1 Axes>"
      ]
     },
     "metadata": {},
     "output_type": "display_data"
    }
   ],
   "source": [
    "ax = plt.gca()\n",
    "result_scaled.plot(y = 'total_orders',color='red',ax=ax)\n",
    "# result_scaled.plot(y = 'average_days_since_order',color='purple',ax=ax)\n",
    "result_scaled.plot(y = 'average_size_of_order',color='blue',ax=ax)\n",
    "result_scaled.plot(y = 'totla_reordered',color='green',ax=ax)\n",
    "ax.get_yaxis().set_visible(False)"
   ]
  },
  {
   "cell_type": "markdown",
   "metadata": {},
   "source": [
    "---\n",
    "---"
   ]
  },
  {
   "cell_type": "markdown",
   "metadata": {},
   "source": [
    "# Reordered item analysis\n",
    "\n",
    "reference\n",
    "https://rstudio-pubs-static.s3.amazonaws.com/446413_6ac206ffa826466bb3a33be2f338c61f.html\n",
    "\n",
    "Agrregated features are used to make a better model"
   ]
  },
  {
   "cell_type": "markdown",
   "metadata": {},
   "source": [
    "## 1) Reorder vs total order number"
   ]
  },
  {
   "cell_type": "code",
   "execution_count": 8,
   "metadata": {},
   "outputs": [
    {
     "data": {
      "text/html": [
       "<div>\n",
       "<style scoped>\n",
       "    .dataframe tbody tr th:only-of-type {\n",
       "        vertical-align: middle;\n",
       "    }\n",
       "\n",
       "    .dataframe tbody tr th {\n",
       "        vertical-align: top;\n",
       "    }\n",
       "\n",
       "    .dataframe thead th {\n",
       "        text-align: right;\n",
       "    }\n",
       "</style>\n",
       "<table border=\"1\" class=\"dataframe\">\n",
       "  <thead>\n",
       "    <tr style=\"text-align: right;\">\n",
       "      <th></th>\n",
       "      <th>order_id</th>\n",
       "      <th>total_order</th>\n",
       "      <th>total_reordered</th>\n",
       "      <th>total_reordered_ratio</th>\n",
       "    </tr>\n",
       "  </thead>\n",
       "  <tbody>\n",
       "    <tr>\n",
       "      <th>0</th>\n",
       "      <td>2</td>\n",
       "      <td>9</td>\n",
       "      <td>6</td>\n",
       "      <td>0.666667</td>\n",
       "    </tr>\n",
       "    <tr>\n",
       "      <th>1</th>\n",
       "      <td>3</td>\n",
       "      <td>8</td>\n",
       "      <td>8</td>\n",
       "      <td>1.000000</td>\n",
       "    </tr>\n",
       "    <tr>\n",
       "      <th>2</th>\n",
       "      <td>4</td>\n",
       "      <td>13</td>\n",
       "      <td>12</td>\n",
       "      <td>0.923077</td>\n",
       "    </tr>\n",
       "    <tr>\n",
       "      <th>3</th>\n",
       "      <td>5</td>\n",
       "      <td>26</td>\n",
       "      <td>21</td>\n",
       "      <td>0.807692</td>\n",
       "    </tr>\n",
       "    <tr>\n",
       "      <th>4</th>\n",
       "      <td>6</td>\n",
       "      <td>3</td>\n",
       "      <td>0</td>\n",
       "      <td>0.000000</td>\n",
       "    </tr>\n",
       "  </tbody>\n",
       "</table>\n",
       "</div>"
      ],
      "text/plain": [
       "   order_id  total_order  total_reordered  total_reordered_ratio\n",
       "0         2            9                6               0.666667\n",
       "1         3            8                8               1.000000\n",
       "2         4           13               12               0.923077\n",
       "3         5           26               21               0.807692\n",
       "4         6            3                0               0.000000"
      ]
     },
     "execution_count": 8,
     "metadata": {},
     "output_type": "execute_result"
    }
   ],
   "source": [
    "\n",
    "## Reorder vs total order number\n",
    "a = order_products_prior.groupby('order_id')['add_to_cart_order'].count()\n",
    "r = order_products_prior.groupby('order_id')['reordered'].sum()\n",
    "total_order = pd.concat([a,r],axis=1)\n",
    "total_order = total_order.reset_index()\n",
    "\n",
    "total_order.columns = ['order_id','total_order','total_reordered']\n",
    "total_order.head()\n",
    "\n",
    "total_order['total_reordered_ratio']= total_order['total_reordered']/total_order['total_order']\n",
    "total_order.head()\n",
    "\n"
   ]
  },
  {
   "cell_type": "markdown",
   "metadata": {},
   "source": [
    "## 2) Reorder vs Product ID"
   ]
  },
  {
   "cell_type": "code",
   "execution_count": 9,
   "metadata": {},
   "outputs": [
    {
     "data": {
      "text/html": [
       "<div>\n",
       "<style scoped>\n",
       "    .dataframe tbody tr th:only-of-type {\n",
       "        vertical-align: middle;\n",
       "    }\n",
       "\n",
       "    .dataframe tbody tr th {\n",
       "        vertical-align: top;\n",
       "    }\n",
       "\n",
       "    .dataframe thead th {\n",
       "        text-align: right;\n",
       "    }\n",
       "</style>\n",
       "<table border=\"1\" class=\"dataframe\">\n",
       "  <thead>\n",
       "    <tr style=\"text-align: right;\">\n",
       "      <th></th>\n",
       "      <th>product_id</th>\n",
       "      <th>reordered_rate</th>\n",
       "    </tr>\n",
       "  </thead>\n",
       "  <tbody>\n",
       "    <tr>\n",
       "      <th>0</th>\n",
       "      <td>33120</td>\n",
       "      <td>0.708454</td>\n",
       "    </tr>\n",
       "    <tr>\n",
       "      <th>1</th>\n",
       "      <td>28985</td>\n",
       "      <td>0.694465</td>\n",
       "    </tr>\n",
       "    <tr>\n",
       "      <th>2</th>\n",
       "      <td>9327</td>\n",
       "      <td>0.157962</td>\n",
       "    </tr>\n",
       "    <tr>\n",
       "      <th>3</th>\n",
       "      <td>45918</td>\n",
       "      <td>0.272849</td>\n",
       "    </tr>\n",
       "    <tr>\n",
       "      <th>4</th>\n",
       "      <td>30035</td>\n",
       "      <td>0.507909</td>\n",
       "    </tr>\n",
       "  </tbody>\n",
       "</table>\n",
       "</div>"
      ],
      "text/plain": [
       "   product_id  reordered_rate\n",
       "0       33120        0.708454\n",
       "1       28985        0.694465\n",
       "2        9327        0.157962\n",
       "3       45918        0.272849\n",
       "4       30035        0.507909"
      ]
     },
     "execution_count": 9,
     "metadata": {},
     "output_type": "execute_result"
    }
   ],
   "source": [
    "##Reorder vs Dat since prior order\n",
    "\n",
    "reordered_rate = order_products_prior.groupby('product_id', sort=False)['reordered'].mean()\n",
    "# .sort_values(ascending=False)\n",
    "\n",
    "\n",
    "reordered_rate = reordered_rate.reset_index()\n",
    "reordered_rate.columns = ['product_id','reordered_rate']\n",
    "reordered_rate.head()"
   ]
  },
  {
   "cell_type": "markdown",
   "metadata": {},
   "source": [
    "## 3) Reorder vs order_hour_of_day"
   ]
  },
  {
   "cell_type": "code",
   "execution_count": 6,
   "metadata": {},
   "outputs": [
    {
     "data": {
      "text/html": [
       "<div>\n",
       "<style scoped>\n",
       "    .dataframe tbody tr th:only-of-type {\n",
       "        vertical-align: middle;\n",
       "    }\n",
       "\n",
       "    .dataframe tbody tr th {\n",
       "        vertical-align: top;\n",
       "    }\n",
       "\n",
       "    .dataframe thead th {\n",
       "        text-align: right;\n",
       "    }\n",
       "</style>\n",
       "<table border=\"1\" class=\"dataframe\">\n",
       "  <thead>\n",
       "    <tr style=\"text-align: right;\">\n",
       "      <th></th>\n",
       "      <th>order_hour_of_day</th>\n",
       "      <th>order_hour_of_day_rate</th>\n",
       "    </tr>\n",
       "  </thead>\n",
       "  <tbody>\n",
       "    <tr>\n",
       "      <th>0</th>\n",
       "      <td>0</td>\n",
       "      <td>0.565500</td>\n",
       "    </tr>\n",
       "    <tr>\n",
       "      <th>1</th>\n",
       "      <td>1</td>\n",
       "      <td>0.557114</td>\n",
       "    </tr>\n",
       "    <tr>\n",
       "      <th>2</th>\n",
       "      <td>2</td>\n",
       "      <td>0.554455</td>\n",
       "    </tr>\n",
       "    <tr>\n",
       "      <th>3</th>\n",
       "      <td>3</td>\n",
       "      <td>0.559498</td>\n",
       "    </tr>\n",
       "    <tr>\n",
       "      <th>4</th>\n",
       "      <td>4</td>\n",
       "      <td>0.571195</td>\n",
       "    </tr>\n",
       "  </tbody>\n",
       "</table>\n",
       "</div>"
      ],
      "text/plain": [
       "   order_hour_of_day  order_hour_of_day_rate\n",
       "0                  0                0.565500\n",
       "1                  1                0.557114\n",
       "2                  2                0.554455\n",
       "3                  3                0.559498\n",
       "4                  4                0.571195"
      ]
     },
     "execution_count": 6,
     "metadata": {},
     "output_type": "execute_result"
    }
   ],
   "source": [
    "order_hour_of_day_rate = pd.merge(orders,order_products_prior, on='order_id')\n",
    "order_hour_of_day_rate = order_hour_of_day_rate.groupby('order_hour_of_day')['reordered'].mean()\n",
    "\n",
    "order_hour_of_day_rate = order_hour_of_day_rate.reset_index()\n",
    "order_hour_of_day_rate.columns = ['order_hour_of_day','order_hour_of_day_rate']\n",
    "order_hour_of_day_rate.head()"
   ]
  },
  {
   "cell_type": "markdown",
   "metadata": {},
   "source": [
    "## 4) Reorder vs order_dow"
   ]
  },
  {
   "cell_type": "code",
   "execution_count": 7,
   "metadata": {},
   "outputs": [
    {
     "data": {
      "text/html": [
       "<div>\n",
       "<style scoped>\n",
       "    .dataframe tbody tr th:only-of-type {\n",
       "        vertical-align: middle;\n",
       "    }\n",
       "\n",
       "    .dataframe tbody tr th {\n",
       "        vertical-align: top;\n",
       "    }\n",
       "\n",
       "    .dataframe thead th {\n",
       "        text-align: right;\n",
       "    }\n",
       "</style>\n",
       "<table border=\"1\" class=\"dataframe\">\n",
       "  <thead>\n",
       "    <tr style=\"text-align: right;\">\n",
       "      <th></th>\n",
       "      <th>order_dow</th>\n",
       "      <th>order_dow_rate</th>\n",
       "    </tr>\n",
       "  </thead>\n",
       "  <tbody>\n",
       "    <tr>\n",
       "      <th>0</th>\n",
       "      <td>0</td>\n",
       "      <td>0.585276</td>\n",
       "    </tr>\n",
       "    <tr>\n",
       "      <th>1</th>\n",
       "      <td>1</td>\n",
       "      <td>0.603843</td>\n",
       "    </tr>\n",
       "    <tr>\n",
       "      <th>2</th>\n",
       "      <td>2</td>\n",
       "      <td>0.589771</td>\n",
       "    </tr>\n",
       "    <tr>\n",
       "      <th>3</th>\n",
       "      <td>3</td>\n",
       "      <td>0.586272</td>\n",
       "    </tr>\n",
       "    <tr>\n",
       "      <th>4</th>\n",
       "      <td>4</td>\n",
       "      <td>0.590979</td>\n",
       "    </tr>\n",
       "    <tr>\n",
       "      <th>5</th>\n",
       "      <td>5</td>\n",
       "      <td>0.595470</td>\n",
       "    </tr>\n",
       "    <tr>\n",
       "      <th>6</th>\n",
       "      <td>6</td>\n",
       "      <td>0.574369</td>\n",
       "    </tr>\n",
       "  </tbody>\n",
       "</table>\n",
       "</div>"
      ],
      "text/plain": [
       "   order_dow  order_dow_rate\n",
       "0          0        0.585276\n",
       "1          1        0.603843\n",
       "2          2        0.589771\n",
       "3          3        0.586272\n",
       "4          4        0.590979\n",
       "5          5        0.595470\n",
       "6          6        0.574369"
      ]
     },
     "execution_count": 7,
     "metadata": {},
     "output_type": "execute_result"
    }
   ],
   "source": [
    "order_dow_rate = pd.merge(orders,order_products_prior, on='order_id')\n",
    "order_dow_rate = order_dow_rate.groupby('order_dow')['reordered'].mean()\n",
    "\n",
    "order_dow_rate = order_dow_rate.reset_index()\n",
    "order_dow_rate.columns = ['order_dow','order_dow_rate']\n",
    "order_dow_rate"
   ]
  },
  {
   "cell_type": "markdown",
   "metadata": {},
   "source": [
    "# Reorder Classification\n",
    "<a href=\"#Instartcart-Market-Analysis\">Back to top</a><ul></ul>\n",
    "\n",
    "3 machine learning model are used:\n",
    "\n",
    "* decision tree\n",
    "* logistic\n",
    "* Naive Bayes"
   ]
  },
  {
   "cell_type": "markdown",
   "metadata": {},
   "source": [
    "## Combine all the dataset\n",
    "Independent variable is reordered column"
   ]
  },
  {
   "cell_type": "code",
   "execution_count": 57,
   "metadata": {},
   "outputs": [],
   "source": [
    "new_order_prior = []"
   ]
  },
  {
   "cell_type": "code",
   "execution_count": 10,
   "metadata": {},
   "outputs": [
    {
     "name": "stdout",
     "output_type": "stream",
     "text": [
      "CPU times: user 1min 36s, sys: 1min 43s, total: 3min 20s\n",
      "Wall time: 4min 58s\n"
     ]
    },
    {
     "data": {
      "text/html": [
       "<div>\n",
       "<style scoped>\n",
       "    .dataframe tbody tr th:only-of-type {\n",
       "        vertical-align: middle;\n",
       "    }\n",
       "\n",
       "    .dataframe tbody tr th {\n",
       "        vertical-align: top;\n",
       "    }\n",
       "\n",
       "    .dataframe thead th {\n",
       "        text-align: right;\n",
       "    }\n",
       "</style>\n",
       "<table border=\"1\" class=\"dataframe\">\n",
       "  <thead>\n",
       "    <tr style=\"text-align: right;\">\n",
       "      <th></th>\n",
       "      <th>product_id</th>\n",
       "      <th>reordered_rate</th>\n",
       "      <th>order_id</th>\n",
       "      <th>total_order</th>\n",
       "      <th>total_reordered</th>\n",
       "      <th>total_reordered_ratio</th>\n",
       "      <th>user_id</th>\n",
       "      <th>eval_set</th>\n",
       "      <th>order_number</th>\n",
       "      <th>order_dow</th>\n",
       "      <th>order_hour_of_day</th>\n",
       "      <th>days_since_prior_order</th>\n",
       "      <th>add_to_cart_order</th>\n",
       "      <th>reordered</th>\n",
       "    </tr>\n",
       "  </thead>\n",
       "  <tbody>\n",
       "    <tr>\n",
       "      <th>0</th>\n",
       "      <td>33120</td>\n",
       "      <td>0.708454</td>\n",
       "      <td>2</td>\n",
       "      <td>9</td>\n",
       "      <td>6</td>\n",
       "      <td>0.666667</td>\n",
       "      <td>202279</td>\n",
       "      <td>prior</td>\n",
       "      <td>3</td>\n",
       "      <td>5</td>\n",
       "      <td>9</td>\n",
       "      <td>8.0</td>\n",
       "      <td>1</td>\n",
       "      <td>1</td>\n",
       "    </tr>\n",
       "    <tr>\n",
       "      <th>1</th>\n",
       "      <td>33120</td>\n",
       "      <td>0.708454</td>\n",
       "      <td>26</td>\n",
       "      <td>8</td>\n",
       "      <td>2</td>\n",
       "      <td>0.250000</td>\n",
       "      <td>153404</td>\n",
       "      <td>prior</td>\n",
       "      <td>2</td>\n",
       "      <td>0</td>\n",
       "      <td>16</td>\n",
       "      <td>7.0</td>\n",
       "      <td>5</td>\n",
       "      <td>0</td>\n",
       "    </tr>\n",
       "    <tr>\n",
       "      <th>2</th>\n",
       "      <td>33120</td>\n",
       "      <td>0.708454</td>\n",
       "      <td>120</td>\n",
       "      <td>16</td>\n",
       "      <td>0</td>\n",
       "      <td>0.000000</td>\n",
       "      <td>23750</td>\n",
       "      <td>prior</td>\n",
       "      <td>11</td>\n",
       "      <td>6</td>\n",
       "      <td>8</td>\n",
       "      <td>10.0</td>\n",
       "      <td>13</td>\n",
       "      <td>0</td>\n",
       "    </tr>\n",
       "    <tr>\n",
       "      <th>3</th>\n",
       "      <td>33120</td>\n",
       "      <td>0.708454</td>\n",
       "      <td>327</td>\n",
       "      <td>8</td>\n",
       "      <td>6</td>\n",
       "      <td>0.750000</td>\n",
       "      <td>58707</td>\n",
       "      <td>prior</td>\n",
       "      <td>21</td>\n",
       "      <td>6</td>\n",
       "      <td>9</td>\n",
       "      <td>8.0</td>\n",
       "      <td>5</td>\n",
       "      <td>1</td>\n",
       "    </tr>\n",
       "    <tr>\n",
       "      <th>4</th>\n",
       "      <td>33120</td>\n",
       "      <td>0.708454</td>\n",
       "      <td>390</td>\n",
       "      <td>34</td>\n",
       "      <td>31</td>\n",
       "      <td>0.911765</td>\n",
       "      <td>166654</td>\n",
       "      <td>prior</td>\n",
       "      <td>48</td>\n",
       "      <td>0</td>\n",
       "      <td>12</td>\n",
       "      <td>9.0</td>\n",
       "      <td>28</td>\n",
       "      <td>1</td>\n",
       "    </tr>\n",
       "  </tbody>\n",
       "</table>\n",
       "</div>"
      ],
      "text/plain": [
       "   product_id  reordered_rate  order_id  total_order  total_reordered  \\\n",
       "0       33120        0.708454         2            9                6   \n",
       "1       33120        0.708454        26            8                2   \n",
       "2       33120        0.708454       120           16                0   \n",
       "3       33120        0.708454       327            8                6   \n",
       "4       33120        0.708454       390           34               31   \n",
       "\n",
       "   total_reordered_ratio  user_id eval_set  order_number  order_dow  \\\n",
       "0               0.666667   202279    prior             3          5   \n",
       "1               0.250000   153404    prior             2          0   \n",
       "2               0.000000    23750    prior            11          6   \n",
       "3               0.750000    58707    prior            21          6   \n",
       "4               0.911765   166654    prior            48          0   \n",
       "\n",
       "   order_hour_of_day  days_since_prior_order  add_to_cart_order  reordered  \n",
       "0                  9                     8.0                  1          1  \n",
       "1                 16                     7.0                  5          0  \n",
       "2                  8                    10.0                 13          0  \n",
       "3                  9                     8.0                  5          1  \n",
       "4                 12                     9.0                 28          1  "
      ]
     },
     "execution_count": 10,
     "metadata": {},
     "output_type": "execute_result"
    }
   ],
   "source": [
    "%%time\n",
    "# 3 mins\n",
    "# new_order_prior=pd.merge(products,order_products_prior,  on='product_id')\n",
    "# new_order_prior=pd.merge(aisles,new_order_prior,  on='aisle_id')\n",
    "new_order_prior=pd.merge(orders,order_products_prior,  on='order_id')\n",
    "new_order_prior=pd.merge(total_order,new_order_prior,  on='order_id')\n",
    "new_order_prior=pd.merge(reordered_rate,new_order_prior,  on='product_id')\n",
    "new_order_prior.head()"
   ]
  },
  {
   "cell_type": "code",
   "execution_count": 17,
   "metadata": {},
   "outputs": [
    {
     "data": {
      "text/plain": [
       "product_id                  int64\n",
       "reordered_rate            float64\n",
       "order_id                    int64\n",
       "total_order                 int64\n",
       "total_reordered             int64\n",
       "total_reordered_ratio     float64\n",
       "user_id                     int64\n",
       "eval_set                   object\n",
       "order_number                int64\n",
       "order_dow                   int64\n",
       "order_hour_of_day           int64\n",
       "days_since_prior_order    float64\n",
       "add_to_cart_order           int64\n",
       "reordered                   int64\n",
       "dtype: object"
      ]
     },
     "execution_count": 17,
     "metadata": {},
     "output_type": "execute_result"
    }
   ],
   "source": [
    "new_order_prior.dtypes"
   ]
  },
  {
   "cell_type": "markdown",
   "metadata": {},
   "source": [
    "## Data cleaning of order dataset"
   ]
  },
  {
   "cell_type": "code",
   "execution_count": 11,
   "metadata": {},
   "outputs": [
    {
     "name": "stdout",
     "output_type": "stream",
     "text": [
      "CPU times: user 15.9 s, sys: 34 s, total: 49.9 s\n",
      "Wall time: 1min 18s\n"
     ]
    },
    {
     "data": {
      "text/html": [
       "<div>\n",
       "<style scoped>\n",
       "    .dataframe tbody tr th:only-of-type {\n",
       "        vertical-align: middle;\n",
       "    }\n",
       "\n",
       "    .dataframe tbody tr th {\n",
       "        vertical-align: top;\n",
       "    }\n",
       "\n",
       "    .dataframe thead th {\n",
       "        text-align: right;\n",
       "    }\n",
       "</style>\n",
       "<table border=\"1\" class=\"dataframe\">\n",
       "  <thead>\n",
       "    <tr style=\"text-align: right;\">\n",
       "      <th></th>\n",
       "      <th>product_id</th>\n",
       "      <th>reordered_rate</th>\n",
       "      <th>order_id</th>\n",
       "      <th>total_order</th>\n",
       "      <th>total_reordered</th>\n",
       "      <th>total_reordered_ratio</th>\n",
       "      <th>user_id</th>\n",
       "      <th>eval_set</th>\n",
       "      <th>order_number</th>\n",
       "      <th>order_dow</th>\n",
       "      <th>order_hour_of_day</th>\n",
       "      <th>days_since_prior_order</th>\n",
       "      <th>add_to_cart_order</th>\n",
       "      <th>reordered</th>\n",
       "    </tr>\n",
       "  </thead>\n",
       "  <tbody>\n",
       "    <tr>\n",
       "      <th>0</th>\n",
       "      <td>33120</td>\n",
       "      <td>0.708454</td>\n",
       "      <td>2</td>\n",
       "      <td>9</td>\n",
       "      <td>6</td>\n",
       "      <td>0.666667</td>\n",
       "      <td>202279</td>\n",
       "      <td>prior</td>\n",
       "      <td>3</td>\n",
       "      <td>5</td>\n",
       "      <td>9</td>\n",
       "      <td>8.0</td>\n",
       "      <td>1</td>\n",
       "      <td>1</td>\n",
       "    </tr>\n",
       "    <tr>\n",
       "      <th>1</th>\n",
       "      <td>33120</td>\n",
       "      <td>0.708454</td>\n",
       "      <td>26</td>\n",
       "      <td>8</td>\n",
       "      <td>2</td>\n",
       "      <td>0.250000</td>\n",
       "      <td>153404</td>\n",
       "      <td>prior</td>\n",
       "      <td>2</td>\n",
       "      <td>0</td>\n",
       "      <td>16</td>\n",
       "      <td>7.0</td>\n",
       "      <td>5</td>\n",
       "      <td>0</td>\n",
       "    </tr>\n",
       "    <tr>\n",
       "      <th>2</th>\n",
       "      <td>33120</td>\n",
       "      <td>0.708454</td>\n",
       "      <td>120</td>\n",
       "      <td>16</td>\n",
       "      <td>0</td>\n",
       "      <td>0.000000</td>\n",
       "      <td>23750</td>\n",
       "      <td>prior</td>\n",
       "      <td>11</td>\n",
       "      <td>6</td>\n",
       "      <td>8</td>\n",
       "      <td>10.0</td>\n",
       "      <td>13</td>\n",
       "      <td>0</td>\n",
       "    </tr>\n",
       "    <tr>\n",
       "      <th>3</th>\n",
       "      <td>33120</td>\n",
       "      <td>0.708454</td>\n",
       "      <td>327</td>\n",
       "      <td>8</td>\n",
       "      <td>6</td>\n",
       "      <td>0.750000</td>\n",
       "      <td>58707</td>\n",
       "      <td>prior</td>\n",
       "      <td>21</td>\n",
       "      <td>6</td>\n",
       "      <td>9</td>\n",
       "      <td>8.0</td>\n",
       "      <td>5</td>\n",
       "      <td>1</td>\n",
       "    </tr>\n",
       "    <tr>\n",
       "      <th>4</th>\n",
       "      <td>33120</td>\n",
       "      <td>0.708454</td>\n",
       "      <td>390</td>\n",
       "      <td>34</td>\n",
       "      <td>31</td>\n",
       "      <td>0.911765</td>\n",
       "      <td>166654</td>\n",
       "      <td>prior</td>\n",
       "      <td>48</td>\n",
       "      <td>0</td>\n",
       "      <td>12</td>\n",
       "      <td>9.0</td>\n",
       "      <td>28</td>\n",
       "      <td>1</td>\n",
       "    </tr>\n",
       "  </tbody>\n",
       "</table>\n",
       "</div>"
      ],
      "text/plain": [
       "   product_id  reordered_rate  order_id  total_order  total_reordered  \\\n",
       "0       33120        0.708454         2            9                6   \n",
       "1       33120        0.708454        26            8                2   \n",
       "2       33120        0.708454       120           16                0   \n",
       "3       33120        0.708454       327            8                6   \n",
       "4       33120        0.708454       390           34               31   \n",
       "\n",
       "   total_reordered_ratio  user_id eval_set  order_number  order_dow  \\\n",
       "0               0.666667   202279    prior             3          5   \n",
       "1               0.250000   153404    prior             2          0   \n",
       "2               0.000000    23750    prior            11          6   \n",
       "3               0.750000    58707    prior            21          6   \n",
       "4               0.911765   166654    prior            48          0   \n",
       "\n",
       "   order_hour_of_day  days_since_prior_order  add_to_cart_order  reordered  \n",
       "0                  9                     8.0                  1          1  \n",
       "1                 16                     7.0                  5          0  \n",
       "2                  8                    10.0                 13          0  \n",
       "3                  9                     8.0                  5          1  \n",
       "4                 12                     9.0                 28          1  "
      ]
     },
     "execution_count": 11,
     "metadata": {},
     "output_type": "execute_result"
    }
   ],
   "source": [
    "%%time\n",
    "new_order_prior.dropna(inplace=True)\n",
    "new_order_prior = new_order_prior[new_order_prior.eval_set != 'train']\n",
    "new_order_prior.head()"
   ]
  },
  {
   "cell_type": "markdown",
   "metadata": {},
   "source": [
    "# Feature selection\n",
    "\n",
    "Removed all the categorical columns since sklearn cannot handle strings. Order_id is removed because it is not relevant."
   ]
  },
  {
   "cell_type": "code",
   "execution_count": 12,
   "metadata": {},
   "outputs": [],
   "source": [
    "# unrelevant features\n",
    "new_order_prior.drop(['product_id',\n",
    "                      'order_id',\n",
    "                      'user_id',\n",
    "                      'eval_set'], axis=1, inplace = True)"
   ]
  },
  {
   "cell_type": "code",
   "execution_count": 13,
   "metadata": {},
   "outputs": [
    {
     "data": {
      "text/html": [
       "<div>\n",
       "<style scoped>\n",
       "    .dataframe tbody tr th:only-of-type {\n",
       "        vertical-align: middle;\n",
       "    }\n",
       "\n",
       "    .dataframe tbody tr th {\n",
       "        vertical-align: top;\n",
       "    }\n",
       "\n",
       "    .dataframe thead th {\n",
       "        text-align: right;\n",
       "    }\n",
       "</style>\n",
       "<table border=\"1\" class=\"dataframe\">\n",
       "  <thead>\n",
       "    <tr style=\"text-align: right;\">\n",
       "      <th></th>\n",
       "      <th>reordered_rate</th>\n",
       "      <th>total_reordered</th>\n",
       "      <th>total_reordered_ratio</th>\n",
       "      <th>order_number</th>\n",
       "      <th>days_since_prior_order</th>\n",
       "      <th>add_to_cart_order</th>\n",
       "      <th>reordered</th>\n",
       "    </tr>\n",
       "  </thead>\n",
       "  <tbody>\n",
       "    <tr>\n",
       "      <th>0</th>\n",
       "      <td>0.708454</td>\n",
       "      <td>6</td>\n",
       "      <td>0.666667</td>\n",
       "      <td>3</td>\n",
       "      <td>8.0</td>\n",
       "      <td>1</td>\n",
       "      <td>1</td>\n",
       "    </tr>\n",
       "    <tr>\n",
       "      <th>1</th>\n",
       "      <td>0.708454</td>\n",
       "      <td>2</td>\n",
       "      <td>0.250000</td>\n",
       "      <td>2</td>\n",
       "      <td>7.0</td>\n",
       "      <td>5</td>\n",
       "      <td>0</td>\n",
       "    </tr>\n",
       "    <tr>\n",
       "      <th>2</th>\n",
       "      <td>0.708454</td>\n",
       "      <td>0</td>\n",
       "      <td>0.000000</td>\n",
       "      <td>11</td>\n",
       "      <td>10.0</td>\n",
       "      <td>13</td>\n",
       "      <td>0</td>\n",
       "    </tr>\n",
       "    <tr>\n",
       "      <th>3</th>\n",
       "      <td>0.708454</td>\n",
       "      <td>6</td>\n",
       "      <td>0.750000</td>\n",
       "      <td>21</td>\n",
       "      <td>8.0</td>\n",
       "      <td>5</td>\n",
       "      <td>1</td>\n",
       "    </tr>\n",
       "    <tr>\n",
       "      <th>4</th>\n",
       "      <td>0.708454</td>\n",
       "      <td>31</td>\n",
       "      <td>0.911765</td>\n",
       "      <td>48</td>\n",
       "      <td>9.0</td>\n",
       "      <td>28</td>\n",
       "      <td>1</td>\n",
       "    </tr>\n",
       "  </tbody>\n",
       "</table>\n",
       "</div>"
      ],
      "text/plain": [
       "   reordered_rate  total_reordered  total_reordered_ratio  order_number  \\\n",
       "0        0.708454                6               0.666667             3   \n",
       "1        0.708454                2               0.250000             2   \n",
       "2        0.708454                0               0.000000            11   \n",
       "3        0.708454                6               0.750000            21   \n",
       "4        0.708454               31               0.911765            48   \n",
       "\n",
       "   days_since_prior_order  add_to_cart_order  reordered  \n",
       "0                     8.0                  1          1  \n",
       "1                     7.0                  5          0  \n",
       "2                    10.0                 13          0  \n",
       "3                     8.0                  5          1  \n",
       "4                     9.0                 28          1  "
      ]
     },
     "execution_count": 13,
     "metadata": {},
     "output_type": "execute_result"
    }
   ],
   "source": [
    "# features that are lower than 0.02\n",
    "new_order_prior.drop(['total_order',\n",
    "                      'order_dow',\n",
    "                      'order_hour_of_day'], axis=1, inplace = True)\n",
    "new_order_prior.head()"
   ]
  },
  {
   "cell_type": "code",
   "execution_count": 57,
   "metadata": {},
   "outputs": [
    {
     "name": "stdout",
     "output_type": "stream",
     "text": [
      "CPU times: user 4.57 s, sys: 2.67 s, total: 7.23 s\n",
      "Wall time: 8.13 s\n"
     ]
    },
    {
     "data": {
      "text/html": [
       "<style  type=\"text/css\" >\n",
       "    #T_23d8804e_d02d_11ea_a40d_542696d0d73brow0_col0 {\n",
       "            background-color:  #b40426;\n",
       "            color:  #f1f1f1;\n",
       "        }    #T_23d8804e_d02d_11ea_a40d_542696d0d73brow0_col1 {\n",
       "            background-color:  #6282ea;\n",
       "            color:  #000000;\n",
       "        }    #T_23d8804e_d02d_11ea_a40d_542696d0d73brow0_col2 {\n",
       "            background-color:  #afcafc;\n",
       "            color:  #000000;\n",
       "        }    #T_23d8804e_d02d_11ea_a40d_542696d0d73brow0_col3 {\n",
       "            background-color:  #a1c0ff;\n",
       "            color:  #000000;\n",
       "        }    #T_23d8804e_d02d_11ea_a40d_542696d0d73brow0_col4 {\n",
       "            background-color:  #88abfd;\n",
       "            color:  #000000;\n",
       "        }    #T_23d8804e_d02d_11ea_a40d_542696d0d73brow0_col5 {\n",
       "            background-color:  #3b4cc0;\n",
       "            color:  #f1f1f1;\n",
       "        }    #T_23d8804e_d02d_11ea_a40d_542696d0d73brow0_col6 {\n",
       "            background-color:  #c4d5f3;\n",
       "            color:  #000000;\n",
       "        }    #T_23d8804e_d02d_11ea_a40d_542696d0d73brow1_col0 {\n",
       "            background-color:  #7597f6;\n",
       "            color:  #000000;\n",
       "        }    #T_23d8804e_d02d_11ea_a40d_542696d0d73brow1_col1 {\n",
       "            background-color:  #b40426;\n",
       "            color:  #f1f1f1;\n",
       "        }    #T_23d8804e_d02d_11ea_a40d_542696d0d73brow1_col2 {\n",
       "            background-color:  #f2cab5;\n",
       "            color:  #000000;\n",
       "        }    #T_23d8804e_d02d_11ea_a40d_542696d0d73brow1_col3 {\n",
       "            background-color:  #ccd9ed;\n",
       "            color:  #000000;\n",
       "        }    #T_23d8804e_d02d_11ea_a40d_542696d0d73brow1_col4 {\n",
       "            background-color:  #7ea1fa;\n",
       "            color:  #000000;\n",
       "        }    #T_23d8804e_d02d_11ea_a40d_542696d0d73brow1_col5 {\n",
       "            background-color:  #f1cdba;\n",
       "            color:  #000000;\n",
       "        }    #T_23d8804e_d02d_11ea_a40d_542696d0d73brow1_col6 {\n",
       "            background-color:  #bbd1f8;\n",
       "            color:  #000000;\n",
       "        }    #T_23d8804e_d02d_11ea_a40d_542696d0d73brow2_col0 {\n",
       "            background-color:  #9ebeff;\n",
       "            color:  #000000;\n",
       "        }    #T_23d8804e_d02d_11ea_a40d_542696d0d73brow2_col1 {\n",
       "            background-color:  #e8d6cc;\n",
       "            color:  #000000;\n",
       "        }    #T_23d8804e_d02d_11ea_a40d_542696d0d73brow2_col2 {\n",
       "            background-color:  #b40426;\n",
       "            color:  #f1f1f1;\n",
       "        }    #T_23d8804e_d02d_11ea_a40d_542696d0d73brow2_col3 {\n",
       "            background-color:  #efcebd;\n",
       "            color:  #000000;\n",
       "        }    #T_23d8804e_d02d_11ea_a40d_542696d0d73brow2_col4 {\n",
       "            background-color:  #5875e1;\n",
       "            color:  #000000;\n",
       "        }    #T_23d8804e_d02d_11ea_a40d_542696d0d73brow2_col5 {\n",
       "            background-color:  #6384eb;\n",
       "            color:  #000000;\n",
       "        }    #T_23d8804e_d02d_11ea_a40d_542696d0d73brow2_col6 {\n",
       "            background-color:  #f5c2aa;\n",
       "            color:  #000000;\n",
       "        }    #T_23d8804e_d02d_11ea_a40d_542696d0d73brow3_col0 {\n",
       "            background-color:  #7396f5;\n",
       "            color:  #000000;\n",
       "        }    #T_23d8804e_d02d_11ea_a40d_542696d0d73brow3_col1 {\n",
       "            background-color:  #9bbcff;\n",
       "            color:  #000000;\n",
       "        }    #T_23d8804e_d02d_11ea_a40d_542696d0d73brow3_col2 {\n",
       "            background-color:  #e6d7cf;\n",
       "            color:  #000000;\n",
       "        }    #T_23d8804e_d02d_11ea_a40d_542696d0d73brow3_col3 {\n",
       "            background-color:  #b40426;\n",
       "            color:  #f1f1f1;\n",
       "        }    #T_23d8804e_d02d_11ea_a40d_542696d0d73brow3_col4 {\n",
       "            background-color:  #3b4cc0;\n",
       "            color:  #f1f1f1;\n",
       "        }    #T_23d8804e_d02d_11ea_a40d_542696d0d73brow3_col5 {\n",
       "            background-color:  #6180e9;\n",
       "            color:  #000000;\n",
       "        }    #T_23d8804e_d02d_11ea_a40d_542696d0d73brow3_col6 {\n",
       "            background-color:  #aec9fc;\n",
       "            color:  #000000;\n",
       "        }    #T_23d8804e_d02d_11ea_a40d_542696d0d73brow4_col0 {\n",
       "            background-color:  #5673e0;\n",
       "            color:  #000000;\n",
       "        }    #T_23d8804e_d02d_11ea_a40d_542696d0d73brow4_col1 {\n",
       "            background-color:  #3b4cc0;\n",
       "            color:  #f1f1f1;\n",
       "        }    #T_23d8804e_d02d_11ea_a40d_542696d0d73brow4_col2 {\n",
       "            background-color:  #3b4cc0;\n",
       "            color:  #f1f1f1;\n",
       "        }    #T_23d8804e_d02d_11ea_a40d_542696d0d73brow4_col3 {\n",
       "            background-color:  #3b4cc0;\n",
       "            color:  #f1f1f1;\n",
       "        }    #T_23d8804e_d02d_11ea_a40d_542696d0d73brow4_col4 {\n",
       "            background-color:  #b40426;\n",
       "            color:  #f1f1f1;\n",
       "        }    #T_23d8804e_d02d_11ea_a40d_542696d0d73brow4_col5 {\n",
       "            background-color:  #7295f4;\n",
       "            color:  #000000;\n",
       "        }    #T_23d8804e_d02d_11ea_a40d_542696d0d73brow4_col6 {\n",
       "            background-color:  #3d50c3;\n",
       "            color:  #f1f1f1;\n",
       "        }    #T_23d8804e_d02d_11ea_a40d_542696d0d73brow5_col0 {\n",
       "            background-color:  #3b4cc0;\n",
       "            color:  #f1f1f1;\n",
       "        }    #T_23d8804e_d02d_11ea_a40d_542696d0d73brow5_col1 {\n",
       "            background-color:  #ecd3c5;\n",
       "            color:  #000000;\n",
       "        }    #T_23d8804e_d02d_11ea_a40d_542696d0d73brow5_col2 {\n",
       "            background-color:  #779af7;\n",
       "            color:  #000000;\n",
       "        }    #T_23d8804e_d02d_11ea_a40d_542696d0d73brow5_col3 {\n",
       "            background-color:  #90b2fe;\n",
       "            color:  #000000;\n",
       "        }    #T_23d8804e_d02d_11ea_a40d_542696d0d73brow5_col4 {\n",
       "            background-color:  #9fbfff;\n",
       "            color:  #000000;\n",
       "        }    #T_23d8804e_d02d_11ea_a40d_542696d0d73brow5_col5 {\n",
       "            background-color:  #b40426;\n",
       "            color:  #f1f1f1;\n",
       "        }    #T_23d8804e_d02d_11ea_a40d_542696d0d73brow5_col6 {\n",
       "            background-color:  #3b4cc0;\n",
       "            color:  #f1f1f1;\n",
       "        }    #T_23d8804e_d02d_11ea_a40d_542696d0d73brow6_col0 {\n",
       "            background-color:  #c3d5f4;\n",
       "            color:  #000000;\n",
       "        }    #T_23d8804e_d02d_11ea_a40d_542696d0d73brow6_col1 {\n",
       "            background-color:  #adc9fd;\n",
       "            color:  #000000;\n",
       "        }    #T_23d8804e_d02d_11ea_a40d_542696d0d73brow6_col2 {\n",
       "            background-color:  #f7ba9f;\n",
       "            color:  #000000;\n",
       "        }    #T_23d8804e_d02d_11ea_a40d_542696d0d73brow6_col3 {\n",
       "            background-color:  #cedaeb;\n",
       "            color:  #000000;\n",
       "        }    #T_23d8804e_d02d_11ea_a40d_542696d0d73brow6_col4 {\n",
       "            background-color:  #6f92f3;\n",
       "            color:  #000000;\n",
       "        }    #T_23d8804e_d02d_11ea_a40d_542696d0d73brow6_col5 {\n",
       "            background-color:  #3b4cc0;\n",
       "            color:  #f1f1f1;\n",
       "        }    #T_23d8804e_d02d_11ea_a40d_542696d0d73brow6_col6 {\n",
       "            background-color:  #b40426;\n",
       "            color:  #f1f1f1;\n",
       "        }</style><table id=\"T_23d8804e_d02d_11ea_a40d_542696d0d73b\" ><thead>    <tr>        <th class=\"blank level0\" ></th>        <th class=\"col_heading level0 col0\" >reordered_rate</th>        <th class=\"col_heading level0 col1\" >total_reordered</th>        <th class=\"col_heading level0 col2\" >total_reordered_ratio</th>        <th class=\"col_heading level0 col3\" >order_number</th>        <th class=\"col_heading level0 col4\" >days_since_prior_order</th>        <th class=\"col_heading level0 col5\" >add_to_cart_order</th>        <th class=\"col_heading level0 col6\" >reordered</th>    </tr></thead><tbody>\n",
       "                <tr>\n",
       "                        <th id=\"T_23d8804e_d02d_11ea_a40d_542696d0d73blevel0_row0\" class=\"row_heading level0 row0\" >reordered_rate</th>\n",
       "                        <td id=\"T_23d8804e_d02d_11ea_a40d_542696d0d73brow0_col0\" class=\"data row0 col0\" >1.000000</td>\n",
       "                        <td id=\"T_23d8804e_d02d_11ea_a40d_542696d0d73brow0_col1\" class=\"data row0 col1\" >0.062083</td>\n",
       "                        <td id=\"T_23d8804e_d02d_11ea_a40d_542696d0d73brow0_col2\" class=\"data row0 col2\" >0.200248</td>\n",
       "                        <td id=\"T_23d8804e_d02d_11ea_a40d_542696d0d73brow0_col3\" class=\"data row0 col3\" >0.059858</td>\n",
       "                        <td id=\"T_23d8804e_d02d_11ea_a40d_542696d0d73brow0_col4\" class=\"data row0 col4\" >-0.036800</td>\n",
       "                        <td id=\"T_23d8804e_d02d_11ea_a40d_542696d0d73brow0_col5\" class=\"data row0 col5\" >-0.143393</td>\n",
       "                        <td id=\"T_23d8804e_d02d_11ea_a40d_542696d0d73brow0_col6\" class=\"data row0 col6\" >0.325475</td>\n",
       "            </tr>\n",
       "            <tr>\n",
       "                        <th id=\"T_23d8804e_d02d_11ea_a40d_542696d0d73blevel0_row1\" class=\"row_heading level0 row1\" >total_reordered</th>\n",
       "                        <td id=\"T_23d8804e_d02d_11ea_a40d_542696d0d73brow1_col0\" class=\"data row1 col0\" >0.062083</td>\n",
       "                        <td id=\"T_23d8804e_d02d_11ea_a40d_542696d0d73brow1_col1\" class=\"data row1 col1\" >1.000000</td>\n",
       "                        <td id=\"T_23d8804e_d02d_11ea_a40d_542696d0d73brow1_col2\" class=\"data row1 col2\" >0.510675</td>\n",
       "                        <td id=\"T_23d8804e_d02d_11ea_a40d_542696d0d73brow1_col3\" class=\"data row1 col3\" >0.238205</td>\n",
       "                        <td id=\"T_23d8804e_d02d_11ea_a40d_542696d0d73brow1_col4\" class=\"data row1 col4\" >-0.072660</td>\n",
       "                        <td id=\"T_23d8804e_d02d_11ea_a40d_542696d0d73brow1_col5\" class=\"data row1 col5\" >0.534086</td>\n",
       "                        <td id=\"T_23d8804e_d02d_11ea_a40d_542696d0d73brow1_col6\" class=\"data row1 col6\" >0.295873</td>\n",
       "            </tr>\n",
       "            <tr>\n",
       "                        <th id=\"T_23d8804e_d02d_11ea_a40d_542696d0d73blevel0_row2\" class=\"row_heading level0 row2\" >total_reordered_ratio</th>\n",
       "                        <td id=\"T_23d8804e_d02d_11ea_a40d_542696d0d73brow2_col0\" class=\"data row2 col0\" >0.200248</td>\n",
       "                        <td id=\"T_23d8804e_d02d_11ea_a40d_542696d0d73brow2_col1\" class=\"data row2 col1\" >0.510675</td>\n",
       "                        <td id=\"T_23d8804e_d02d_11ea_a40d_542696d0d73brow2_col2\" class=\"data row2 col2\" >1.000000</td>\n",
       "                        <td id=\"T_23d8804e_d02d_11ea_a40d_542696d0d73brow2_col3\" class=\"data row2 col3\" >0.433179</td>\n",
       "                        <td id=\"T_23d8804e_d02d_11ea_a40d_542696d0d73brow2_col4\" class=\"data row2 col4\" >-0.229236</td>\n",
       "                        <td id=\"T_23d8804e_d02d_11ea_a40d_542696d0d73brow2_col5\" class=\"data row2 col5\" >0.006018</td>\n",
       "                        <td id=\"T_23d8804e_d02d_11ea_a40d_542696d0d73brow2_col6\" class=\"data row2 col6\" >0.579376</td>\n",
       "            </tr>\n",
       "            <tr>\n",
       "                        <th id=\"T_23d8804e_d02d_11ea_a40d_542696d0d73blevel0_row3\" class=\"row_heading level0 row3\" >order_number</th>\n",
       "                        <td id=\"T_23d8804e_d02d_11ea_a40d_542696d0d73brow3_col0\" class=\"data row3 col0\" >0.059858</td>\n",
       "                        <td id=\"T_23d8804e_d02d_11ea_a40d_542696d0d73brow3_col1\" class=\"data row3 col1\" >0.238205</td>\n",
       "                        <td id=\"T_23d8804e_d02d_11ea_a40d_542696d0d73brow3_col2\" class=\"data row3 col2\" >0.433179</td>\n",
       "                        <td id=\"T_23d8804e_d02d_11ea_a40d_542696d0d73brow3_col3\" class=\"data row3 col3\" >1.000000</td>\n",
       "                        <td id=\"T_23d8804e_d02d_11ea_a40d_542696d0d73brow3_col4\" class=\"data row3 col4\" >-0.358422</td>\n",
       "                        <td id=\"T_23d8804e_d02d_11ea_a40d_542696d0d73brow3_col5\" class=\"data row3 col5\" >-0.004921</td>\n",
       "                        <td id=\"T_23d8804e_d02d_11ea_a40d_542696d0d73brow3_col6\" class=\"data row3 col6\" >0.250973</td>\n",
       "            </tr>\n",
       "            <tr>\n",
       "                        <th id=\"T_23d8804e_d02d_11ea_a40d_542696d0d73blevel0_row4\" class=\"row_heading level0 row4\" >days_since_prior_order</th>\n",
       "                        <td id=\"T_23d8804e_d02d_11ea_a40d_542696d0d73brow4_col0\" class=\"data row4 col0\" >-0.036800</td>\n",
       "                        <td id=\"T_23d8804e_d02d_11ea_a40d_542696d0d73brow4_col1\" class=\"data row4 col1\" >-0.072660</td>\n",
       "                        <td id=\"T_23d8804e_d02d_11ea_a40d_542696d0d73brow4_col2\" class=\"data row4 col2\" >-0.229236</td>\n",
       "                        <td id=\"T_23d8804e_d02d_11ea_a40d_542696d0d73brow4_col3\" class=\"data row4 col3\" >-0.358422</td>\n",
       "                        <td id=\"T_23d8804e_d02d_11ea_a40d_542696d0d73brow4_col4\" class=\"data row4 col4\" >1.000000</td>\n",
       "                        <td id=\"T_23d8804e_d02d_11ea_a40d_542696d0d73brow4_col5\" class=\"data row4 col5\" >0.053951</td>\n",
       "                        <td id=\"T_23d8804e_d02d_11ea_a40d_542696d0d73brow4_col6\" class=\"data row4 col6\" >-0.132814</td>\n",
       "            </tr>\n",
       "            <tr>\n",
       "                        <th id=\"T_23d8804e_d02d_11ea_a40d_542696d0d73blevel0_row5\" class=\"row_heading level0 row5\" >add_to_cart_order</th>\n",
       "                        <td id=\"T_23d8804e_d02d_11ea_a40d_542696d0d73brow5_col0\" class=\"data row5 col0\" >-0.143393</td>\n",
       "                        <td id=\"T_23d8804e_d02d_11ea_a40d_542696d0d73brow5_col1\" class=\"data row5 col1\" >0.534086</td>\n",
       "                        <td id=\"T_23d8804e_d02d_11ea_a40d_542696d0d73brow5_col2\" class=\"data row5 col2\" >0.006018</td>\n",
       "                        <td id=\"T_23d8804e_d02d_11ea_a40d_542696d0d73brow5_col3\" class=\"data row5 col3\" >-0.004921</td>\n",
       "                        <td id=\"T_23d8804e_d02d_11ea_a40d_542696d0d73brow5_col4\" class=\"data row5 col4\" >0.053951</td>\n",
       "                        <td id=\"T_23d8804e_d02d_11ea_a40d_542696d0d73brow5_col5\" class=\"data row5 col5\" >1.000000</td>\n",
       "                        <td id=\"T_23d8804e_d02d_11ea_a40d_542696d0d73brow5_col6\" class=\"data row5 col6\" >-0.145232</td>\n",
       "            </tr>\n",
       "            <tr>\n",
       "                        <th id=\"T_23d8804e_d02d_11ea_a40d_542696d0d73blevel0_row6\" class=\"row_heading level0 row6\" >reordered</th>\n",
       "                        <td id=\"T_23d8804e_d02d_11ea_a40d_542696d0d73brow6_col0\" class=\"data row6 col0\" >0.325475</td>\n",
       "                        <td id=\"T_23d8804e_d02d_11ea_a40d_542696d0d73brow6_col1\" class=\"data row6 col1\" >0.295873</td>\n",
       "                        <td id=\"T_23d8804e_d02d_11ea_a40d_542696d0d73brow6_col2\" class=\"data row6 col2\" >0.579376</td>\n",
       "                        <td id=\"T_23d8804e_d02d_11ea_a40d_542696d0d73brow6_col3\" class=\"data row6 col3\" >0.250973</td>\n",
       "                        <td id=\"T_23d8804e_d02d_11ea_a40d_542696d0d73brow6_col4\" class=\"data row6 col4\" >-0.132814</td>\n",
       "                        <td id=\"T_23d8804e_d02d_11ea_a40d_542696d0d73brow6_col5\" class=\"data row6 col5\" >-0.145232</td>\n",
       "                        <td id=\"T_23d8804e_d02d_11ea_a40d_542696d0d73brow6_col6\" class=\"data row6 col6\" >1.000000</td>\n",
       "            </tr>\n",
       "    </tbody></table>"
      ],
      "text/plain": [
       "<pandas.io.formats.style.Styler at 0x1a33e05350>"
      ]
     },
     "execution_count": 57,
     "metadata": {},
     "output_type": "execute_result"
    }
   ],
   "source": [
    "%%time\n",
    "corr = new_order_prior.corr()\n",
    "corr.style.background_gradient(cmap='coolwarm')"
   ]
  },
  {
   "cell_type": "code",
   "execution_count": 14,
   "metadata": {},
   "outputs": [],
   "source": [
    "X = new_order_prior.iloc[:, :-1].values\n",
    "y = new_order_prior.iloc[:, -1].values"
   ]
  },
  {
   "cell_type": "code",
   "execution_count": 15,
   "metadata": {},
   "outputs": [
    {
     "name": "stdout",
     "output_type": "stream",
     "text": [
      "CPU times: user 16.4 s, sys: 4.19 s, total: 20.5 s\n",
      "Wall time: 23.7 s\n"
     ]
    }
   ],
   "source": [
    "%%time\n",
    "from sklearn.model_selection import train_test_split\n",
    "X_train, X_test, y_train, y_test = train_test_split(X, y, test_size = 0.25, random_state = 1)"
   ]
  },
  {
   "cell_type": "markdown",
   "metadata": {},
   "source": [
    "## Feature scaling"
   ]
  },
  {
   "cell_type": "code",
   "execution_count": 65,
   "metadata": {},
   "outputs": [],
   "source": [
    "from sklearn.preprocessing import StandardScaler\n",
    "sc = StandardScaler()\n",
    "X_train[:, [1,3,4,5]] = sc.fit_transform(X_train[:, [1,3,4,5]])\n",
    "X_test[:, [1,3,4,5]] = sc.transform(X_test[:, [1,3,4,5]])"
   ]
  },
  {
   "cell_type": "markdown",
   "metadata": {},
   "source": [
    "## Train"
   ]
  },
  {
   "cell_type": "markdown",
   "metadata": {},
   "source": [
    "## Decision tree prediction\n"
   ]
  },
  {
   "cell_type": "code",
   "execution_count": 16,
   "metadata": {},
   "outputs": [
    {
     "name": "stdout",
     "output_type": "stream",
     "text": [
      "CPU times: user 13min 24s, sys: 41.3 s, total: 14min 5s\n",
      "Wall time: 15min 47s\n"
     ]
    }
   ],
   "source": [
    "%%time\n",
    "## takes more than 8 mins\n",
    "from sklearn.tree import DecisionTreeClassifier\n",
    "classifier = DecisionTreeClassifier(random_state = 0)\n",
    "classifier.fit(X_train, y_train)\n",
    "\n",
    "#predict\n",
    "y_pred = classifier.predict(X_test)"
   ]
  },
  {
   "cell_type": "markdown",
   "metadata": {},
   "source": [
    "## Decision tree confusing matrix and accuracy\n",
    "\n",
    "Accuracy is 74% which is below 80%.\n"
   ]
  },
  {
   "cell_type": "code",
   "execution_count": 67,
   "metadata": {},
   "outputs": [
    {
     "name": "stdout",
     "output_type": "stream",
     "text": [
      "Accuracy: 0.742775\n",
      "Precision: 0.743273\n",
      "Recall: 0.742775\n",
      "fscore: 0.743015\n",
      "CPU times: user 12.4 s, sys: 1.05 s, total: 13.5 s\n",
      "Wall time: 14.2 s\n"
     ]
    },
    {
     "data": {
      "text/plain": [
       "Text(0.5, 1, 'Decision Tree Confusion Matrix')"
      ]
     },
     "execution_count": 67,
     "metadata": {},
     "output_type": "execute_result"
    },
    {
     "data": {
      "image/png": "[encoded data removed]",
      "text/plain": [
       "<Figure size 576x396 with 2 Axes>"
      ]
     },
     "metadata": {},
     "output_type": "display_data"
    }
   ],
   "source": [
    "%%time\n",
    "# making the confusion matrix\n",
    "import seaborn as sn\n",
    "from sklearn.metrics import confusion_matrix, accuracy_score, precision_recall_fscore_support\n",
    "cm = confusion_matrix(y_test, y_pred)\n",
    "#print(cm)\n",
    "print('Accuracy: %.6f' % accuracy_score(y_test, y_pred))\n",
    "output = precision_recall_fscore_support(y_test, y_pred, average='weighted')\n",
    "print('Precision: %.6f' % output[0])\n",
    "print('Recall: %.6f' % output[1])\n",
    "print('fscore: %.6f' % output[2])\n",
    "\n",
    "sn.heatmap(cm, annot=True, annot_kws={\"size\": 16}, fmt=\"d\")\n",
    "plt.xlabel('Predicted', fontsize=16)\n",
    "plt.ylabel('Actual', fontsize=16)\n",
    "plt.title('Decision Tree Confusion Matrix',fontsize=20)"
   ]
  },
  {
   "cell_type": "code",
   "execution_count": 27,
   "metadata": {},
   "outputs": [
    {
     "name": "stdout",
     "output_type": "stream",
     "text": [
      "              precision    recall  f1-score   support\n",
      "\n",
      "           0   0.650940  0.656916  0.653915   2807379\n",
      "           1   0.797482  0.793184  0.795327   4781727\n",
      "\n",
      "    accuracy                       0.742775   7589106\n",
      "   macro avg   0.724211  0.725050  0.724621   7589106\n",
      "weighted avg   0.743273  0.742775  0.743015   7589106\n",
      "\n"
     ]
    }
   ],
   "source": [
    "from sklearn.metrics import classification_report\n",
    "\n",
    "sk_report = classification_report(\n",
    "    digits=6,\n",
    "    y_true=y_test, \n",
    "    y_pred=y_pred)\n",
    "print(sk_report)"
   ]
  },
  {
   "cell_type": "code",
   "execution_count": null,
   "metadata": {},
   "outputs": [],
   "source": [
    "%%time\n",
    "from sklearn.model_selection import cross_val_score\n",
    "accuracies = cross_val_score(estimator = classifier, X = X_train, y = y_train, cv = 10)\n",
    "print(\"Accuracy: {:.2f} %\".format(accuracies.mean()*100))\n",
    "print(\"SD: {:.2f} %\".format(accuracies.std()*100))"
   ]
  },
  {
   "cell_type": "markdown",
   "metadata": {},
   "source": [
    "# Logistic regression"
   ]
  },
  {
   "cell_type": "code",
   "execution_count": 22,
   "metadata": {},
   "outputs": [
    {
     "name": "stdout",
     "output_type": "stream",
     "text": [
      "CPU times: user 2min 31s, sys: 45.7 s, total: 3min 17s\n",
      "Wall time: 2min 57s\n"
     ]
    }
   ],
   "source": [
    "%%time\n",
    "# 1 mins 6 seconds\n",
    "from sklearn.linear_model import LogisticRegression\n",
    "classifier = LogisticRegression(random_state=0)\n",
    "classifier.fit(X_train, y_train)\n",
    "\n",
    "y_pred_LR = classifier.predict(X_test)\n",
    "y_pred_LR_p = classifier.predict_proba(X_test)"
   ]
  },
  {
   "cell_type": "code",
   "execution_count": 61,
   "metadata": {},
   "outputs": [
    {
     "name": "stdout",
     "output_type": "stream",
     "text": [
      "Accuracy: 0.804859\n",
      "Precision: 0.802528\n",
      "Recall: 0.804859\n",
      "fscore: 0.802584\n"
     ]
    },
    {
     "data": {
      "text/plain": [
       "Text(0.5, 1, 'Logistic Regression Confusion Matrix')"
      ]
     },
     "execution_count": 61,
     "metadata": {},
     "output_type": "execute_result"
    },
    {
     "data": {
      "image/png": "[encoded data removed]",
      "text/plain": [
       "<Figure size 576x396 with 2 Axes>"
      ]
     },
     "metadata": {},
     "output_type": "display_data"
    }
   ],
   "source": [
    "# making the confusion matrix\n",
    "import seaborn as sn\n",
    "from sklearn.metrics import confusion_matrix, accuracy_score, precision_recall_fscore_support\n",
    "cm = confusion_matrix(y_test, y_pred_LR)\n",
    "#print(cm)\n",
    "print('Accuracy: %.6f' % accuracy_score(y_test, y_pred_LR))\n",
    "output = precision_recall_fscore_support(y_test, y_pred_LR, average='weighted')\n",
    "print('Precision: %.6f' % output[0])\n",
    "print('Recall: %.6f' % output[1])\n",
    "print('fscore: %.6f' % output[2])\n",
    "\n",
    "sn.heatmap(cm, annot=True, annot_kws={\"size\": 16}, fmt=\"d\")\n",
    "plt.xlabel('Predicted', fontsize=16)\n",
    "plt.ylabel('Actual', fontsize=16)\n",
    "plt.title('Logistic Regression Confusion Matrix',fontsize=20)"
   ]
  },
  {
   "cell_type": "code",
   "execution_count": 62,
   "metadata": {},
   "outputs": [
    {
     "name": "stdout",
     "output_type": "stream",
     "text": [
      "              precision    recall  f1-score   support\n",
      "\n",
      "           0   0.761652  0.687681  0.722779   2807379\n",
      "           1   0.826527  0.873655  0.849438   4781727\n",
      "\n",
      "    accuracy                       0.804859   7589106\n",
      "   macro avg   0.794090  0.780668  0.786108   7589106\n",
      "weighted avg   0.802528  0.804859  0.802584   7589106\n",
      "\n"
     ]
    }
   ],
   "source": [
    "from sklearn.metrics import classification_report\n",
    "\n",
    "sk_report = classification_report(\n",
    "    digits=6,\n",
    "    y_true=y_test, \n",
    "    y_pred=y_pred_LR)\n",
    "print(sk_report)"
   ]
  },
  {
   "cell_type": "markdown",
   "metadata": {},
   "source": [
    "Cross validation"
   ]
  },
  {
   "cell_type": "code",
   "execution_count": null,
   "metadata": {},
   "outputs": [],
   "source": [
    "%%time\n",
    "from sklearn.model_selection import cross_val_score\n",
    "accuracies = cross_val_score(estimator = classifier, X = X_train, y = y_train, cv = 10)\n",
    "print(\"Accuracy: {:.2f} %\".format(accuracies.mean()*100))\n",
    "print(\"SD: {:.2f} %\".format(accuracies.std()*100))"
   ]
  },
  {
   "cell_type": "markdown",
   "metadata": {},
   "source": [
    "# Naive Bayes"
   ]
  },
  {
   "cell_type": "code",
   "execution_count": 23,
   "metadata": {},
   "outputs": [
    {
     "name": "stdout",
     "output_type": "stream",
     "text": [
      "CPU times: user 10.5 s, sys: 3.61 s, total: 14.1 s\n",
      "Wall time: 15.2 s\n"
     ]
    }
   ],
   "source": [
    "%%time\n",
    "# 16 seconds\n",
    "from sklearn.naive_bayes import GaussianNB\n",
    "classifier = GaussianNB()\n",
    "classifier.fit(X_train, y_train)\n",
    "\n",
    "y_pred_NB = classifier.predict(X_test)\n",
    "y_pred_NB_p = classifier.predict_proba(X_test)"
   ]
  },
  {
   "cell_type": "code",
   "execution_count": 64,
   "metadata": {},
   "outputs": [
    {
     "name": "stdout",
     "output_type": "stream",
     "text": [
      "Accuracy: 0.779739\n",
      "Precision: 0.781059\n",
      "Recall: 0.779739\n",
      "fscore: 0.780321\n",
      "CPU times: user 12.1 s, sys: 625 ms, total: 12.7 s\n",
      "Wall time: 12.9 s\n"
     ]
    },
    {
     "data": {
      "text/plain": [
       "Text(0.5, 1, 'Naive Bayes Confusion Matrix')"
      ]
     },
     "execution_count": 64,
     "metadata": {},
     "output_type": "execute_result"
    },
    {
     "data": {
      "image/png": "[encoded data removed]",
      "text/plain": [
       "<Figure size 576x396 with 2 Axes>"
      ]
     },
     "metadata": {},
     "output_type": "display_data"
    }
   ],
   "source": [
    "%%time\n",
    "# making the confusion matrix\n",
    "from sklearn.metrics import confusion_matrix, accuracy_score, precision_recall_fscore_support\n",
    "cm = confusion_matrix(y_test, y_pred_NB)\n",
    "#print(cm)\n",
    "print('Accuracy: %.6f' % accuracy_score(y_test, y_pred_NB))\n",
    "output = precision_recall_fscore_support(y_test, y_pred_NB, average='weighted')\n",
    "print('Precision: %.6f' % output[0])\n",
    "print('Recall: %.6f' % output[1])\n",
    "print('fscore: %.6f' % output[2])\n",
    "\n",
    "sn.heatmap(cm, annot=True, annot_kws={\"size\": 16}, fmt=\"d\")\n",
    "plt.xlabel('Predicted', fontsize=16)\n",
    "plt.ylabel('Actual', fontsize=16)\n",
    "plt.title('Naive Bayes Confusion Matrix',fontsize=20)"
   ]
  },
  {
   "cell_type": "code",
   "execution_count": 30,
   "metadata": {},
   "outputs": [
    {
     "name": "stdout",
     "output_type": "stream",
     "text": [
      "              precision    recall  f1-score   support\n",
      "\n",
      "           0   0.697018  0.715661  0.706217   2807379\n",
      "           1   0.830400  0.817360  0.823828   4781727\n",
      "\n",
      "    accuracy                       0.779739   7589106\n",
      "   macro avg   0.763709  0.766511  0.765023   7589106\n",
      "weighted avg   0.781059  0.779739  0.780321   7589106\n",
      "\n"
     ]
    }
   ],
   "source": [
    "from sklearn.metrics import classification_report\n",
    "\n",
    "sk_report = classification_report(\n",
    "    digits=6,\n",
    "    y_true=y_test, \n",
    "    y_pred=y_pred_NB)\n",
    "print(sk_report)"
   ]
  },
  {
   "cell_type": "code",
   "execution_count": 31,
   "metadata": {},
   "outputs": [
    {
     "name": "stdout",
     "output_type": "stream",
     "text": [
      "Accuracy: 78.00 %\n",
      "SD: 0.03 %\n",
      "CPU times: user 1min 44s, sys: 1min 18s, total: 3min 3s\n",
      "Wall time: 4min\n"
     ]
    }
   ],
   "source": [
    "%%time\n",
    "from sklearn.model_selection import cross_val_score\n",
    "accuracies = cross_val_score(estimator = classifier, X = X_train, y = y_train, cv = 10)\n",
    "print(\"Accuracy: {:.2f} %\".format(accuracies.mean()*100))\n",
    "print(\"SD: {:.2f} %\".format(accuracies.std()*100))"
   ]
  },
  {
   "cell_type": "markdown",
   "metadata": {},
   "source": [
    "## ROC curves"
   ]
  },
  {
   "cell_type": "code",
   "execution_count": 26,
   "metadata": {},
   "outputs": [
    {
     "name": "stdout",
     "output_type": "stream",
     "text": [
      "AUC on decision tree: 0.725\n",
      "AUC on logistic: 0.781\n",
      "AUC on Naive Bayes: 0.767\n"
     ]
    },
    {
     "data": {
      "image/png": "[encoded data removed]",
      "text/plain": [
       "<Figure size 432x288 with 1 Axes>"
      ]
     },
     "metadata": {
      "needs_background": "light"
     },
     "output_type": "display_data"
    }
   ],
   "source": [
    "from sklearn.metrics import roc_curve\n",
    "from sklearn.metrics import roc_auc_score\n",
    "# Decision tree\n",
    "fpr_dt_lm, tpr_dt_lm, _ = roc_curve(y_test, y_pred)\n",
    "# logistic\n",
    "fpr_lr_lm, tpr_lr_lm, _ = roc_curve(y_test, y_pred_LR_p[:,1])\n",
    "# Naive Bayes\n",
    "fpr_nb_lm, tpr_nb_lm, _ = roc_curve(y_test, y_pred_NB_p[:,1])\n",
    "\n",
    "print('AUC on decision tree: %.3f' % roc_auc_score(y_test, y_pred))\n",
    "print('AUC on logistic: %.3f' % roc_auc_score(y_test, y_pred_LR))\n",
    "print('AUC on Naive Bayes: %.3f' % roc_auc_score(y_test, y_pred_NB))\n",
    "\n",
    "plt.figure(1)\n",
    "plt.plot([0, 1], [0, 1], 'k--')\n",
    "plt.plot(fpr_dt_lm, tpr_dt_lm, label='Decision Tree')\n",
    "plt.plot(fpr_lr_lm, tpr_lr_lm, label='Logistic Regression')\n",
    "plt.plot(fpr_nb_lm, tpr_nb_lm, label='Naive Bayes')\n",
    "plt.xlabel('False positive rate')\n",
    "plt.ylabel('True positive rate')\n",
    "plt.title('ROC curve')\n",
    "plt.legend(loc='best')\n",
    "plt.show()"
   ]
  },
  {
   "cell_type": "code",
   "execution_count": 27,
   "metadata": {},
   "outputs": [
    {
     "name": "stdout",
     "output_type": "stream",
     "text": [
      "Decision Tree: f1=0.795 auc=0.860\n",
      "Logistic Regression: f1=0.849 auc=0.923\n",
      "Naive Bayes: f1=0.824 auc=0.885\n"
     ]
    },
    {
     "name": "stderr",
     "output_type": "stream",
     "text": [
      "/Users/donkim/opt/anaconda3/lib/python3.7/site-packages/IPython/core/pylabtools.py:132: UserWarning: Creating legend with loc=\"best\" can be slow with large amounts of data.\n",
      "  fig.canvas.print_figure(bytes_io, **kw)\n"
     ]
    },
    {
     "data": {
      "image/png": "[encoded data removed]",
      "text/plain": [
       "<Figure size 432x288 with 1 Axes>"
      ]
     },
     "metadata": {
      "needs_background": "light"
     },
     "output_type": "display_data"
    }
   ],
   "source": [
    "from sklearn.metrics import precision_recall_curve\n",
    "from sklearn.metrics import f1_score\n",
    "from sklearn.metrics import auc\n",
    "\n",
    "dt_precision, dt_recall, _ = precision_recall_curve(y_test, y_pred)\n",
    "dt_f1, dt_auc = f1_score(y_test, y_pred), auc(dt_recall, dt_precision)\n",
    "\n",
    "lr_precision, lr_recall, _ = precision_recall_curve(y_test, y_pred_LR_p[:,1])\n",
    "lr_f1, lr_auc = f1_score(y_test, y_pred_LR), auc(lr_recall, lr_precision)\n",
    "\n",
    "nb_precision, nb_recall, _ = precision_recall_curve(y_test, y_pred_NB_p[:,1])\n",
    "nb_f1, nb_auc = f1_score(y_test, y_pred_NB), auc(nb_recall, nb_precision)\n",
    "\n",
    "print('Decision Tree: f1=%.3f auc=%.3f' % (dt_f1, dt_auc))\n",
    "print('Logistic Regression: f1=%.3f auc=%.3f' % (lr_f1, lr_auc))\n",
    "print('Naive Bayes: f1=%.3f auc=%.3f' % (nb_f1, nb_auc))\n",
    "\n",
    "plt.plot(dt_recall, dt_precision, marker='.', label='Decision Tree')\n",
    "plt.plot(lr_recall, lr_precision, marker='.', label='Logistic Regression')\n",
    "plt.plot(nb_recall, nb_precision, marker='.', label='Naive Bayes')\n",
    "plt.xlabel('Recall')\n",
    "plt.ylabel('Precision')\n",
    "plt.title('Precision Recall Curve')\n",
    "plt.legend()\n",
    "plt.show()"
   ]
  },
  {
   "cell_type": "code",
   "execution_count": 90,
   "metadata": {},
   "outputs": [
    {
     "data": {
      "text/plain": [
       "Text(0.5, 1.0, 'F1, AUC, Accuracy scores comparison')"
      ]
     },
     "execution_count": 90,
     "metadata": {},
     "output_type": "execute_result"
    },
    {
     "data": {
      "image/png": "[encoded data removed]",
      "text/plain": [
       "<Figure size 576x396 with 1 Axes>"
      ]
     },
     "metadata": {},
     "output_type": "display_data"
    }
   ],
   "source": [
    "d = {'model':['Decision Tree','Logistic Regression','Naive Bayes'],\n",
    "     'F1':[dt_f1, lr_f1, nb_f1],\n",
    "     'AUC':[dt_auc, lr_auc,nb_auc],\n",
    "    'Accuracy':[0.742775,0.804859,0.779739]}\n",
    "scores = pd.DataFrame(data = d)\n",
    "#                      columns = ['f1','auc'])\n",
    "# scores.columns =['Decision Tree','Logistic Regression','Naive Bayes']\n",
    "\n",
    "ax = plt.gca()\n",
    "scores.plot(kind='line',x='model',y='F1',ax=ax)\n",
    "scores.plot(kind='line',x='model',y='AUC',ax=ax)\n",
    "scores.plot(kind='line',x='model',y='Accuracy',ax=ax)\n",
    "plt.title('F1, AUC, Accuracy scores comparison', fontsize = 15)"
   ]
  },
  {
   "cell_type": "markdown",
   "metadata": {},
   "source": [
    "Logistic gives the best result."
   ]
  }
 ],
 "metadata": {
  "colab": {
   "name": "instacart.ipynb",
   "provenance": []
  },
  "kernelspec": {
   "display_name": "Python 3",
   "language": "python",
   "name": "python3"
  },
  "language_info": {
   "codemirror_mode": {
    "name": "ipython",
    "version": 3
   },
   "file_extension": ".py",
   "mimetype": "text/x-python",
   "name": "python",
   "nbconvert_exporter": "python",
   "pygments_lexer": "ipython3",
   "version": "3.7.6"
  }
 },
 "nbformat": 4,
 "nbformat_minor": 1
}
